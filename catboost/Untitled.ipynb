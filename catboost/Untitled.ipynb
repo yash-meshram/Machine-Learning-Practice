{
 "cells": [
  {
   "cell_type": "code",
   "execution_count": 1,
   "id": "cd21aca7",
   "metadata": {},
   "outputs": [
    {
     "name": "stdout",
     "output_type": "stream",
     "text": [
      "1.0.0\n",
      "Enabling notebook extension jupyter-js-widgets/extension...\n",
      "      - Validating: \u001b[32mOK\u001b[0m\n"
     ]
    }
   ],
   "source": [
    "import os\n",
    "import pandas as pd\n",
    "import numpy as np\n",
    "np.set_printoptions(precision=4)\n",
    "import catboost\n",
    "print(catboost.__version__)\n",
    "from jupyterthemes import jtplot\n",
    "jtplot.style('default')\n",
    "!jupyter nbextension enable --py widgetsnbextension"
   ]
  },
  {
   "cell_type": "code",
   "execution_count": 2,
   "id": "0e565254",
   "metadata": {},
   "outputs": [],
   "source": [
    "from catboost.datasets import amazon\n",
    "\n",
    "(train_df, test_df) = amazon()"
   ]
  },
  {
   "cell_type": "code",
   "execution_count": 3,
   "id": "9b2aeec6",
   "metadata": {},
   "outputs": [
    {
     "data": {
      "text/html": [
       "<div>\n",
       "<style scoped>\n",
       "    .dataframe tbody tr th:only-of-type {\n",
       "        vertical-align: middle;\n",
       "    }\n",
       "\n",
       "    .dataframe tbody tr th {\n",
       "        vertical-align: top;\n",
       "    }\n",
       "\n",
       "    .dataframe thead th {\n",
       "        text-align: right;\n",
       "    }\n",
       "</style>\n",
       "<table border=\"1\" class=\"dataframe\">\n",
       "  <thead>\n",
       "    <tr style=\"text-align: right;\">\n",
       "      <th></th>\n",
       "      <th>ACTION</th>\n",
       "      <th>RESOURCE</th>\n",
       "      <th>MGR_ID</th>\n",
       "      <th>ROLE_ROLLUP_1</th>\n",
       "      <th>ROLE_ROLLUP_2</th>\n",
       "      <th>ROLE_DEPTNAME</th>\n",
       "      <th>ROLE_TITLE</th>\n",
       "      <th>ROLE_FAMILY_DESC</th>\n",
       "      <th>ROLE_FAMILY</th>\n",
       "      <th>ROLE_CODE</th>\n",
       "    </tr>\n",
       "  </thead>\n",
       "  <tbody>\n",
       "    <tr>\n",
       "      <th>0</th>\n",
       "      <td>1</td>\n",
       "      <td>39353</td>\n",
       "      <td>85475</td>\n",
       "      <td>117961</td>\n",
       "      <td>118300</td>\n",
       "      <td>123472</td>\n",
       "      <td>117905</td>\n",
       "      <td>117906</td>\n",
       "      <td>290919</td>\n",
       "      <td>117908</td>\n",
       "    </tr>\n",
       "    <tr>\n",
       "      <th>1</th>\n",
       "      <td>1</td>\n",
       "      <td>17183</td>\n",
       "      <td>1540</td>\n",
       "      <td>117961</td>\n",
       "      <td>118343</td>\n",
       "      <td>123125</td>\n",
       "      <td>118536</td>\n",
       "      <td>118536</td>\n",
       "      <td>308574</td>\n",
       "      <td>118539</td>\n",
       "    </tr>\n",
       "    <tr>\n",
       "      <th>2</th>\n",
       "      <td>1</td>\n",
       "      <td>36724</td>\n",
       "      <td>14457</td>\n",
       "      <td>118219</td>\n",
       "      <td>118220</td>\n",
       "      <td>117884</td>\n",
       "      <td>117879</td>\n",
       "      <td>267952</td>\n",
       "      <td>19721</td>\n",
       "      <td>117880</td>\n",
       "    </tr>\n",
       "    <tr>\n",
       "      <th>3</th>\n",
       "      <td>1</td>\n",
       "      <td>36135</td>\n",
       "      <td>5396</td>\n",
       "      <td>117961</td>\n",
       "      <td>118343</td>\n",
       "      <td>119993</td>\n",
       "      <td>118321</td>\n",
       "      <td>240983</td>\n",
       "      <td>290919</td>\n",
       "      <td>118322</td>\n",
       "    </tr>\n",
       "    <tr>\n",
       "      <th>4</th>\n",
       "      <td>1</td>\n",
       "      <td>42680</td>\n",
       "      <td>5905</td>\n",
       "      <td>117929</td>\n",
       "      <td>117930</td>\n",
       "      <td>119569</td>\n",
       "      <td>119323</td>\n",
       "      <td>123932</td>\n",
       "      <td>19793</td>\n",
       "      <td>119325</td>\n",
       "    </tr>\n",
       "  </tbody>\n",
       "</table>\n",
       "</div>"
      ],
      "text/plain": [
       "   ACTION  RESOURCE  MGR_ID  ROLE_ROLLUP_1  ROLE_ROLLUP_2  ROLE_DEPTNAME  \\\n",
       "0       1     39353   85475         117961         118300         123472   \n",
       "1       1     17183    1540         117961         118343         123125   \n",
       "2       1     36724   14457         118219         118220         117884   \n",
       "3       1     36135    5396         117961         118343         119993   \n",
       "4       1     42680    5905         117929         117930         119569   \n",
       "\n",
       "   ROLE_TITLE  ROLE_FAMILY_DESC  ROLE_FAMILY  ROLE_CODE  \n",
       "0      117905            117906       290919     117908  \n",
       "1      118536            118536       308574     118539  \n",
       "2      117879            267952        19721     117880  \n",
       "3      118321            240983       290919     118322  \n",
       "4      119323            123932        19793     119325  "
      ]
     },
     "execution_count": 3,
     "metadata": {},
     "output_type": "execute_result"
    }
   ],
   "source": [
    "train_df.head()"
   ]
  },
  {
   "cell_type": "code",
   "execution_count": 4,
   "id": "01ac73d7",
   "metadata": {},
   "outputs": [],
   "source": [
    "y = train_df.ACTION\n",
    "x = train_df.drop('ACTION', axis=1)"
   ]
  },
  {
   "cell_type": "code",
   "execution_count": 5,
   "id": "77a63cd3",
   "metadata": {},
   "outputs": [
    {
     "name": "stdout",
     "output_type": "stream",
     "text": [
      "[0, 1, 2, 3, 4, 5, 6, 7, 8]\n"
     ]
    }
   ],
   "source": [
    "cat_features = list(range(0, len(x.columns)))\n",
    "print(cat_features)"
   ]
  },
  {
   "cell_type": "code",
   "execution_count": 6,
   "id": "3c370250",
   "metadata": {},
   "outputs": [
    {
     "name": "stdout",
     "output_type": "stream",
     "text": [
      "Labels: {0, 1}\n",
      "Zero count = 1897, One count = 30872\n"
     ]
    }
   ],
   "source": [
    "print('Labels: {}'.format(set(y)))\n",
    "print('Zero count = {}, One count = {}'.format(len(y)-sum(y), sum(y)))"
   ]
  },
  {
   "cell_type": "markdown",
   "id": "532c0003",
   "metadata": {},
   "source": [
    "This is preety unbalanced"
   ]
  },
  {
   "cell_type": "markdown",
   "id": "8af9d771",
   "metadata": {},
   "source": [
    "Now lets train our model"
   ]
  },
  {
   "cell_type": "code",
   "execution_count": 7,
   "id": "2e183aa4",
   "metadata": {},
   "outputs": [
    {
     "name": "stdout",
     "output_type": "stream",
     "text": [
      "Learning rate set to 0.377604\n",
      "0:\tlearn: 0.4528598\ttotal: 91ms\tremaining: 9s\n",
      "10:\tlearn: 0.1744186\ttotal: 191ms\tremaining: 1.54s\n",
      "20:\tlearn: 0.1676119\ttotal: 295ms\tremaining: 1.11s\n",
      "30:\tlearn: 0.1652446\ttotal: 382ms\tremaining: 851ms\n",
      "40:\tlearn: 0.1633644\ttotal: 474ms\tremaining: 682ms\n",
      "50:\tlearn: 0.1621892\ttotal: 569ms\tremaining: 547ms\n",
      "60:\tlearn: 0.1609164\ttotal: 674ms\tremaining: 431ms\n",
      "70:\tlearn: 0.1594572\ttotal: 773ms\tremaining: 316ms\n",
      "80:\tlearn: 0.1585876\ttotal: 858ms\tremaining: 201ms\n",
      "90:\tlearn: 0.1573593\ttotal: 967ms\tremaining: 95.6ms\n",
      "99:\tlearn: 0.1566977\ttotal: 1.05s\tremaining: 0us\n"
     ]
    },
    {
     "data": {
      "text/plain": [
       "<catboost.core.CatBoostClassifier at 0x7f00258d6160>"
      ]
     },
     "execution_count": 7,
     "metadata": {},
     "output_type": "execute_result"
    }
   ],
   "source": [
    "from catboost import CatBoostClassifier\n",
    "model = CatBoostClassifier(iterations=100)  # we are training for 100 trees\n",
    "model.fit(x, y, cat_features=cat_features, verbose=10)\n",
    "\n",
    "# cat_features=cat_features is passing the index of the columns\n",
    "# you can also give columns name if yu want to use strings\n",
    "# But that will be quit a work :)"
   ]
  },
  {
   "cell_type": "code",
   "execution_count": 8,
   "id": "a4efd47e",
   "metadata": {},
   "outputs": [
    {
     "data": {
      "text/plain": [
       "array([[0.0098, 0.9902],\n",
       "       [0.0101, 0.9899],\n",
       "       [0.0579, 0.9421],\n",
       "       ...,\n",
       "       [0.0118, 0.9882],\n",
       "       [0.1891, 0.8109],\n",
       "       [0.0235, 0.9765]])"
      ]
     },
     "execution_count": 8,
     "metadata": {},
     "output_type": "execute_result"
    }
   ],
   "source": [
    "model.predict_proba(x)"
   ]
  },
  {
   "cell_type": "markdown",
   "id": "8fb73b1c",
   "metadata": {},
   "source": [
    "This is good, if we remove the n_iteration then by default it will be set as 1000\\\n",
    "But, in the imbalnce  dataset sometimes you add the extra columns weight\\\n",
    "large weight for the rare class and small weight for the very frequent class\\\n",
    "or somethime you might have something else like group id like we have for some modes"
   ]
  },
  {
   "cell_type": "markdown",
   "id": "0fd726ed",
   "metadata": {},
   "source": [
    "If you have lot of information then yu can create a pool class"
   ]
  },
  {
   "cell_type": "code",
   "execution_count": 9,
   "id": "394f87e5",
   "metadata": {},
   "outputs": [],
   "source": [
    "from catboost import Pool\n",
    "pool = Pool(data=x, label=y, cat_features=cat_features)"
   ]
  },
  {
   "cell_type": "code",
   "execution_count": 10,
   "id": "6c5cc579",
   "metadata": {},
   "outputs": [],
   "source": [
    "from sklearn.model_selection import train_test_split\n",
    "\n",
    "x_train, x_val, y_train, y_val = train_test_split(x, y, test_size=0.2, random_state=0)\n",
    "\n",
    "train_pool = Pool(\n",
    "                    data = x_train,\n",
    "                    label = y_train,\n",
    "                    cat_features = cat_features\n",
    ")\n",
    "\n",
    "val_pool = Pool(\n",
    "                    data = x_val,\n",
    "                    label = y_val,\n",
    "                    cat_features = cat_features\n",
    ")"
   ]
  },
  {
   "cell_type": "markdown",
   "id": "8401ecb8",
   "metadata": {},
   "source": [
    "Now, there are 2 objective function available\\\n",
    "1. Logloss: for binary target\\\n",
    "2. CrossEntropy: for probabilities in target\\\n",
    "\\\n",
    "It will be selected automatically"
   ]
  },
  {
   "cell_type": "code",
   "execution_count": 11,
   "id": "674667c9",
   "metadata": {},
   "outputs": [
    {
     "name": "stdout",
     "output_type": "stream",
     "text": [
      "0:\tlearn: 0.6189489\ttest: 0.6187790\tbest: 0.6187790 (0)\ttotal: 15.5ms\tremaining: 61.9ms\n",
      "1:\tlearn: 0.5585414\ttest: 0.5579742\tbest: 0.5579742 (1)\ttotal: 29.4ms\tremaining: 44.1ms\n",
      "2:\tlearn: 0.5083288\ttest: 0.5075307\tbest: 0.5075307 (2)\ttotal: 33.5ms\tremaining: 22.3ms\n",
      "3:\tlearn: 0.4661280\ttest: 0.4649882\tbest: 0.4649882 (3)\ttotal: 37.9ms\tremaining: 9.49ms\n",
      "4:\tlearn: 0.4305277\ttest: 0.4291119\tbest: 0.4291119 (4)\ttotal: 41.9ms\tremaining: 0us\n",
      "\n",
      "bestTest = 0.4291119343\n",
      "bestIteration = 4\n",
      "\n",
      "Model is fittef: True\n",
      "Model params: \n",
      "{'iterations': 5, 'learning_rate': 0.1}\n"
     ]
    }
   ],
   "source": [
    "model = CatBoostClassifier(\n",
    "                            iterations = 5,\n",
    "                            learning_rate = 0.1\n",
    ")\n",
    "\n",
    "model.fit(train_pool, eval_set = val_pool, verbose = 1)\n",
    "\n",
    "print('Model is fittef: {}'.format(model.is_fitted()))\n",
    "print('Model params: \\n{}'.format(model.get_params()))"
   ]
  },
  {
   "cell_type": "markdown",
   "id": "28700430",
   "metadata": {},
   "source": [
    "Oofcourse we wil not use iteration = 5 in real world :)"
   ]
  },
  {
   "cell_type": "code",
   "execution_count": 12,
   "id": "0af17662",
   "metadata": {},
   "outputs": [
    {
     "name": "stdout",
     "output_type": "stream",
     "text": [
      "Learning rate set to 0.071005\n",
      "0:\tlearn: 0.6102933\ttest: 0.6097438\tbest: 0.6097438 (0)\ttotal: 30.9ms\tremaining: 30.9s\n",
      "1:\tlearn: 0.5396455\ttest: 0.5376447\tbest: 0.5376447 (1)\ttotal: 44.2ms\tremaining: 22s\n",
      "2:\tlearn: 0.4846008\ttest: 0.4825247\tbest: 0.4825247 (2)\ttotal: 52.9ms\tremaining: 17.6s\n",
      "3:\tlearn: 0.4389560\ttest: 0.4368027\tbest: 0.4368027 (3)\ttotal: 60.5ms\tremaining: 15.1s\n",
      "4:\tlearn: 0.4001715\ttest: 0.3979680\tbest: 0.3979680 (4)\ttotal: 82.7ms\tremaining: 16.5s\n",
      "5:\tlearn: 0.3690323\ttest: 0.3667915\tbest: 0.3667915 (5)\ttotal: 100ms\tremaining: 16.6s\n",
      "6:\tlearn: 0.3438560\ttest: 0.3415709\tbest: 0.3415709 (6)\ttotal: 109ms\tremaining: 15.5s\n",
      "7:\tlearn: 0.3216339\ttest: 0.3190762\tbest: 0.3190762 (7)\ttotal: 121ms\tremaining: 15s\n",
      "8:\tlearn: 0.3014963\ttest: 0.2978330\tbest: 0.2978330 (8)\ttotal: 139ms\tremaining: 15.3s\n",
      "9:\tlearn: 0.2851202\ttest: 0.2812826\tbest: 0.2812826 (9)\ttotal: 169ms\tremaining: 16.8s\n",
      "10:\tlearn: 0.2696478\ttest: 0.2651098\tbest: 0.2651098 (10)\ttotal: 191ms\tremaining: 17.2s\n",
      "11:\tlearn: 0.2611625\ttest: 0.2565992\tbest: 0.2565992 (11)\ttotal: 196ms\tremaining: 16.1s\n",
      "12:\tlearn: 0.2522914\ttest: 0.2473742\tbest: 0.2473742 (12)\ttotal: 214ms\tremaining: 16.3s\n",
      "13:\tlearn: 0.2416058\ttest: 0.2362560\tbest: 0.2362560 (13)\ttotal: 247ms\tremaining: 17.4s\n",
      "14:\tlearn: 0.2314039\ttest: 0.2254663\tbest: 0.2254663 (14)\ttotal: 270ms\tremaining: 17.8s\n",
      "15:\tlearn: 0.2228833\ttest: 0.2163215\tbest: 0.2163215 (15)\ttotal: 304ms\tremaining: 18.7s\n",
      "16:\tlearn: 0.2156339\ttest: 0.2083176\tbest: 0.2083176 (16)\ttotal: 329ms\tremaining: 19s\n",
      "17:\tlearn: 0.2091827\ttest: 0.2009391\tbest: 0.2009391 (17)\ttotal: 357ms\tremaining: 19.5s\n",
      "18:\tlearn: 0.2040748\ttest: 0.1950860\tbest: 0.1950860 (18)\ttotal: 393ms\tremaining: 20.3s\n",
      "19:\tlearn: 0.1996897\ttest: 0.1896754\tbest: 0.1896754 (19)\ttotal: 422ms\tremaining: 20.7s\n",
      "20:\tlearn: 0.1958732\ttest: 0.1853455\tbest: 0.1853455 (20)\ttotal: 457ms\tremaining: 21.3s\n",
      "21:\tlearn: 0.1922353\ttest: 0.1812246\tbest: 0.1812246 (21)\ttotal: 484ms\tremaining: 21.5s\n",
      "22:\tlearn: 0.1892636\ttest: 0.1780542\tbest: 0.1780542 (22)\ttotal: 501ms\tremaining: 21.3s\n",
      "23:\tlearn: 0.1863418\ttest: 0.1743958\tbest: 0.1743958 (23)\ttotal: 541ms\tremaining: 22s\n",
      "24:\tlearn: 0.1841810\ttest: 0.1719634\tbest: 0.1719634 (24)\ttotal: 570ms\tremaining: 22.2s\n",
      "25:\tlearn: 0.1824642\ttest: 0.1701475\tbest: 0.1701475 (25)\ttotal: 592ms\tremaining: 22.2s\n",
      "26:\tlearn: 0.1805433\ttest: 0.1678660\tbest: 0.1678660 (26)\ttotal: 640ms\tremaining: 23.1s\n",
      "27:\tlearn: 0.1789509\ttest: 0.1657691\tbest: 0.1657691 (27)\ttotal: 664ms\tremaining: 23.1s\n",
      "28:\tlearn: 0.1775985\ttest: 0.1640402\tbest: 0.1640402 (28)\ttotal: 705ms\tremaining: 23.6s\n",
      "29:\tlearn: 0.1763260\ttest: 0.1626591\tbest: 0.1626591 (29)\ttotal: 740ms\tremaining: 23.9s\n",
      "30:\tlearn: 0.1752459\ttest: 0.1612086\tbest: 0.1612086 (30)\ttotal: 769ms\tremaining: 24s\n",
      "31:\tlearn: 0.1742370\ttest: 0.1601459\tbest: 0.1601459 (31)\ttotal: 813ms\tremaining: 24.6s\n",
      "32:\tlearn: 0.1732322\ttest: 0.1590664\tbest: 0.1590664 (32)\ttotal: 834ms\tremaining: 24.4s\n",
      "33:\tlearn: 0.1723790\ttest: 0.1579135\tbest: 0.1579135 (33)\ttotal: 877ms\tremaining: 24.9s\n",
      "34:\tlearn: 0.1712608\ttest: 0.1561705\tbest: 0.1561705 (34)\ttotal: 904ms\tremaining: 24.9s\n",
      "35:\tlearn: 0.1702957\ttest: 0.1549525\tbest: 0.1549525 (35)\ttotal: 937ms\tremaining: 25.1s\n",
      "36:\tlearn: 0.1692168\ttest: 0.1534705\tbest: 0.1534705 (36)\ttotal: 965ms\tremaining: 25.1s\n",
      "37:\tlearn: 0.1683652\ttest: 0.1521791\tbest: 0.1521791 (37)\ttotal: 999ms\tremaining: 25.3s\n",
      "38:\tlearn: 0.1677952\ttest: 0.1511732\tbest: 0.1511732 (38)\ttotal: 1.02s\tremaining: 25.2s\n",
      "39:\tlearn: 0.1671166\ttest: 0.1501389\tbest: 0.1501389 (39)\ttotal: 1.05s\tremaining: 25.3s\n",
      "40:\tlearn: 0.1663935\ttest: 0.1490276\tbest: 0.1490276 (40)\ttotal: 1.08s\tremaining: 25.2s\n",
      "41:\tlearn: 0.1659179\ttest: 0.1484928\tbest: 0.1484928 (41)\ttotal: 1.12s\tremaining: 25.6s\n",
      "42:\tlearn: 0.1653826\ttest: 0.1476827\tbest: 0.1476827 (42)\ttotal: 1.13s\tremaining: 25.2s\n",
      "43:\tlearn: 0.1649879\ttest: 0.1471017\tbest: 0.1471017 (43)\ttotal: 1.15s\tremaining: 24.9s\n",
      "44:\tlearn: 0.1646550\ttest: 0.1466393\tbest: 0.1466393 (44)\ttotal: 1.18s\tremaining: 25s\n",
      "45:\tlearn: 0.1640866\ttest: 0.1458868\tbest: 0.1458868 (45)\ttotal: 1.2s\tremaining: 24.9s\n",
      "46:\tlearn: 0.1636362\ttest: 0.1451025\tbest: 0.1451025 (46)\ttotal: 1.23s\tremaining: 25s\n",
      "47:\tlearn: 0.1633568\ttest: 0.1446802\tbest: 0.1446802 (47)\ttotal: 1.26s\tremaining: 25s\n",
      "48:\tlearn: 0.1629287\ttest: 0.1441532\tbest: 0.1441532 (48)\ttotal: 1.28s\tremaining: 24.9s\n",
      "49:\tlearn: 0.1625077\ttest: 0.1438138\tbest: 0.1438138 (49)\ttotal: 1.33s\tremaining: 25.2s\n",
      "50:\tlearn: 0.1622988\ttest: 0.1435436\tbest: 0.1435436 (50)\ttotal: 1.35s\tremaining: 25.1s\n",
      "51:\tlearn: 0.1616286\ttest: 0.1432047\tbest: 0.1432047 (51)\ttotal: 1.39s\tremaining: 25.4s\n",
      "52:\tlearn: 0.1613329\ttest: 0.1428772\tbest: 0.1428772 (52)\ttotal: 1.43s\tremaining: 25.5s\n",
      "53:\tlearn: 0.1608640\ttest: 0.1425558\tbest: 0.1425558 (53)\ttotal: 1.46s\tremaining: 25.6s\n",
      "54:\tlearn: 0.1604521\ttest: 0.1422488\tbest: 0.1422488 (54)\ttotal: 1.5s\tremaining: 25.7s\n",
      "55:\tlearn: 0.1601893\ttest: 0.1420708\tbest: 0.1420708 (55)\ttotal: 1.54s\tremaining: 25.9s\n",
      "56:\tlearn: 0.1600595\ttest: 0.1417612\tbest: 0.1417612 (56)\ttotal: 1.59s\tremaining: 26.3s\n",
      "57:\tlearn: 0.1596476\ttest: 0.1415839\tbest: 0.1415839 (57)\ttotal: 1.63s\tremaining: 26.5s\n",
      "58:\tlearn: 0.1593010\ttest: 0.1412532\tbest: 0.1412532 (58)\ttotal: 1.66s\tremaining: 26.6s\n",
      "59:\tlearn: 0.1590161\ttest: 0.1410585\tbest: 0.1410585 (59)\ttotal: 1.69s\tremaining: 26.5s\n",
      "60:\tlearn: 0.1589170\ttest: 0.1408922\tbest: 0.1408922 (60)\ttotal: 1.75s\tremaining: 26.9s\n",
      "61:\tlearn: 0.1586538\ttest: 0.1406774\tbest: 0.1406774 (61)\ttotal: 1.78s\tremaining: 26.9s\n",
      "62:\tlearn: 0.1584803\ttest: 0.1405973\tbest: 0.1405973 (62)\ttotal: 1.81s\tremaining: 26.9s\n",
      "63:\tlearn: 0.1582136\ttest: 0.1403427\tbest: 0.1403427 (63)\ttotal: 1.85s\tremaining: 27.1s\n",
      "64:\tlearn: 0.1579511\ttest: 0.1402735\tbest: 0.1402735 (64)\ttotal: 1.89s\tremaining: 27.2s\n",
      "65:\tlearn: 0.1577324\ttest: 0.1399444\tbest: 0.1399444 (65)\ttotal: 1.93s\tremaining: 27.3s\n",
      "66:\tlearn: 0.1575267\ttest: 0.1398583\tbest: 0.1398583 (66)\ttotal: 1.95s\tremaining: 27.1s\n",
      "67:\tlearn: 0.1574281\ttest: 0.1397887\tbest: 0.1397887 (67)\ttotal: 2s\tremaining: 27.4s\n",
      "68:\tlearn: 0.1572304\ttest: 0.1397246\tbest: 0.1397246 (68)\ttotal: 2.02s\tremaining: 27.3s\n",
      "69:\tlearn: 0.1571328\ttest: 0.1396428\tbest: 0.1396428 (69)\ttotal: 2.05s\tremaining: 27.3s\n",
      "70:\tlearn: 0.1569592\ttest: 0.1395065\tbest: 0.1395065 (70)\ttotal: 2.1s\tremaining: 27.5s\n",
      "71:\tlearn: 0.1566872\ttest: 0.1392040\tbest: 0.1392040 (71)\ttotal: 2.13s\tremaining: 27.5s\n",
      "72:\tlearn: 0.1564763\ttest: 0.1388896\tbest: 0.1388896 (72)\ttotal: 2.18s\tremaining: 27.7s\n",
      "73:\tlearn: 0.1563981\ttest: 0.1387100\tbest: 0.1387100 (73)\ttotal: 2.22s\tremaining: 27.8s\n",
      "74:\tlearn: 0.1562653\ttest: 0.1385635\tbest: 0.1385635 (74)\ttotal: 2.25s\tremaining: 27.8s\n",
      "75:\tlearn: 0.1562030\ttest: 0.1385789\tbest: 0.1385635 (74)\ttotal: 2.28s\tremaining: 27.7s\n",
      "76:\tlearn: 0.1561919\ttest: 0.1385543\tbest: 0.1385543 (76)\ttotal: 2.3s\tremaining: 27.6s\n",
      "77:\tlearn: 0.1560251\ttest: 0.1384738\tbest: 0.1384738 (77)\ttotal: 2.33s\tremaining: 27.6s\n",
      "78:\tlearn: 0.1558541\ttest: 0.1383158\tbest: 0.1383158 (78)\ttotal: 2.36s\tremaining: 27.5s\n",
      "79:\tlearn: 0.1557445\ttest: 0.1382209\tbest: 0.1382209 (79)\ttotal: 2.39s\tremaining: 27.4s\n",
      "80:\tlearn: 0.1556694\ttest: 0.1381110\tbest: 0.1381110 (80)\ttotal: 2.42s\tremaining: 27.4s\n",
      "81:\tlearn: 0.1556273\ttest: 0.1380651\tbest: 0.1380651 (81)\ttotal: 2.45s\tremaining: 27.4s\n",
      "82:\tlearn: 0.1555121\ttest: 0.1378755\tbest: 0.1378755 (82)\ttotal: 2.49s\tremaining: 27.5s\n",
      "83:\tlearn: 0.1552707\ttest: 0.1378307\tbest: 0.1378307 (83)\ttotal: 2.53s\tremaining: 27.6s\n",
      "84:\tlearn: 0.1551520\ttest: 0.1377144\tbest: 0.1377144 (84)\ttotal: 2.57s\tremaining: 27.7s\n",
      "85:\tlearn: 0.1550710\ttest: 0.1376371\tbest: 0.1376371 (85)\ttotal: 2.6s\tremaining: 27.6s\n",
      "86:\tlearn: 0.1550188\ttest: 0.1375901\tbest: 0.1375901 (86)\ttotal: 2.64s\tremaining: 27.7s\n",
      "87:\tlearn: 0.1549431\ttest: 0.1375971\tbest: 0.1375901 (86)\ttotal: 2.68s\tremaining: 27.7s\n",
      "88:\tlearn: 0.1548042\ttest: 0.1374930\tbest: 0.1374930 (88)\ttotal: 2.7s\tremaining: 27.7s\n",
      "89:\tlearn: 0.1547265\ttest: 0.1374231\tbest: 0.1374231 (89)\ttotal: 2.73s\tremaining: 27.6s\n",
      "90:\tlearn: 0.1546308\ttest: 0.1372696\tbest: 0.1372696 (90)\ttotal: 2.76s\tremaining: 27.6s\n",
      "91:\tlearn: 0.1546308\ttest: 0.1372696\tbest: 0.1372696 (90)\ttotal: 2.76s\tremaining: 27.3s\n",
      "92:\tlearn: 0.1545993\ttest: 0.1372594\tbest: 0.1372594 (92)\ttotal: 2.8s\tremaining: 27.3s\n",
      "93:\tlearn: 0.1544646\ttest: 0.1371345\tbest: 0.1371345 (93)\ttotal: 2.83s\tremaining: 27.3s\n"
     ]
    },
    {
     "name": "stdout",
     "output_type": "stream",
     "text": [
      "94:\tlearn: 0.1543859\ttest: 0.1370516\tbest: 0.1370516 (94)\ttotal: 2.89s\tremaining: 27.6s\n",
      "95:\tlearn: 0.1542782\ttest: 0.1369699\tbest: 0.1369699 (95)\ttotal: 2.93s\tremaining: 27.6s\n",
      "96:\tlearn: 0.1541290\ttest: 0.1368277\tbest: 0.1368277 (96)\ttotal: 2.96s\tremaining: 27.6s\n",
      "97:\tlearn: 0.1540235\ttest: 0.1367283\tbest: 0.1367283 (97)\ttotal: 3.01s\tremaining: 27.7s\n",
      "98:\tlearn: 0.1540130\ttest: 0.1367357\tbest: 0.1367283 (97)\ttotal: 3.04s\tremaining: 27.6s\n",
      "99:\tlearn: 0.1538844\ttest: 0.1366351\tbest: 0.1366351 (99)\ttotal: 3.08s\tremaining: 27.8s\n",
      "100:\tlearn: 0.1538627\ttest: 0.1366280\tbest: 0.1366280 (100)\ttotal: 3.12s\tremaining: 27.7s\n",
      "101:\tlearn: 0.1538465\ttest: 0.1366102\tbest: 0.1366102 (101)\ttotal: 3.15s\tremaining: 27.7s\n",
      "102:\tlearn: 0.1537935\ttest: 0.1365734\tbest: 0.1365734 (102)\ttotal: 3.19s\tremaining: 27.8s\n",
      "103:\tlearn: 0.1537262\ttest: 0.1365485\tbest: 0.1365485 (103)\ttotal: 3.23s\tremaining: 27.8s\n",
      "104:\tlearn: 0.1536823\ttest: 0.1365459\tbest: 0.1365459 (104)\ttotal: 3.26s\tremaining: 27.8s\n",
      "105:\tlearn: 0.1536309\ttest: 0.1364984\tbest: 0.1364984 (105)\ttotal: 3.31s\tremaining: 27.9s\n",
      "106:\tlearn: 0.1535295\ttest: 0.1364916\tbest: 0.1364916 (106)\ttotal: 3.33s\tremaining: 27.8s\n",
      "107:\tlearn: 0.1534206\ttest: 0.1364122\tbest: 0.1364122 (107)\ttotal: 3.39s\tremaining: 28s\n",
      "108:\tlearn: 0.1533048\ttest: 0.1364313\tbest: 0.1364122 (107)\ttotal: 3.41s\tremaining: 27.9s\n",
      "109:\tlearn: 0.1533007\ttest: 0.1364294\tbest: 0.1364122 (107)\ttotal: 3.44s\tremaining: 27.9s\n",
      "110:\tlearn: 0.1531221\ttest: 0.1363881\tbest: 0.1363881 (110)\ttotal: 3.47s\tremaining: 27.8s\n",
      "111:\tlearn: 0.1530279\ttest: 0.1363859\tbest: 0.1363859 (111)\ttotal: 3.52s\tremaining: 27.9s\n",
      "112:\tlearn: 0.1529300\ttest: 0.1363707\tbest: 0.1363707 (112)\ttotal: 3.56s\tremaining: 27.9s\n",
      "113:\tlearn: 0.1528879\ttest: 0.1363947\tbest: 0.1363707 (112)\ttotal: 3.6s\tremaining: 28s\n",
      "114:\tlearn: 0.1528068\ttest: 0.1363604\tbest: 0.1363604 (114)\ttotal: 3.63s\tremaining: 28s\n",
      "115:\tlearn: 0.1526789\ttest: 0.1363227\tbest: 0.1363227 (115)\ttotal: 3.68s\tremaining: 28.1s\n",
      "116:\tlearn: 0.1526065\ttest: 0.1362849\tbest: 0.1362849 (116)\ttotal: 3.71s\tremaining: 28s\n",
      "117:\tlearn: 0.1524790\ttest: 0.1362422\tbest: 0.1362422 (117)\ttotal: 3.74s\tremaining: 28s\n",
      "118:\tlearn: 0.1524181\ttest: 0.1362475\tbest: 0.1362422 (117)\ttotal: 3.79s\tremaining: 28.1s\n",
      "119:\tlearn: 0.1523253\ttest: 0.1362705\tbest: 0.1362422 (117)\ttotal: 3.82s\tremaining: 28s\n",
      "120:\tlearn: 0.1522856\ttest: 0.1362554\tbest: 0.1362422 (117)\ttotal: 3.85s\tremaining: 28s\n",
      "121:\tlearn: 0.1521737\ttest: 0.1362444\tbest: 0.1362422 (117)\ttotal: 3.88s\tremaining: 27.9s\n",
      "122:\tlearn: 0.1519938\ttest: 0.1360828\tbest: 0.1360828 (122)\ttotal: 3.92s\tremaining: 28s\n",
      "123:\tlearn: 0.1519330\ttest: 0.1360437\tbest: 0.1360437 (123)\ttotal: 3.95s\tremaining: 27.9s\n",
      "124:\tlearn: 0.1518166\ttest: 0.1360014\tbest: 0.1360014 (124)\ttotal: 4s\tremaining: 28s\n",
      "125:\tlearn: 0.1517762\ttest: 0.1359594\tbest: 0.1359594 (125)\ttotal: 4.04s\tremaining: 28s\n",
      "126:\tlearn: 0.1516585\ttest: 0.1358481\tbest: 0.1358481 (126)\ttotal: 4.08s\tremaining: 28.1s\n",
      "127:\tlearn: 0.1516213\ttest: 0.1358400\tbest: 0.1358400 (127)\ttotal: 4.11s\tremaining: 28s\n",
      "128:\tlearn: 0.1515655\ttest: 0.1358469\tbest: 0.1358400 (127)\ttotal: 4.15s\tremaining: 28s\n",
      "129:\tlearn: 0.1515119\ttest: 0.1358092\tbest: 0.1358092 (129)\ttotal: 4.18s\tremaining: 28s\n",
      "130:\tlearn: 0.1514183\ttest: 0.1357007\tbest: 0.1357007 (130)\ttotal: 4.2s\tremaining: 27.9s\n",
      "131:\tlearn: 0.1513976\ttest: 0.1357127\tbest: 0.1357007 (130)\ttotal: 4.25s\tremaining: 28s\n",
      "132:\tlearn: 0.1512565\ttest: 0.1355916\tbest: 0.1355916 (132)\ttotal: 4.29s\tremaining: 28s\n",
      "133:\tlearn: 0.1512068\ttest: 0.1355856\tbest: 0.1355856 (133)\ttotal: 4.32s\tremaining: 27.9s\n",
      "134:\tlearn: 0.1510624\ttest: 0.1357002\tbest: 0.1355856 (133)\ttotal: 4.36s\tremaining: 27.9s\n",
      "135:\tlearn: 0.1509016\ttest: 0.1355498\tbest: 0.1355498 (135)\ttotal: 4.4s\tremaining: 27.9s\n",
      "136:\tlearn: 0.1508079\ttest: 0.1355409\tbest: 0.1355409 (136)\ttotal: 4.43s\tremaining: 27.9s\n",
      "137:\tlearn: 0.1507671\ttest: 0.1354960\tbest: 0.1354960 (137)\ttotal: 4.47s\tremaining: 27.9s\n",
      "138:\tlearn: 0.1506439\ttest: 0.1353240\tbest: 0.1353240 (138)\ttotal: 4.52s\tremaining: 28s\n",
      "139:\tlearn: 0.1504520\ttest: 0.1351393\tbest: 0.1351393 (139)\ttotal: 4.54s\tremaining: 27.9s\n",
      "140:\tlearn: 0.1504107\ttest: 0.1350909\tbest: 0.1350909 (140)\ttotal: 4.57s\tremaining: 27.9s\n",
      "141:\tlearn: 0.1503173\ttest: 0.1350992\tbest: 0.1350909 (140)\ttotal: 4.61s\tremaining: 27.9s\n",
      "142:\tlearn: 0.1502573\ttest: 0.1351071\tbest: 0.1350909 (140)\ttotal: 4.64s\tremaining: 27.8s\n",
      "143:\tlearn: 0.1502095\ttest: 0.1350844\tbest: 0.1350844 (143)\ttotal: 4.68s\tremaining: 27.8s\n",
      "144:\tlearn: 0.1501856\ttest: 0.1350786\tbest: 0.1350786 (144)\ttotal: 4.72s\tremaining: 27.8s\n",
      "145:\tlearn: 0.1501482\ttest: 0.1350573\tbest: 0.1350573 (145)\ttotal: 4.74s\tremaining: 27.7s\n",
      "146:\tlearn: 0.1500765\ttest: 0.1350276\tbest: 0.1350276 (146)\ttotal: 4.79s\tremaining: 27.8s\n",
      "147:\tlearn: 0.1500228\ttest: 0.1350566\tbest: 0.1350276 (146)\ttotal: 4.83s\tremaining: 27.8s\n",
      "148:\tlearn: 0.1498821\ttest: 0.1350529\tbest: 0.1350276 (146)\ttotal: 4.85s\tremaining: 27.7s\n",
      "149:\tlearn: 0.1498092\ttest: 0.1350443\tbest: 0.1350276 (146)\ttotal: 4.89s\tremaining: 27.7s\n",
      "150:\tlearn: 0.1497090\ttest: 0.1349773\tbest: 0.1349773 (150)\ttotal: 4.92s\tremaining: 27.7s\n",
      "151:\tlearn: 0.1496319\ttest: 0.1349721\tbest: 0.1349721 (151)\ttotal: 4.96s\tremaining: 27.7s\n",
      "152:\tlearn: 0.1496319\ttest: 0.1349720\tbest: 0.1349720 (152)\ttotal: 4.98s\tremaining: 27.6s\n",
      "153:\tlearn: 0.1495525\ttest: 0.1349580\tbest: 0.1349580 (153)\ttotal: 5.02s\tremaining: 27.6s\n",
      "154:\tlearn: 0.1494979\ttest: 0.1349350\tbest: 0.1349350 (154)\ttotal: 5.05s\tremaining: 27.5s\n",
      "155:\tlearn: 0.1494625\ttest: 0.1349246\tbest: 0.1349246 (155)\ttotal: 5.08s\tremaining: 27.5s\n",
      "156:\tlearn: 0.1493889\ttest: 0.1348761\tbest: 0.1348761 (156)\ttotal: 5.12s\tremaining: 27.5s\n",
      "157:\tlearn: 0.1493377\ttest: 0.1348378\tbest: 0.1348378 (157)\ttotal: 5.16s\tremaining: 27.5s\n",
      "158:\tlearn: 0.1492671\ttest: 0.1348080\tbest: 0.1348080 (158)\ttotal: 5.21s\tremaining: 27.5s\n",
      "159:\tlearn: 0.1492001\ttest: 0.1348089\tbest: 0.1348080 (158)\ttotal: 5.25s\tremaining: 27.6s\n",
      "160:\tlearn: 0.1491169\ttest: 0.1347525\tbest: 0.1347525 (160)\ttotal: 5.29s\tremaining: 27.6s\n",
      "161:\tlearn: 0.1490230\ttest: 0.1346580\tbest: 0.1346580 (161)\ttotal: 5.33s\tremaining: 27.6s\n",
      "162:\tlearn: 0.1489058\ttest: 0.1345285\tbest: 0.1345285 (162)\ttotal: 5.38s\tremaining: 27.6s\n",
      "163:\tlearn: 0.1487895\ttest: 0.1345009\tbest: 0.1345009 (163)\ttotal: 5.42s\tremaining: 27.6s\n",
      "164:\tlearn: 0.1487104\ttest: 0.1345183\tbest: 0.1345009 (163)\ttotal: 5.48s\tremaining: 27.7s\n",
      "165:\tlearn: 0.1486573\ttest: 0.1344940\tbest: 0.1344940 (165)\ttotal: 5.51s\tremaining: 27.7s\n",
      "166:\tlearn: 0.1486316\ttest: 0.1344763\tbest: 0.1344763 (166)\ttotal: 5.56s\tremaining: 27.7s\n",
      "167:\tlearn: 0.1485970\ttest: 0.1344897\tbest: 0.1344763 (166)\ttotal: 5.59s\tremaining: 27.7s\n",
      "168:\tlearn: 0.1484888\ttest: 0.1343781\tbest: 0.1343781 (168)\ttotal: 5.64s\tremaining: 27.7s\n",
      "169:\tlearn: 0.1483954\ttest: 0.1343379\tbest: 0.1343379 (169)\ttotal: 5.66s\tremaining: 27.6s\n",
      "170:\tlearn: 0.1483199\ttest: 0.1343672\tbest: 0.1343379 (169)\ttotal: 5.7s\tremaining: 27.6s\n",
      "171:\tlearn: 0.1482686\ttest: 0.1343449\tbest: 0.1343379 (169)\ttotal: 5.74s\tremaining: 27.6s\n",
      "172:\tlearn: 0.1480614\ttest: 0.1342481\tbest: 0.1342481 (172)\ttotal: 5.78s\tremaining: 27.6s\n",
      "173:\tlearn: 0.1478261\ttest: 0.1341829\tbest: 0.1341829 (173)\ttotal: 5.82s\tremaining: 27.6s\n",
      "174:\tlearn: 0.1477990\ttest: 0.1341673\tbest: 0.1341673 (174)\ttotal: 5.84s\tremaining: 27.5s\n",
      "175:\tlearn: 0.1477507\ttest: 0.1341459\tbest: 0.1341459 (175)\ttotal: 5.88s\tremaining: 27.5s\n",
      "176:\tlearn: 0.1476498\ttest: 0.1341409\tbest: 0.1341409 (176)\ttotal: 5.92s\tremaining: 27.5s\n",
      "177:\tlearn: 0.1475771\ttest: 0.1341377\tbest: 0.1341377 (177)\ttotal: 5.94s\tremaining: 27.4s\n",
      "178:\tlearn: 0.1474578\ttest: 0.1341000\tbest: 0.1341000 (178)\ttotal: 5.98s\tremaining: 27.4s\n",
      "179:\tlearn: 0.1473670\ttest: 0.1341134\tbest: 0.1341000 (178)\ttotal: 6.03s\tremaining: 27.5s\n",
      "180:\tlearn: 0.1472058\ttest: 0.1341389\tbest: 0.1341000 (178)\ttotal: 6.06s\tremaining: 27.4s\n",
      "181:\tlearn: 0.1471431\ttest: 0.1341206\tbest: 0.1341000 (178)\ttotal: 6.1s\tremaining: 27.4s\n",
      "182:\tlearn: 0.1470865\ttest: 0.1340434\tbest: 0.1340434 (182)\ttotal: 6.13s\tremaining: 27.3s\n",
      "183:\tlearn: 0.1470599\ttest: 0.1340412\tbest: 0.1340412 (183)\ttotal: 6.16s\tremaining: 27.3s\n",
      "184:\tlearn: 0.1469989\ttest: 0.1340205\tbest: 0.1340205 (184)\ttotal: 6.2s\tremaining: 27.3s\n",
      "185:\tlearn: 0.1469245\ttest: 0.1339591\tbest: 0.1339591 (185)\ttotal: 6.25s\tremaining: 27.3s\n",
      "186:\tlearn: 0.1468515\ttest: 0.1339486\tbest: 0.1339486 (186)\ttotal: 6.29s\tremaining: 27.4s\n",
      "187:\tlearn: 0.1466648\ttest: 0.1338873\tbest: 0.1338873 (187)\ttotal: 6.33s\tremaining: 27.4s\n",
      "188:\tlearn: 0.1466302\ttest: 0.1338990\tbest: 0.1338873 (187)\ttotal: 6.36s\tremaining: 27.3s\n"
     ]
    },
    {
     "name": "stdout",
     "output_type": "stream",
     "text": [
      "189:\tlearn: 0.1465355\ttest: 0.1339208\tbest: 0.1338873 (187)\ttotal: 6.4s\tremaining: 27.3s\n",
      "190:\tlearn: 0.1464396\ttest: 0.1338458\tbest: 0.1338458 (190)\ttotal: 6.44s\tremaining: 27.3s\n",
      "191:\tlearn: 0.1463521\ttest: 0.1338597\tbest: 0.1338458 (190)\ttotal: 6.48s\tremaining: 27.3s\n",
      "192:\tlearn: 0.1463120\ttest: 0.1338452\tbest: 0.1338452 (192)\ttotal: 6.51s\tremaining: 27.2s\n",
      "193:\tlearn: 0.1462493\ttest: 0.1338409\tbest: 0.1338409 (193)\ttotal: 6.55s\tremaining: 27.2s\n",
      "194:\tlearn: 0.1461303\ttest: 0.1338385\tbest: 0.1338385 (194)\ttotal: 6.59s\tremaining: 27.2s\n",
      "195:\tlearn: 0.1461023\ttest: 0.1338373\tbest: 0.1338373 (195)\ttotal: 6.62s\tremaining: 27.2s\n",
      "196:\tlearn: 0.1460851\ttest: 0.1338505\tbest: 0.1338373 (195)\ttotal: 6.67s\tremaining: 27.2s\n",
      "197:\tlearn: 0.1460341\ttest: 0.1338093\tbest: 0.1338093 (197)\ttotal: 6.7s\tremaining: 27.1s\n",
      "198:\tlearn: 0.1459501\ttest: 0.1337806\tbest: 0.1337806 (198)\ttotal: 6.74s\tremaining: 27.1s\n",
      "199:\tlearn: 0.1457813\ttest: 0.1337487\tbest: 0.1337487 (199)\ttotal: 6.82s\tremaining: 27.3s\n",
      "200:\tlearn: 0.1457584\ttest: 0.1337447\tbest: 0.1337447 (200)\ttotal: 6.86s\tremaining: 27.3s\n",
      "201:\tlearn: 0.1457052\ttest: 0.1337413\tbest: 0.1337413 (201)\ttotal: 6.89s\tremaining: 27.2s\n",
      "202:\tlearn: 0.1456095\ttest: 0.1337574\tbest: 0.1337413 (201)\ttotal: 6.95s\tremaining: 27.3s\n",
      "203:\tlearn: 0.1455124\ttest: 0.1338264\tbest: 0.1337413 (201)\ttotal: 7.01s\tremaining: 27.4s\n",
      "204:\tlearn: 0.1453938\ttest: 0.1337945\tbest: 0.1337413 (201)\ttotal: 7.07s\tremaining: 27.4s\n",
      "205:\tlearn: 0.1453578\ttest: 0.1337868\tbest: 0.1337413 (201)\ttotal: 7.13s\tremaining: 27.5s\n",
      "206:\tlearn: 0.1453316\ttest: 0.1337733\tbest: 0.1337413 (201)\ttotal: 7.18s\tremaining: 27.5s\n",
      "207:\tlearn: 0.1452900\ttest: 0.1337687\tbest: 0.1337413 (201)\ttotal: 7.23s\tremaining: 27.5s\n",
      "208:\tlearn: 0.1452046\ttest: 0.1337272\tbest: 0.1337272 (208)\ttotal: 7.29s\tremaining: 27.6s\n",
      "209:\tlearn: 0.1451165\ttest: 0.1337207\tbest: 0.1337207 (209)\ttotal: 7.36s\tremaining: 27.7s\n",
      "210:\tlearn: 0.1451065\ttest: 0.1337376\tbest: 0.1337207 (209)\ttotal: 7.39s\tremaining: 27.7s\n",
      "211:\tlearn: 0.1450527\ttest: 0.1336962\tbest: 0.1336962 (211)\ttotal: 7.47s\tremaining: 27.8s\n",
      "212:\tlearn: 0.1449717\ttest: 0.1337081\tbest: 0.1336962 (211)\ttotal: 7.52s\tremaining: 27.8s\n",
      "213:\tlearn: 0.1449153\ttest: 0.1336920\tbest: 0.1336920 (213)\ttotal: 7.57s\tremaining: 27.8s\n",
      "214:\tlearn: 0.1448486\ttest: 0.1336642\tbest: 0.1336642 (214)\ttotal: 7.6s\tremaining: 27.8s\n",
      "215:\tlearn: 0.1447532\ttest: 0.1336665\tbest: 0.1336642 (214)\ttotal: 7.67s\tremaining: 27.8s\n",
      "216:\tlearn: 0.1446633\ttest: 0.1336532\tbest: 0.1336532 (216)\ttotal: 7.74s\tremaining: 27.9s\n",
      "217:\tlearn: 0.1444820\ttest: 0.1335933\tbest: 0.1335933 (217)\ttotal: 7.82s\tremaining: 28.1s\n",
      "218:\tlearn: 0.1444452\ttest: 0.1335678\tbest: 0.1335678 (218)\ttotal: 7.87s\tremaining: 28.1s\n",
      "219:\tlearn: 0.1443698\ttest: 0.1335556\tbest: 0.1335556 (219)\ttotal: 7.91s\tremaining: 28s\n",
      "220:\tlearn: 0.1443072\ttest: 0.1335609\tbest: 0.1335556 (219)\ttotal: 7.96s\tremaining: 28.1s\n",
      "221:\tlearn: 0.1441815\ttest: 0.1335599\tbest: 0.1335556 (219)\ttotal: 8s\tremaining: 28s\n",
      "222:\tlearn: 0.1441175\ttest: 0.1335062\tbest: 0.1335062 (222)\ttotal: 8.04s\tremaining: 28s\n",
      "223:\tlearn: 0.1440521\ttest: 0.1335125\tbest: 0.1335062 (222)\ttotal: 8.07s\tremaining: 28s\n",
      "224:\tlearn: 0.1439860\ttest: 0.1335132\tbest: 0.1335062 (222)\ttotal: 8.09s\tremaining: 27.9s\n",
      "225:\tlearn: 0.1439300\ttest: 0.1335422\tbest: 0.1335062 (222)\ttotal: 8.14s\tremaining: 27.9s\n",
      "226:\tlearn: 0.1438130\ttest: 0.1335137\tbest: 0.1335062 (222)\ttotal: 8.16s\tremaining: 27.8s\n",
      "227:\tlearn: 0.1437153\ttest: 0.1335239\tbest: 0.1335062 (222)\ttotal: 8.2s\tremaining: 27.8s\n",
      "228:\tlearn: 0.1436788\ttest: 0.1335160\tbest: 0.1335062 (222)\ttotal: 8.23s\tremaining: 27.7s\n",
      "229:\tlearn: 0.1436135\ttest: 0.1334974\tbest: 0.1334974 (229)\ttotal: 8.28s\tremaining: 27.7s\n",
      "230:\tlearn: 0.1435319\ttest: 0.1335268\tbest: 0.1334974 (229)\ttotal: 8.32s\tremaining: 27.7s\n",
      "231:\tlearn: 0.1434462\ttest: 0.1335403\tbest: 0.1334974 (229)\ttotal: 8.36s\tremaining: 27.7s\n",
      "232:\tlearn: 0.1434109\ttest: 0.1335202\tbest: 0.1334974 (229)\ttotal: 8.38s\tremaining: 27.6s\n",
      "233:\tlearn: 0.1433532\ttest: 0.1335177\tbest: 0.1334974 (229)\ttotal: 8.42s\tremaining: 27.6s\n",
      "234:\tlearn: 0.1431919\ttest: 0.1334637\tbest: 0.1334637 (234)\ttotal: 8.47s\tremaining: 27.6s\n",
      "235:\tlearn: 0.1430833\ttest: 0.1333559\tbest: 0.1333559 (235)\ttotal: 8.5s\tremaining: 27.5s\n",
      "236:\tlearn: 0.1430358\ttest: 0.1333373\tbest: 0.1333373 (236)\ttotal: 8.53s\tremaining: 27.5s\n",
      "237:\tlearn: 0.1429573\ttest: 0.1333437\tbest: 0.1333373 (236)\ttotal: 8.57s\tremaining: 27.4s\n",
      "238:\tlearn: 0.1428629\ttest: 0.1332910\tbest: 0.1332910 (238)\ttotal: 8.59s\tremaining: 27.4s\n",
      "239:\tlearn: 0.1428474\ttest: 0.1332806\tbest: 0.1332806 (239)\ttotal: 8.64s\tremaining: 27.4s\n",
      "240:\tlearn: 0.1427687\ttest: 0.1332389\tbest: 0.1332389 (240)\ttotal: 8.69s\tremaining: 27.4s\n",
      "241:\tlearn: 0.1427424\ttest: 0.1332285\tbest: 0.1332285 (241)\ttotal: 8.75s\tremaining: 27.4s\n",
      "242:\tlearn: 0.1426862\ttest: 0.1332493\tbest: 0.1332285 (241)\ttotal: 8.77s\tremaining: 27.3s\n",
      "243:\tlearn: 0.1426089\ttest: 0.1332120\tbest: 0.1332120 (243)\ttotal: 8.81s\tremaining: 27.3s\n",
      "244:\tlearn: 0.1425310\ttest: 0.1331537\tbest: 0.1331537 (244)\ttotal: 8.87s\tremaining: 27.3s\n",
      "245:\tlearn: 0.1424816\ttest: 0.1331651\tbest: 0.1331537 (244)\ttotal: 8.91s\tremaining: 27.3s\n",
      "246:\tlearn: 0.1424359\ttest: 0.1331618\tbest: 0.1331537 (244)\ttotal: 8.96s\tremaining: 27.3s\n",
      "247:\tlearn: 0.1423316\ttest: 0.1331627\tbest: 0.1331537 (244)\ttotal: 9.01s\tremaining: 27.3s\n",
      "248:\tlearn: 0.1423314\ttest: 0.1331632\tbest: 0.1331537 (244)\ttotal: 9.04s\tremaining: 27.3s\n",
      "249:\tlearn: 0.1422425\ttest: 0.1331608\tbest: 0.1331537 (244)\ttotal: 9.08s\tremaining: 27.2s\n",
      "250:\tlearn: 0.1421941\ttest: 0.1331907\tbest: 0.1331537 (244)\ttotal: 9.11s\tremaining: 27.2s\n",
      "251:\tlearn: 0.1421355\ttest: 0.1331854\tbest: 0.1331537 (244)\ttotal: 9.16s\tremaining: 27.2s\n",
      "252:\tlearn: 0.1421086\ttest: 0.1331739\tbest: 0.1331537 (244)\ttotal: 9.18s\tremaining: 27.1s\n",
      "253:\tlearn: 0.1420109\ttest: 0.1330943\tbest: 0.1330943 (253)\ttotal: 9.23s\tremaining: 27.1s\n",
      "254:\tlearn: 0.1419352\ttest: 0.1330776\tbest: 0.1330776 (254)\ttotal: 9.28s\tremaining: 27.1s\n",
      "255:\tlearn: 0.1419131\ttest: 0.1330821\tbest: 0.1330776 (254)\ttotal: 9.31s\tremaining: 27.1s\n",
      "256:\tlearn: 0.1418695\ttest: 0.1330263\tbest: 0.1330263 (256)\ttotal: 9.35s\tremaining: 27s\n",
      "257:\tlearn: 0.1418322\ttest: 0.1330106\tbest: 0.1330106 (257)\ttotal: 9.38s\tremaining: 27s\n",
      "258:\tlearn: 0.1418000\ttest: 0.1329894\tbest: 0.1329894 (258)\ttotal: 9.42s\tremaining: 26.9s\n",
      "259:\tlearn: 0.1417113\ttest: 0.1330039\tbest: 0.1329894 (258)\ttotal: 9.45s\tremaining: 26.9s\n",
      "260:\tlearn: 0.1417073\ttest: 0.1329991\tbest: 0.1329894 (258)\ttotal: 9.48s\tremaining: 26.8s\n",
      "261:\tlearn: 0.1415446\ttest: 0.1328964\tbest: 0.1328964 (261)\ttotal: 9.54s\tremaining: 26.9s\n",
      "262:\tlearn: 0.1414787\ttest: 0.1328901\tbest: 0.1328901 (262)\ttotal: 9.58s\tremaining: 26.8s\n",
      "263:\tlearn: 0.1414574\ttest: 0.1328812\tbest: 0.1328812 (263)\ttotal: 9.62s\tremaining: 26.8s\n",
      "264:\tlearn: 0.1413503\ttest: 0.1328710\tbest: 0.1328710 (264)\ttotal: 9.65s\tremaining: 26.8s\n",
      "265:\tlearn: 0.1412853\ttest: 0.1328061\tbest: 0.1328061 (265)\ttotal: 9.7s\tremaining: 26.8s\n",
      "266:\tlearn: 0.1411793\ttest: 0.1328059\tbest: 0.1328059 (266)\ttotal: 9.73s\tremaining: 26.7s\n",
      "267:\tlearn: 0.1411465\ttest: 0.1328213\tbest: 0.1328059 (266)\ttotal: 9.78s\tremaining: 26.7s\n",
      "268:\tlearn: 0.1411215\ttest: 0.1328173\tbest: 0.1328059 (266)\ttotal: 9.8s\tremaining: 26.6s\n",
      "269:\tlearn: 0.1410501\ttest: 0.1328288\tbest: 0.1328059 (266)\ttotal: 9.84s\tremaining: 26.6s\n",
      "270:\tlearn: 0.1409216\ttest: 0.1328092\tbest: 0.1328059 (266)\ttotal: 9.9s\tremaining: 26.6s\n",
      "271:\tlearn: 0.1408367\ttest: 0.1328159\tbest: 0.1328059 (266)\ttotal: 9.97s\tremaining: 26.7s\n",
      "272:\tlearn: 0.1407716\ttest: 0.1328302\tbest: 0.1328059 (266)\ttotal: 10s\tremaining: 26.7s\n",
      "273:\tlearn: 0.1406837\ttest: 0.1328391\tbest: 0.1328059 (266)\ttotal: 10.1s\tremaining: 26.7s\n",
      "274:\tlearn: 0.1405834\ttest: 0.1328710\tbest: 0.1328059 (266)\ttotal: 10.1s\tremaining: 26.7s\n",
      "275:\tlearn: 0.1405061\ttest: 0.1329059\tbest: 0.1328059 (266)\ttotal: 10.2s\tremaining: 26.6s\n",
      "276:\tlearn: 0.1404550\ttest: 0.1329009\tbest: 0.1328059 (266)\ttotal: 10.2s\tremaining: 26.6s\n",
      "277:\tlearn: 0.1403271\ttest: 0.1329546\tbest: 0.1328059 (266)\ttotal: 10.2s\tremaining: 26.6s\n",
      "278:\tlearn: 0.1402859\ttest: 0.1329297\tbest: 0.1328059 (266)\ttotal: 10.3s\tremaining: 26.5s\n",
      "279:\tlearn: 0.1402473\ttest: 0.1329127\tbest: 0.1328059 (266)\ttotal: 10.3s\tremaining: 26.5s\n",
      "280:\tlearn: 0.1401194\ttest: 0.1329127\tbest: 0.1328059 (266)\ttotal: 10.3s\tremaining: 26.4s\n",
      "281:\tlearn: 0.1400435\ttest: 0.1329250\tbest: 0.1328059 (266)\ttotal: 10.4s\tremaining: 26.4s\n",
      "282:\tlearn: 0.1400214\ttest: 0.1329330\tbest: 0.1328059 (266)\ttotal: 10.4s\tremaining: 26.4s\n",
      "283:\tlearn: 0.1400214\ttest: 0.1329330\tbest: 0.1328059 (266)\ttotal: 10.4s\tremaining: 26.3s\n"
     ]
    },
    {
     "name": "stdout",
     "output_type": "stream",
     "text": [
      "284:\tlearn: 0.1399054\ttest: 0.1329117\tbest: 0.1328059 (266)\ttotal: 10.5s\tremaining: 26.3s\n",
      "285:\tlearn: 0.1398379\ttest: 0.1328611\tbest: 0.1328059 (266)\ttotal: 10.5s\tremaining: 26.3s\n",
      "286:\tlearn: 0.1397647\ttest: 0.1329042\tbest: 0.1328059 (266)\ttotal: 10.6s\tremaining: 26.3s\n",
      "287:\tlearn: 0.1396928\ttest: 0.1328756\tbest: 0.1328059 (266)\ttotal: 10.6s\tremaining: 26.2s\n",
      "288:\tlearn: 0.1395781\ttest: 0.1328663\tbest: 0.1328059 (266)\ttotal: 10.6s\tremaining: 26.2s\n",
      "289:\tlearn: 0.1394911\ttest: 0.1327812\tbest: 0.1327812 (289)\ttotal: 10.7s\tremaining: 26.2s\n",
      "290:\tlearn: 0.1393911\ttest: 0.1328030\tbest: 0.1327812 (289)\ttotal: 10.7s\tremaining: 26.1s\n",
      "291:\tlearn: 0.1393473\ttest: 0.1328112\tbest: 0.1327812 (289)\ttotal: 10.8s\tremaining: 26.1s\n",
      "292:\tlearn: 0.1393071\ttest: 0.1328014\tbest: 0.1327812 (289)\ttotal: 10.8s\tremaining: 26s\n",
      "293:\tlearn: 0.1392616\ttest: 0.1328105\tbest: 0.1327812 (289)\ttotal: 10.8s\tremaining: 26s\n",
      "294:\tlearn: 0.1391860\ttest: 0.1327843\tbest: 0.1327812 (289)\ttotal: 10.9s\tremaining: 26s\n",
      "295:\tlearn: 0.1391389\ttest: 0.1327229\tbest: 0.1327229 (295)\ttotal: 10.9s\tremaining: 26s\n",
      "296:\tlearn: 0.1390828\ttest: 0.1326840\tbest: 0.1326840 (296)\ttotal: 10.9s\tremaining: 25.9s\n",
      "297:\tlearn: 0.1390582\ttest: 0.1326813\tbest: 0.1326813 (297)\ttotal: 11s\tremaining: 25.9s\n",
      "298:\tlearn: 0.1389615\ttest: 0.1325477\tbest: 0.1325477 (298)\ttotal: 11s\tremaining: 25.9s\n",
      "299:\tlearn: 0.1389067\ttest: 0.1325203\tbest: 0.1325203 (299)\ttotal: 11.1s\tremaining: 25.8s\n",
      "300:\tlearn: 0.1388004\ttest: 0.1324915\tbest: 0.1324915 (300)\ttotal: 11.1s\tremaining: 25.8s\n",
      "301:\tlearn: 0.1387658\ttest: 0.1324994\tbest: 0.1324915 (300)\ttotal: 11.2s\tremaining: 25.8s\n",
      "302:\tlearn: 0.1387137\ttest: 0.1324464\tbest: 0.1324464 (302)\ttotal: 11.2s\tremaining: 25.8s\n",
      "303:\tlearn: 0.1386605\ttest: 0.1324564\tbest: 0.1324464 (302)\ttotal: 11.2s\tremaining: 25.7s\n",
      "304:\tlearn: 0.1386085\ttest: 0.1324567\tbest: 0.1324464 (302)\ttotal: 11.3s\tremaining: 25.7s\n",
      "305:\tlearn: 0.1385047\ttest: 0.1324260\tbest: 0.1324260 (305)\ttotal: 11.3s\tremaining: 25.7s\n",
      "306:\tlearn: 0.1384654\ttest: 0.1324161\tbest: 0.1324161 (306)\ttotal: 11.4s\tremaining: 25.6s\n",
      "307:\tlearn: 0.1383977\ttest: 0.1323819\tbest: 0.1323819 (307)\ttotal: 11.4s\tremaining: 25.6s\n",
      "308:\tlearn: 0.1383144\ttest: 0.1323844\tbest: 0.1323819 (307)\ttotal: 11.4s\tremaining: 25.5s\n",
      "309:\tlearn: 0.1383028\ttest: 0.1323870\tbest: 0.1323819 (307)\ttotal: 11.5s\tremaining: 25.5s\n",
      "310:\tlearn: 0.1381954\ttest: 0.1324179\tbest: 0.1323819 (307)\ttotal: 11.5s\tremaining: 25.4s\n",
      "311:\tlearn: 0.1381454\ttest: 0.1324356\tbest: 0.1323819 (307)\ttotal: 11.5s\tremaining: 25.4s\n",
      "312:\tlearn: 0.1381209\ttest: 0.1324154\tbest: 0.1323819 (307)\ttotal: 11.6s\tremaining: 25.4s\n",
      "313:\tlearn: 0.1381209\ttest: 0.1324154\tbest: 0.1323819 (307)\ttotal: 11.6s\tremaining: 25.4s\n",
      "314:\tlearn: 0.1380788\ttest: 0.1324334\tbest: 0.1323819 (307)\ttotal: 11.7s\tremaining: 25.3s\n",
      "315:\tlearn: 0.1379865\ttest: 0.1324588\tbest: 0.1323819 (307)\ttotal: 11.7s\tremaining: 25.3s\n",
      "316:\tlearn: 0.1379322\ttest: 0.1324849\tbest: 0.1323819 (307)\ttotal: 11.7s\tremaining: 25.3s\n",
      "317:\tlearn: 0.1378413\ttest: 0.1325479\tbest: 0.1323819 (307)\ttotal: 11.8s\tremaining: 25.2s\n",
      "318:\tlearn: 0.1378151\ttest: 0.1324969\tbest: 0.1323819 (307)\ttotal: 11.8s\tremaining: 25.2s\n",
      "319:\tlearn: 0.1377659\ttest: 0.1324463\tbest: 0.1323819 (307)\ttotal: 11.8s\tremaining: 25.2s\n",
      "320:\tlearn: 0.1377192\ttest: 0.1324314\tbest: 0.1323819 (307)\ttotal: 11.9s\tremaining: 25.1s\n",
      "321:\tlearn: 0.1376683\ttest: 0.1323909\tbest: 0.1323819 (307)\ttotal: 11.9s\tremaining: 25.1s\n",
      "322:\tlearn: 0.1375564\ttest: 0.1323867\tbest: 0.1323819 (307)\ttotal: 12s\tremaining: 25.1s\n",
      "323:\tlearn: 0.1375054\ttest: 0.1323784\tbest: 0.1323784 (323)\ttotal: 12s\tremaining: 25s\n",
      "324:\tlearn: 0.1374645\ttest: 0.1323734\tbest: 0.1323734 (324)\ttotal: 12s\tremaining: 25s\n",
      "325:\tlearn: 0.1373813\ttest: 0.1323737\tbest: 0.1323734 (324)\ttotal: 12.1s\tremaining: 25s\n",
      "326:\tlearn: 0.1373580\ttest: 0.1323666\tbest: 0.1323666 (326)\ttotal: 12.1s\tremaining: 25s\n",
      "327:\tlearn: 0.1373211\ttest: 0.1323556\tbest: 0.1323556 (327)\ttotal: 12.2s\tremaining: 24.9s\n",
      "328:\tlearn: 0.1372692\ttest: 0.1323517\tbest: 0.1323517 (328)\ttotal: 12.2s\tremaining: 24.9s\n",
      "329:\tlearn: 0.1372011\ttest: 0.1323901\tbest: 0.1323517 (328)\ttotal: 12.2s\tremaining: 24.8s\n",
      "330:\tlearn: 0.1371709\ttest: 0.1323713\tbest: 0.1323517 (328)\ttotal: 12.3s\tremaining: 24.8s\n",
      "331:\tlearn: 0.1371176\ttest: 0.1323823\tbest: 0.1323517 (328)\ttotal: 12.3s\tremaining: 24.7s\n",
      "332:\tlearn: 0.1371100\ttest: 0.1323821\tbest: 0.1323517 (328)\ttotal: 12.3s\tremaining: 24.7s\n",
      "333:\tlearn: 0.1370536\ttest: 0.1323565\tbest: 0.1323517 (328)\ttotal: 12.4s\tremaining: 24.6s\n",
      "334:\tlearn: 0.1370179\ttest: 0.1323765\tbest: 0.1323517 (328)\ttotal: 12.4s\tremaining: 24.6s\n",
      "335:\tlearn: 0.1369214\ttest: 0.1323663\tbest: 0.1323517 (328)\ttotal: 12.4s\tremaining: 24.6s\n",
      "336:\tlearn: 0.1368462\ttest: 0.1324554\tbest: 0.1323517 (328)\ttotal: 12.5s\tremaining: 24.5s\n",
      "337:\tlearn: 0.1367299\ttest: 0.1324322\tbest: 0.1323517 (328)\ttotal: 12.5s\tremaining: 24.5s\n",
      "338:\tlearn: 0.1366953\ttest: 0.1324173\tbest: 0.1323517 (328)\ttotal: 12.5s\tremaining: 24.5s\n",
      "339:\tlearn: 0.1366320\ttest: 0.1324390\tbest: 0.1323517 (328)\ttotal: 12.6s\tremaining: 24.4s\n",
      "340:\tlearn: 0.1365853\ttest: 0.1324518\tbest: 0.1323517 (328)\ttotal: 12.6s\tremaining: 24.4s\n",
      "341:\tlearn: 0.1365391\ttest: 0.1324339\tbest: 0.1323517 (328)\ttotal: 12.7s\tremaining: 24.3s\n",
      "342:\tlearn: 0.1364634\ttest: 0.1324682\tbest: 0.1323517 (328)\ttotal: 12.7s\tremaining: 24.3s\n",
      "343:\tlearn: 0.1364162\ttest: 0.1324981\tbest: 0.1323517 (328)\ttotal: 12.7s\tremaining: 24.3s\n",
      "344:\tlearn: 0.1364162\ttest: 0.1324982\tbest: 0.1323517 (328)\ttotal: 12.8s\tremaining: 24.2s\n",
      "345:\tlearn: 0.1363652\ttest: 0.1324804\tbest: 0.1323517 (328)\ttotal: 12.8s\tremaining: 24.2s\n",
      "346:\tlearn: 0.1363381\ttest: 0.1324894\tbest: 0.1323517 (328)\ttotal: 12.8s\tremaining: 24.2s\n",
      "347:\tlearn: 0.1363233\ttest: 0.1324953\tbest: 0.1323517 (328)\ttotal: 12.9s\tremaining: 24.1s\n",
      "348:\tlearn: 0.1362127\ttest: 0.1324444\tbest: 0.1323517 (328)\ttotal: 12.9s\tremaining: 24.1s\n",
      "349:\tlearn: 0.1360742\ttest: 0.1324063\tbest: 0.1323517 (328)\ttotal: 12.9s\tremaining: 24s\n",
      "350:\tlearn: 0.1360587\ttest: 0.1324147\tbest: 0.1323517 (328)\ttotal: 13s\tremaining: 24s\n",
      "351:\tlearn: 0.1360173\ttest: 0.1324334\tbest: 0.1323517 (328)\ttotal: 13s\tremaining: 24s\n",
      "352:\tlearn: 0.1359384\ttest: 0.1324491\tbest: 0.1323517 (328)\ttotal: 13.1s\tremaining: 23.9s\n",
      "353:\tlearn: 0.1358670\ttest: 0.1324682\tbest: 0.1323517 (328)\ttotal: 13.1s\tremaining: 23.9s\n",
      "354:\tlearn: 0.1357553\ttest: 0.1324597\tbest: 0.1323517 (328)\ttotal: 13.1s\tremaining: 23.9s\n",
      "355:\tlearn: 0.1356848\ttest: 0.1324668\tbest: 0.1323517 (328)\ttotal: 13.2s\tremaining: 23.9s\n",
      "356:\tlearn: 0.1356507\ttest: 0.1324868\tbest: 0.1323517 (328)\ttotal: 13.2s\tremaining: 23.9s\n",
      "357:\tlearn: 0.1355861\ttest: 0.1324923\tbest: 0.1323517 (328)\ttotal: 13.3s\tremaining: 23.8s\n",
      "358:\tlearn: 0.1355036\ttest: 0.1325265\tbest: 0.1323517 (328)\ttotal: 13.3s\tremaining: 23.8s\n",
      "359:\tlearn: 0.1354342\ttest: 0.1324778\tbest: 0.1323517 (328)\ttotal: 13.4s\tremaining: 23.8s\n",
      "360:\tlearn: 0.1354157\ttest: 0.1324688\tbest: 0.1323517 (328)\ttotal: 13.4s\tremaining: 23.7s\n",
      "361:\tlearn: 0.1353037\ttest: 0.1323889\tbest: 0.1323517 (328)\ttotal: 13.5s\tremaining: 23.7s\n",
      "362:\tlearn: 0.1352545\ttest: 0.1323946\tbest: 0.1323517 (328)\ttotal: 13.5s\tremaining: 23.7s\n",
      "363:\tlearn: 0.1351645\ttest: 0.1323963\tbest: 0.1323517 (328)\ttotal: 13.5s\tremaining: 23.6s\n",
      "364:\tlearn: 0.1351125\ttest: 0.1324086\tbest: 0.1323517 (328)\ttotal: 13.6s\tremaining: 23.7s\n",
      "365:\tlearn: 0.1350894\ttest: 0.1323877\tbest: 0.1323517 (328)\ttotal: 13.7s\tremaining: 23.7s\n",
      "366:\tlearn: 0.1349209\ttest: 0.1324435\tbest: 0.1323517 (328)\ttotal: 13.7s\tremaining: 23.7s\n",
      "367:\tlearn: 0.1349168\ttest: 0.1324434\tbest: 0.1323517 (328)\ttotal: 13.8s\tremaining: 23.6s\n",
      "368:\tlearn: 0.1348395\ttest: 0.1324474\tbest: 0.1323517 (328)\ttotal: 13.8s\tremaining: 23.6s\n",
      "369:\tlearn: 0.1348245\ttest: 0.1324547\tbest: 0.1323517 (328)\ttotal: 13.8s\tremaining: 23.5s\n",
      "370:\tlearn: 0.1347822\ttest: 0.1324457\tbest: 0.1323517 (328)\ttotal: 13.9s\tremaining: 23.5s\n",
      "371:\tlearn: 0.1347255\ttest: 0.1324687\tbest: 0.1323517 (328)\ttotal: 13.9s\tremaining: 23.5s\n",
      "372:\tlearn: 0.1346625\ttest: 0.1323344\tbest: 0.1323344 (372)\ttotal: 13.9s\tremaining: 23.4s\n",
      "373:\tlearn: 0.1345930\ttest: 0.1323157\tbest: 0.1323157 (373)\ttotal: 14s\tremaining: 23.4s\n",
      "374:\tlearn: 0.1345356\ttest: 0.1323215\tbest: 0.1323157 (373)\ttotal: 14s\tremaining: 23.4s\n",
      "375:\tlearn: 0.1344751\ttest: 0.1322632\tbest: 0.1322632 (375)\ttotal: 14.1s\tremaining: 23.3s\n",
      "376:\tlearn: 0.1344411\ttest: 0.1322650\tbest: 0.1322632 (375)\ttotal: 14.1s\tremaining: 23.3s\n",
      "377:\tlearn: 0.1343899\ttest: 0.1322412\tbest: 0.1322412 (377)\ttotal: 14.1s\tremaining: 23.2s\n",
      "378:\tlearn: 0.1343758\ttest: 0.1322635\tbest: 0.1322412 (377)\ttotal: 14.2s\tremaining: 23.2s\n",
      "379:\tlearn: 0.1343500\ttest: 0.1322541\tbest: 0.1322412 (377)\ttotal: 14.2s\tremaining: 23.2s\n",
      "380:\tlearn: 0.1342948\ttest: 0.1322432\tbest: 0.1322412 (377)\ttotal: 14.2s\tremaining: 23.1s\n"
     ]
    },
    {
     "name": "stdout",
     "output_type": "stream",
     "text": [
      "381:\tlearn: 0.1342576\ttest: 0.1322542\tbest: 0.1322412 (377)\ttotal: 14.3s\tremaining: 23.1s\n",
      "382:\tlearn: 0.1341584\ttest: 0.1322409\tbest: 0.1322409 (382)\ttotal: 14.3s\tremaining: 23.1s\n",
      "383:\tlearn: 0.1341112\ttest: 0.1322575\tbest: 0.1322409 (382)\ttotal: 14.4s\tremaining: 23.1s\n",
      "384:\tlearn: 0.1340842\ttest: 0.1322401\tbest: 0.1322401 (384)\ttotal: 14.4s\tremaining: 23s\n",
      "385:\tlearn: 0.1340334\ttest: 0.1322389\tbest: 0.1322389 (385)\ttotal: 14.4s\tremaining: 23s\n",
      "386:\tlearn: 0.1339102\ttest: 0.1322758\tbest: 0.1322389 (385)\ttotal: 14.5s\tremaining: 22.9s\n",
      "387:\tlearn: 0.1338397\ttest: 0.1322723\tbest: 0.1322389 (385)\ttotal: 14.5s\tremaining: 22.9s\n",
      "388:\tlearn: 0.1338396\ttest: 0.1322726\tbest: 0.1322389 (385)\ttotal: 14.5s\tremaining: 22.8s\n",
      "389:\tlearn: 0.1338395\ttest: 0.1322725\tbest: 0.1322389 (385)\ttotal: 14.6s\tremaining: 22.8s\n",
      "390:\tlearn: 0.1337910\ttest: 0.1322383\tbest: 0.1322383 (390)\ttotal: 14.6s\tremaining: 22.7s\n",
      "391:\tlearn: 0.1337175\ttest: 0.1322045\tbest: 0.1322045 (391)\ttotal: 14.6s\tremaining: 22.7s\n",
      "392:\tlearn: 0.1336532\ttest: 0.1322045\tbest: 0.1322045 (391)\ttotal: 14.7s\tremaining: 22.6s\n",
      "393:\tlearn: 0.1336009\ttest: 0.1321680\tbest: 0.1321680 (393)\ttotal: 14.7s\tremaining: 22.6s\n",
      "394:\tlearn: 0.1335965\ttest: 0.1321722\tbest: 0.1321680 (393)\ttotal: 14.7s\tremaining: 22.6s\n",
      "395:\tlearn: 0.1335401\ttest: 0.1321458\tbest: 0.1321458 (395)\ttotal: 14.8s\tremaining: 22.5s\n",
      "396:\tlearn: 0.1334645\ttest: 0.1321221\tbest: 0.1321221 (396)\ttotal: 14.8s\tremaining: 22.5s\n",
      "397:\tlearn: 0.1333786\ttest: 0.1320782\tbest: 0.1320782 (397)\ttotal: 14.9s\tremaining: 22.5s\n",
      "398:\tlearn: 0.1333744\ttest: 0.1320800\tbest: 0.1320782 (397)\ttotal: 14.9s\tremaining: 22.5s\n",
      "399:\tlearn: 0.1333063\ttest: 0.1320890\tbest: 0.1320782 (397)\ttotal: 15s\tremaining: 22.5s\n",
      "400:\tlearn: 0.1332022\ttest: 0.1320916\tbest: 0.1320782 (397)\ttotal: 15s\tremaining: 22.5s\n",
      "401:\tlearn: 0.1331683\ttest: 0.1320751\tbest: 0.1320751 (401)\ttotal: 15.1s\tremaining: 22.4s\n",
      "402:\tlearn: 0.1331259\ttest: 0.1320881\tbest: 0.1320751 (401)\ttotal: 15.1s\tremaining: 22.4s\n",
      "403:\tlearn: 0.1330139\ttest: 0.1320743\tbest: 0.1320743 (403)\ttotal: 15.2s\tremaining: 22.4s\n",
      "404:\tlearn: 0.1329214\ttest: 0.1320627\tbest: 0.1320627 (404)\ttotal: 15.2s\tremaining: 22.4s\n",
      "405:\tlearn: 0.1328896\ttest: 0.1320701\tbest: 0.1320627 (404)\ttotal: 15.3s\tremaining: 22.3s\n",
      "406:\tlearn: 0.1328650\ttest: 0.1320801\tbest: 0.1320627 (404)\ttotal: 15.3s\tremaining: 22.3s\n",
      "407:\tlearn: 0.1328319\ttest: 0.1320126\tbest: 0.1320126 (407)\ttotal: 15.4s\tremaining: 22.3s\n",
      "408:\tlearn: 0.1327899\ttest: 0.1320600\tbest: 0.1320126 (407)\ttotal: 15.4s\tremaining: 22.3s\n",
      "409:\tlearn: 0.1327122\ttest: 0.1320724\tbest: 0.1320126 (407)\ttotal: 15.4s\tremaining: 22.2s\n",
      "410:\tlearn: 0.1326910\ttest: 0.1320924\tbest: 0.1320126 (407)\ttotal: 15.5s\tremaining: 22.2s\n",
      "411:\tlearn: 0.1326415\ttest: 0.1321450\tbest: 0.1320126 (407)\ttotal: 15.5s\tremaining: 22.2s\n",
      "412:\tlearn: 0.1325831\ttest: 0.1321610\tbest: 0.1320126 (407)\ttotal: 15.6s\tremaining: 22.1s\n",
      "413:\tlearn: 0.1325466\ttest: 0.1321371\tbest: 0.1320126 (407)\ttotal: 15.6s\tremaining: 22.1s\n",
      "414:\tlearn: 0.1325146\ttest: 0.1321276\tbest: 0.1320126 (407)\ttotal: 15.7s\tremaining: 22.1s\n",
      "415:\tlearn: 0.1324836\ttest: 0.1321360\tbest: 0.1320126 (407)\ttotal: 15.7s\tremaining: 22s\n",
      "416:\tlearn: 0.1324673\ttest: 0.1321346\tbest: 0.1320126 (407)\ttotal: 15.7s\tremaining: 22s\n",
      "417:\tlearn: 0.1324127\ttest: 0.1321447\tbest: 0.1320126 (407)\ttotal: 15.8s\tremaining: 22s\n",
      "418:\tlearn: 0.1323939\ttest: 0.1321402\tbest: 0.1320126 (407)\ttotal: 15.8s\tremaining: 21.9s\n",
      "419:\tlearn: 0.1323443\ttest: 0.1321388\tbest: 0.1320126 (407)\ttotal: 15.9s\tremaining: 21.9s\n",
      "420:\tlearn: 0.1322866\ttest: 0.1321206\tbest: 0.1320126 (407)\ttotal: 15.9s\tremaining: 21.9s\n",
      "421:\tlearn: 0.1322540\ttest: 0.1321208\tbest: 0.1320126 (407)\ttotal: 15.9s\tremaining: 21.8s\n",
      "422:\tlearn: 0.1321652\ttest: 0.1320616\tbest: 0.1320126 (407)\ttotal: 16s\tremaining: 21.8s\n",
      "423:\tlearn: 0.1321185\ttest: 0.1320722\tbest: 0.1320126 (407)\ttotal: 16s\tremaining: 21.7s\n",
      "424:\tlearn: 0.1320869\ttest: 0.1320467\tbest: 0.1320126 (407)\ttotal: 16s\tremaining: 21.7s\n",
      "425:\tlearn: 0.1319913\ttest: 0.1320124\tbest: 0.1320124 (425)\ttotal: 16.1s\tremaining: 21.6s\n",
      "426:\tlearn: 0.1319607\ttest: 0.1320094\tbest: 0.1320094 (426)\ttotal: 16.1s\tremaining: 21.6s\n",
      "427:\tlearn: 0.1319606\ttest: 0.1320093\tbest: 0.1320093 (427)\ttotal: 16.1s\tremaining: 21.6s\n",
      "428:\tlearn: 0.1318281\ttest: 0.1320330\tbest: 0.1320093 (427)\ttotal: 16.2s\tremaining: 21.5s\n",
      "429:\tlearn: 0.1317294\ttest: 0.1320082\tbest: 0.1320082 (429)\ttotal: 16.2s\tremaining: 21.5s\n",
      "430:\tlearn: 0.1316003\ttest: 0.1320387\tbest: 0.1320082 (429)\ttotal: 16.2s\tremaining: 21.4s\n",
      "431:\tlearn: 0.1315647\ttest: 0.1320528\tbest: 0.1320082 (429)\ttotal: 16.3s\tremaining: 21.4s\n",
      "432:\tlearn: 0.1315467\ttest: 0.1320314\tbest: 0.1320082 (429)\ttotal: 16.3s\tremaining: 21.4s\n",
      "433:\tlearn: 0.1314958\ttest: 0.1320188\tbest: 0.1320082 (429)\ttotal: 16.4s\tremaining: 21.3s\n",
      "434:\tlearn: 0.1313914\ttest: 0.1319781\tbest: 0.1319781 (434)\ttotal: 16.4s\tremaining: 21.3s\n",
      "435:\tlearn: 0.1313329\ttest: 0.1319939\tbest: 0.1319781 (434)\ttotal: 16.4s\tremaining: 21.3s\n",
      "436:\tlearn: 0.1313165\ttest: 0.1319923\tbest: 0.1319781 (434)\ttotal: 16.5s\tremaining: 21.2s\n",
      "437:\tlearn: 0.1312702\ttest: 0.1319553\tbest: 0.1319553 (437)\ttotal: 16.5s\tremaining: 21.2s\n",
      "438:\tlearn: 0.1312275\ttest: 0.1319722\tbest: 0.1319553 (437)\ttotal: 16.6s\tremaining: 21.2s\n",
      "439:\tlearn: 0.1312064\ttest: 0.1319637\tbest: 0.1319553 (437)\ttotal: 16.6s\tremaining: 21.1s\n",
      "440:\tlearn: 0.1311754\ttest: 0.1319616\tbest: 0.1319553 (437)\ttotal: 16.6s\tremaining: 21.1s\n",
      "441:\tlearn: 0.1311123\ttest: 0.1318475\tbest: 0.1318475 (441)\ttotal: 16.7s\tremaining: 21s\n",
      "442:\tlearn: 0.1310873\ttest: 0.1318491\tbest: 0.1318475 (441)\ttotal: 16.7s\tremaining: 21s\n",
      "443:\tlearn: 0.1310560\ttest: 0.1318646\tbest: 0.1318475 (441)\ttotal: 16.7s\tremaining: 21s\n",
      "444:\tlearn: 0.1309484\ttest: 0.1318485\tbest: 0.1318475 (441)\ttotal: 16.8s\tremaining: 20.9s\n",
      "445:\tlearn: 0.1308551\ttest: 0.1318225\tbest: 0.1318225 (445)\ttotal: 16.8s\tremaining: 20.9s\n",
      "446:\tlearn: 0.1308489\ttest: 0.1318119\tbest: 0.1318119 (446)\ttotal: 16.9s\tremaining: 20.8s\n",
      "447:\tlearn: 0.1307772\ttest: 0.1317785\tbest: 0.1317785 (447)\ttotal: 16.9s\tremaining: 20.8s\n",
      "448:\tlearn: 0.1307146\ttest: 0.1317427\tbest: 0.1317427 (448)\ttotal: 16.9s\tremaining: 20.8s\n",
      "449:\tlearn: 0.1307081\ttest: 0.1317425\tbest: 0.1317425 (449)\ttotal: 16.9s\tremaining: 20.7s\n",
      "450:\tlearn: 0.1306417\ttest: 0.1317113\tbest: 0.1317113 (450)\ttotal: 17s\tremaining: 20.7s\n",
      "451:\tlearn: 0.1306050\ttest: 0.1317065\tbest: 0.1317065 (451)\ttotal: 17s\tremaining: 20.6s\n",
      "452:\tlearn: 0.1305452\ttest: 0.1316995\tbest: 0.1316995 (452)\ttotal: 17.1s\tremaining: 20.6s\n",
      "453:\tlearn: 0.1304923\ttest: 0.1316538\tbest: 0.1316538 (453)\ttotal: 17.1s\tremaining: 20.6s\n",
      "454:\tlearn: 0.1304539\ttest: 0.1316567\tbest: 0.1316538 (453)\ttotal: 17.1s\tremaining: 20.5s\n",
      "455:\tlearn: 0.1304420\ttest: 0.1316628\tbest: 0.1316538 (453)\ttotal: 17.2s\tremaining: 20.5s\n",
      "456:\tlearn: 0.1304169\ttest: 0.1316503\tbest: 0.1316503 (456)\ttotal: 17.2s\tremaining: 20.4s\n",
      "457:\tlearn: 0.1303947\ttest: 0.1316691\tbest: 0.1316503 (456)\ttotal: 17.2s\tremaining: 20.4s\n",
      "458:\tlearn: 0.1303947\ttest: 0.1316691\tbest: 0.1316503 (456)\ttotal: 17.3s\tremaining: 20.4s\n",
      "459:\tlearn: 0.1303061\ttest: 0.1316684\tbest: 0.1316503 (456)\ttotal: 17.3s\tremaining: 20.3s\n",
      "460:\tlearn: 0.1302527\ttest: 0.1316742\tbest: 0.1316503 (456)\ttotal: 17.3s\tremaining: 20.3s\n",
      "461:\tlearn: 0.1302176\ttest: 0.1316927\tbest: 0.1316503 (456)\ttotal: 17.4s\tremaining: 20.2s\n",
      "462:\tlearn: 0.1302174\ttest: 0.1316936\tbest: 0.1316503 (456)\ttotal: 17.4s\tremaining: 20.2s\n",
      "463:\tlearn: 0.1301762\ttest: 0.1316869\tbest: 0.1316503 (456)\ttotal: 17.5s\tremaining: 20.2s\n",
      "464:\tlearn: 0.1301358\ttest: 0.1316598\tbest: 0.1316503 (456)\ttotal: 17.5s\tremaining: 20.1s\n",
      "465:\tlearn: 0.1300925\ttest: 0.1316640\tbest: 0.1316503 (456)\ttotal: 17.5s\tremaining: 20.1s\n",
      "466:\tlearn: 0.1300579\ttest: 0.1316461\tbest: 0.1316461 (466)\ttotal: 17.5s\tremaining: 20s\n",
      "467:\tlearn: 0.1300163\ttest: 0.1316416\tbest: 0.1316416 (467)\ttotal: 17.6s\tremaining: 20s\n",
      "468:\tlearn: 0.1299534\ttest: 0.1316958\tbest: 0.1316416 (467)\ttotal: 17.6s\tremaining: 20s\n",
      "469:\tlearn: 0.1299302\ttest: 0.1316940\tbest: 0.1316416 (467)\ttotal: 17.7s\tremaining: 19.9s\n",
      "470:\tlearn: 0.1298832\ttest: 0.1317334\tbest: 0.1316416 (467)\ttotal: 17.7s\tremaining: 19.9s\n",
      "471:\tlearn: 0.1298143\ttest: 0.1317092\tbest: 0.1316416 (467)\ttotal: 17.7s\tremaining: 19.8s\n",
      "472:\tlearn: 0.1297584\ttest: 0.1317080\tbest: 0.1316416 (467)\ttotal: 17.8s\tremaining: 19.8s\n",
      "473:\tlearn: 0.1297037\ttest: 0.1317166\tbest: 0.1316416 (467)\ttotal: 17.8s\tremaining: 19.8s\n",
      "474:\tlearn: 0.1296461\ttest: 0.1317057\tbest: 0.1316416 (467)\ttotal: 17.9s\tremaining: 19.7s\n",
      "475:\tlearn: 0.1296359\ttest: 0.1316917\tbest: 0.1316416 (467)\ttotal: 17.9s\tremaining: 19.7s\n",
      "476:\tlearn: 0.1295755\ttest: 0.1316841\tbest: 0.1316416 (467)\ttotal: 17.9s\tremaining: 19.6s\n"
     ]
    },
    {
     "name": "stdout",
     "output_type": "stream",
     "text": [
      "477:\tlearn: 0.1294845\ttest: 0.1316804\tbest: 0.1316416 (467)\ttotal: 18s\tremaining: 19.6s\n",
      "478:\tlearn: 0.1294533\ttest: 0.1316502\tbest: 0.1316416 (467)\ttotal: 18s\tremaining: 19.6s\n",
      "479:\tlearn: 0.1293940\ttest: 0.1316422\tbest: 0.1316416 (467)\ttotal: 18s\tremaining: 19.5s\n",
      "480:\tlearn: 0.1293449\ttest: 0.1316605\tbest: 0.1316416 (467)\ttotal: 18.1s\tremaining: 19.5s\n",
      "481:\tlearn: 0.1292571\ttest: 0.1316207\tbest: 0.1316207 (481)\ttotal: 18.1s\tremaining: 19.4s\n",
      "482:\tlearn: 0.1292088\ttest: 0.1315634\tbest: 0.1315634 (482)\ttotal: 18.1s\tremaining: 19.4s\n",
      "483:\tlearn: 0.1291806\ttest: 0.1315905\tbest: 0.1315634 (482)\ttotal: 18.2s\tremaining: 19.4s\n",
      "484:\tlearn: 0.1291419\ttest: 0.1315813\tbest: 0.1315634 (482)\ttotal: 18.2s\tremaining: 19.3s\n",
      "485:\tlearn: 0.1291223\ttest: 0.1315947\tbest: 0.1315634 (482)\ttotal: 18.2s\tremaining: 19.3s\n",
      "486:\tlearn: 0.1290721\ttest: 0.1316046\tbest: 0.1315634 (482)\ttotal: 18.3s\tremaining: 19.3s\n",
      "487:\tlearn: 0.1290395\ttest: 0.1316454\tbest: 0.1315634 (482)\ttotal: 18.3s\tremaining: 19.2s\n",
      "488:\tlearn: 0.1289777\ttest: 0.1316442\tbest: 0.1315634 (482)\ttotal: 18.4s\tremaining: 19.2s\n",
      "489:\tlearn: 0.1289611\ttest: 0.1316421\tbest: 0.1315634 (482)\ttotal: 18.5s\tremaining: 19.2s\n",
      "490:\tlearn: 0.1289205\ttest: 0.1316576\tbest: 0.1315634 (482)\ttotal: 18.5s\tremaining: 19.2s\n",
      "491:\tlearn: 0.1288881\ttest: 0.1316714\tbest: 0.1315634 (482)\ttotal: 18.5s\tremaining: 19.1s\n",
      "492:\tlearn: 0.1288712\ttest: 0.1316405\tbest: 0.1315634 (482)\ttotal: 18.6s\tremaining: 19.1s\n",
      "493:\tlearn: 0.1288338\ttest: 0.1316371\tbest: 0.1315634 (482)\ttotal: 18.6s\tremaining: 19s\n",
      "494:\tlearn: 0.1287957\ttest: 0.1316235\tbest: 0.1315634 (482)\ttotal: 18.6s\tremaining: 19s\n",
      "495:\tlearn: 0.1287567\ttest: 0.1315914\tbest: 0.1315634 (482)\ttotal: 18.7s\tremaining: 19s\n",
      "496:\tlearn: 0.1286461\ttest: 0.1316211\tbest: 0.1315634 (482)\ttotal: 18.7s\tremaining: 18.9s\n",
      "497:\tlearn: 0.1285864\ttest: 0.1316431\tbest: 0.1315634 (482)\ttotal: 18.7s\tremaining: 18.9s\n",
      "498:\tlearn: 0.1285347\ttest: 0.1316294\tbest: 0.1315634 (482)\ttotal: 18.8s\tremaining: 18.8s\n",
      "499:\tlearn: 0.1284505\ttest: 0.1315962\tbest: 0.1315634 (482)\ttotal: 18.8s\tremaining: 18.8s\n",
      "500:\tlearn: 0.1284504\ttest: 0.1315961\tbest: 0.1315634 (482)\ttotal: 18.8s\tremaining: 18.8s\n",
      "501:\tlearn: 0.1284360\ttest: 0.1315975\tbest: 0.1315634 (482)\ttotal: 18.9s\tremaining: 18.7s\n",
      "502:\tlearn: 0.1282881\ttest: 0.1316608\tbest: 0.1315634 (482)\ttotal: 18.9s\tremaining: 18.7s\n",
      "503:\tlearn: 0.1282648\ttest: 0.1316871\tbest: 0.1315634 (482)\ttotal: 19s\tremaining: 18.7s\n",
      "504:\tlearn: 0.1282069\ttest: 0.1317081\tbest: 0.1315634 (482)\ttotal: 19s\tremaining: 18.6s\n",
      "505:\tlearn: 0.1280177\ttest: 0.1316645\tbest: 0.1315634 (482)\ttotal: 19.1s\tremaining: 18.6s\n",
      "506:\tlearn: 0.1279773\ttest: 0.1316695\tbest: 0.1315634 (482)\ttotal: 19.1s\tremaining: 18.6s\n",
      "507:\tlearn: 0.1279485\ttest: 0.1316480\tbest: 0.1315634 (482)\ttotal: 19.1s\tremaining: 18.5s\n",
      "508:\tlearn: 0.1278183\ttest: 0.1317228\tbest: 0.1315634 (482)\ttotal: 19.2s\tremaining: 18.5s\n",
      "509:\tlearn: 0.1277712\ttest: 0.1317412\tbest: 0.1315634 (482)\ttotal: 19.2s\tremaining: 18.4s\n",
      "510:\tlearn: 0.1276761\ttest: 0.1317168\tbest: 0.1315634 (482)\ttotal: 19.2s\tremaining: 18.4s\n",
      "511:\tlearn: 0.1276054\ttest: 0.1317442\tbest: 0.1315634 (482)\ttotal: 19.3s\tremaining: 18.4s\n",
      "512:\tlearn: 0.1275428\ttest: 0.1317195\tbest: 0.1315634 (482)\ttotal: 19.3s\tremaining: 18.3s\n",
      "513:\tlearn: 0.1274545\ttest: 0.1316644\tbest: 0.1315634 (482)\ttotal: 19.4s\tremaining: 18.3s\n",
      "514:\tlearn: 0.1273872\ttest: 0.1316641\tbest: 0.1315634 (482)\ttotal: 19.4s\tremaining: 18.3s\n",
      "515:\tlearn: 0.1273431\ttest: 0.1316563\tbest: 0.1315634 (482)\ttotal: 19.4s\tremaining: 18.2s\n",
      "516:\tlearn: 0.1273018\ttest: 0.1317133\tbest: 0.1315634 (482)\ttotal: 19.5s\tremaining: 18.2s\n",
      "517:\tlearn: 0.1272576\ttest: 0.1316935\tbest: 0.1315634 (482)\ttotal: 19.5s\tremaining: 18.1s\n",
      "518:\tlearn: 0.1272189\ttest: 0.1316738\tbest: 0.1315634 (482)\ttotal: 19.6s\tremaining: 18.1s\n",
      "519:\tlearn: 0.1272075\ttest: 0.1316817\tbest: 0.1315634 (482)\ttotal: 19.6s\tremaining: 18.1s\n",
      "520:\tlearn: 0.1271930\ttest: 0.1316777\tbest: 0.1315634 (482)\ttotal: 19.6s\tremaining: 18.1s\n",
      "521:\tlearn: 0.1271368\ttest: 0.1316669\tbest: 0.1315634 (482)\ttotal: 19.7s\tremaining: 18s\n",
      "522:\tlearn: 0.1270983\ttest: 0.1316711\tbest: 0.1315634 (482)\ttotal: 19.7s\tremaining: 18s\n",
      "523:\tlearn: 0.1270446\ttest: 0.1316531\tbest: 0.1315634 (482)\ttotal: 19.8s\tremaining: 17.9s\n",
      "524:\tlearn: 0.1269559\ttest: 0.1316633\tbest: 0.1315634 (482)\ttotal: 19.8s\tremaining: 17.9s\n",
      "525:\tlearn: 0.1269085\ttest: 0.1317023\tbest: 0.1315634 (482)\ttotal: 19.8s\tremaining: 17.9s\n",
      "526:\tlearn: 0.1268561\ttest: 0.1317700\tbest: 0.1315634 (482)\ttotal: 19.8s\tremaining: 17.8s\n",
      "527:\tlearn: 0.1267969\ttest: 0.1317094\tbest: 0.1315634 (482)\ttotal: 19.9s\tremaining: 17.8s\n",
      "528:\tlearn: 0.1267455\ttest: 0.1317398\tbest: 0.1315634 (482)\ttotal: 19.9s\tremaining: 17.7s\n",
      "529:\tlearn: 0.1267181\ttest: 0.1317494\tbest: 0.1315634 (482)\ttotal: 20s\tremaining: 17.7s\n",
      "530:\tlearn: 0.1266722\ttest: 0.1317700\tbest: 0.1315634 (482)\ttotal: 20s\tremaining: 17.7s\n",
      "531:\tlearn: 0.1266237\ttest: 0.1317623\tbest: 0.1315634 (482)\ttotal: 20.1s\tremaining: 17.6s\n",
      "532:\tlearn: 0.1265754\ttest: 0.1317064\tbest: 0.1315634 (482)\ttotal: 20.1s\tremaining: 17.6s\n",
      "533:\tlearn: 0.1265299\ttest: 0.1317123\tbest: 0.1315634 (482)\ttotal: 20.1s\tremaining: 17.6s\n",
      "534:\tlearn: 0.1264059\ttest: 0.1316572\tbest: 0.1315634 (482)\ttotal: 20.2s\tremaining: 17.5s\n",
      "535:\tlearn: 0.1263361\ttest: 0.1316554\tbest: 0.1315634 (482)\ttotal: 20.2s\tremaining: 17.5s\n",
      "536:\tlearn: 0.1263068\ttest: 0.1316798\tbest: 0.1315634 (482)\ttotal: 20.2s\tremaining: 17.5s\n",
      "537:\tlearn: 0.1262420\ttest: 0.1316407\tbest: 0.1315634 (482)\ttotal: 20.3s\tremaining: 17.4s\n",
      "538:\tlearn: 0.1261991\ttest: 0.1316032\tbest: 0.1315634 (482)\ttotal: 20.3s\tremaining: 17.4s\n",
      "539:\tlearn: 0.1261360\ttest: 0.1316172\tbest: 0.1315634 (482)\ttotal: 20.4s\tremaining: 17.3s\n",
      "540:\tlearn: 0.1260994\ttest: 0.1316246\tbest: 0.1315634 (482)\ttotal: 20.4s\tremaining: 17.3s\n",
      "541:\tlearn: 0.1260740\ttest: 0.1316327\tbest: 0.1315634 (482)\ttotal: 20.4s\tremaining: 17.3s\n",
      "542:\tlearn: 0.1260614\ttest: 0.1316300\tbest: 0.1315634 (482)\ttotal: 20.5s\tremaining: 17.2s\n",
      "543:\tlearn: 0.1259461\ttest: 0.1316007\tbest: 0.1315634 (482)\ttotal: 20.5s\tremaining: 17.2s\n",
      "544:\tlearn: 0.1258967\ttest: 0.1315816\tbest: 0.1315634 (482)\ttotal: 20.5s\tremaining: 17.2s\n",
      "545:\tlearn: 0.1258301\ttest: 0.1315769\tbest: 0.1315634 (482)\ttotal: 20.6s\tremaining: 17.1s\n",
      "546:\tlearn: 0.1257772\ttest: 0.1315285\tbest: 0.1315285 (546)\ttotal: 20.6s\tremaining: 17.1s\n",
      "547:\tlearn: 0.1257451\ttest: 0.1314876\tbest: 0.1314876 (547)\ttotal: 20.7s\tremaining: 17s\n",
      "548:\tlearn: 0.1256973\ttest: 0.1314638\tbest: 0.1314638 (548)\ttotal: 20.7s\tremaining: 17s\n",
      "549:\tlearn: 0.1256529\ttest: 0.1314831\tbest: 0.1314638 (548)\ttotal: 20.7s\tremaining: 17s\n",
      "550:\tlearn: 0.1256310\ttest: 0.1314280\tbest: 0.1314280 (550)\ttotal: 20.8s\tremaining: 16.9s\n",
      "551:\tlearn: 0.1255752\ttest: 0.1313901\tbest: 0.1313901 (551)\ttotal: 20.8s\tremaining: 16.9s\n",
      "552:\tlearn: 0.1255049\ttest: 0.1314626\tbest: 0.1313901 (551)\ttotal: 20.8s\tremaining: 16.9s\n",
      "553:\tlearn: 0.1254408\ttest: 0.1314717\tbest: 0.1313901 (551)\ttotal: 20.9s\tremaining: 16.8s\n",
      "554:\tlearn: 0.1253117\ttest: 0.1314132\tbest: 0.1313901 (551)\ttotal: 20.9s\tremaining: 16.8s\n",
      "555:\tlearn: 0.1252167\ttest: 0.1313789\tbest: 0.1313789 (555)\ttotal: 21s\tremaining: 16.7s\n",
      "556:\tlearn: 0.1251549\ttest: 0.1313851\tbest: 0.1313789 (555)\ttotal: 21s\tremaining: 16.7s\n",
      "557:\tlearn: 0.1251261\ttest: 0.1313477\tbest: 0.1313477 (557)\ttotal: 21s\tremaining: 16.7s\n",
      "558:\tlearn: 0.1250852\ttest: 0.1313646\tbest: 0.1313477 (557)\ttotal: 21.1s\tremaining: 16.6s\n",
      "559:\tlearn: 0.1250010\ttest: 0.1313277\tbest: 0.1313277 (559)\ttotal: 21.1s\tremaining: 16.6s\n",
      "560:\tlearn: 0.1249279\ttest: 0.1313511\tbest: 0.1313277 (559)\ttotal: 21.2s\tremaining: 16.6s\n",
      "561:\tlearn: 0.1248571\ttest: 0.1313758\tbest: 0.1313277 (559)\ttotal: 21.2s\tremaining: 16.5s\n",
      "562:\tlearn: 0.1248301\ttest: 0.1313825\tbest: 0.1313277 (559)\ttotal: 21.2s\tremaining: 16.5s\n",
      "563:\tlearn: 0.1247750\ttest: 0.1313799\tbest: 0.1313277 (559)\ttotal: 21.3s\tremaining: 16.4s\n",
      "564:\tlearn: 0.1247449\ttest: 0.1313418\tbest: 0.1313277 (559)\ttotal: 21.3s\tremaining: 16.4s\n",
      "565:\tlearn: 0.1246702\ttest: 0.1313485\tbest: 0.1313277 (559)\ttotal: 21.3s\tremaining: 16.4s\n",
      "566:\tlearn: 0.1246374\ttest: 0.1313674\tbest: 0.1313277 (559)\ttotal: 21.4s\tremaining: 16.3s\n",
      "567:\tlearn: 0.1245929\ttest: 0.1314003\tbest: 0.1313277 (559)\ttotal: 21.4s\tremaining: 16.3s\n",
      "568:\tlearn: 0.1245618\ttest: 0.1313948\tbest: 0.1313277 (559)\ttotal: 21.5s\tremaining: 16.3s\n",
      "569:\tlearn: 0.1244900\ttest: 0.1313879\tbest: 0.1313277 (559)\ttotal: 21.5s\tremaining: 16.2s\n",
      "570:\tlearn: 0.1244690\ttest: 0.1313829\tbest: 0.1313277 (559)\ttotal: 21.5s\tremaining: 16.2s\n",
      "571:\tlearn: 0.1244507\ttest: 0.1313570\tbest: 0.1313277 (559)\ttotal: 21.5s\tremaining: 16.1s\n",
      "572:\tlearn: 0.1243989\ttest: 0.1313824\tbest: 0.1313277 (559)\ttotal: 21.6s\tremaining: 16.1s\n",
      "573:\tlearn: 0.1242803\ttest: 0.1313995\tbest: 0.1313277 (559)\ttotal: 21.6s\tremaining: 16.1s\n"
     ]
    },
    {
     "name": "stdout",
     "output_type": "stream",
     "text": [
      "574:\tlearn: 0.1242432\ttest: 0.1314226\tbest: 0.1313277 (559)\ttotal: 21.7s\tremaining: 16s\n",
      "575:\tlearn: 0.1241394\ttest: 0.1314191\tbest: 0.1313277 (559)\ttotal: 21.7s\tremaining: 16s\n",
      "576:\tlearn: 0.1240665\ttest: 0.1314057\tbest: 0.1313277 (559)\ttotal: 21.8s\tremaining: 15.9s\n",
      "577:\tlearn: 0.1239696\ttest: 0.1314850\tbest: 0.1313277 (559)\ttotal: 21.8s\tremaining: 15.9s\n",
      "578:\tlearn: 0.1239330\ttest: 0.1314713\tbest: 0.1313277 (559)\ttotal: 21.8s\tremaining: 15.9s\n",
      "579:\tlearn: 0.1239090\ttest: 0.1314401\tbest: 0.1313277 (559)\ttotal: 21.9s\tremaining: 15.8s\n",
      "580:\tlearn: 0.1238875\ttest: 0.1314354\tbest: 0.1313277 (559)\ttotal: 21.9s\tremaining: 15.8s\n",
      "581:\tlearn: 0.1238122\ttest: 0.1314067\tbest: 0.1313277 (559)\ttotal: 21.9s\tremaining: 15.8s\n",
      "582:\tlearn: 0.1237204\ttest: 0.1314703\tbest: 0.1313277 (559)\ttotal: 22s\tremaining: 15.7s\n",
      "583:\tlearn: 0.1236982\ttest: 0.1314499\tbest: 0.1313277 (559)\ttotal: 22s\tremaining: 15.7s\n",
      "584:\tlearn: 0.1236642\ttest: 0.1314812\tbest: 0.1313277 (559)\ttotal: 22.1s\tremaining: 15.6s\n",
      "585:\tlearn: 0.1236197\ttest: 0.1314830\tbest: 0.1313277 (559)\ttotal: 22.1s\tremaining: 15.6s\n",
      "586:\tlearn: 0.1235591\ttest: 0.1314622\tbest: 0.1313277 (559)\ttotal: 22.1s\tremaining: 15.6s\n",
      "587:\tlearn: 0.1235113\ttest: 0.1314576\tbest: 0.1313277 (559)\ttotal: 22.2s\tremaining: 15.5s\n",
      "588:\tlearn: 0.1234630\ttest: 0.1314759\tbest: 0.1313277 (559)\ttotal: 22.2s\tremaining: 15.5s\n",
      "589:\tlearn: 0.1234406\ttest: 0.1314837\tbest: 0.1313277 (559)\ttotal: 22.3s\tremaining: 15.5s\n",
      "590:\tlearn: 0.1233876\ttest: 0.1314885\tbest: 0.1313277 (559)\ttotal: 22.3s\tremaining: 15.4s\n",
      "591:\tlearn: 0.1233820\ttest: 0.1314896\tbest: 0.1313277 (559)\ttotal: 22.4s\tremaining: 15.4s\n",
      "592:\tlearn: 0.1232746\ttest: 0.1315241\tbest: 0.1313277 (559)\ttotal: 22.4s\tremaining: 15.4s\n",
      "593:\tlearn: 0.1232339\ttest: 0.1314937\tbest: 0.1313277 (559)\ttotal: 22.4s\tremaining: 15.3s\n",
      "594:\tlearn: 0.1231850\ttest: 0.1314929\tbest: 0.1313277 (559)\ttotal: 22.5s\tremaining: 15.3s\n",
      "595:\tlearn: 0.1231430\ttest: 0.1315055\tbest: 0.1313277 (559)\ttotal: 22.5s\tremaining: 15.2s\n",
      "596:\tlearn: 0.1231094\ttest: 0.1315552\tbest: 0.1313277 (559)\ttotal: 22.5s\tremaining: 15.2s\n",
      "597:\tlearn: 0.1230669\ttest: 0.1315327\tbest: 0.1313277 (559)\ttotal: 22.6s\tremaining: 15.2s\n",
      "598:\tlearn: 0.1230088\ttest: 0.1315748\tbest: 0.1313277 (559)\ttotal: 22.7s\tremaining: 15.2s\n",
      "599:\tlearn: 0.1229629\ttest: 0.1315555\tbest: 0.1313277 (559)\ttotal: 22.7s\tremaining: 15.2s\n",
      "600:\tlearn: 0.1228952\ttest: 0.1315580\tbest: 0.1313277 (559)\ttotal: 22.8s\tremaining: 15.1s\n",
      "601:\tlearn: 0.1228500\ttest: 0.1315188\tbest: 0.1313277 (559)\ttotal: 22.9s\tremaining: 15.1s\n",
      "602:\tlearn: 0.1228361\ttest: 0.1315245\tbest: 0.1313277 (559)\ttotal: 23s\tremaining: 15.1s\n",
      "603:\tlearn: 0.1227840\ttest: 0.1315160\tbest: 0.1313277 (559)\ttotal: 23s\tremaining: 15.1s\n",
      "604:\tlearn: 0.1227194\ttest: 0.1315272\tbest: 0.1313277 (559)\ttotal: 23.1s\tremaining: 15.1s\n",
      "605:\tlearn: 0.1226266\ttest: 0.1314902\tbest: 0.1313277 (559)\ttotal: 23.1s\tremaining: 15.1s\n",
      "606:\tlearn: 0.1225233\ttest: 0.1314778\tbest: 0.1313277 (559)\ttotal: 23.2s\tremaining: 15s\n",
      "607:\tlearn: 0.1224431\ttest: 0.1314810\tbest: 0.1313277 (559)\ttotal: 23.3s\tremaining: 15s\n",
      "608:\tlearn: 0.1224001\ttest: 0.1314331\tbest: 0.1313277 (559)\ttotal: 23.3s\tremaining: 15s\n",
      "609:\tlearn: 0.1223441\ttest: 0.1314692\tbest: 0.1313277 (559)\ttotal: 23.4s\tremaining: 15s\n",
      "610:\tlearn: 0.1223197\ttest: 0.1314896\tbest: 0.1313277 (559)\ttotal: 23.5s\tremaining: 14.9s\n",
      "611:\tlearn: 0.1222769\ttest: 0.1314918\tbest: 0.1313277 (559)\ttotal: 23.5s\tremaining: 14.9s\n",
      "612:\tlearn: 0.1222430\ttest: 0.1314730\tbest: 0.1313277 (559)\ttotal: 23.6s\tremaining: 14.9s\n",
      "613:\tlearn: 0.1221748\ttest: 0.1315515\tbest: 0.1313277 (559)\ttotal: 23.6s\tremaining: 14.9s\n",
      "614:\tlearn: 0.1221747\ttest: 0.1315514\tbest: 0.1313277 (559)\ttotal: 23.7s\tremaining: 14.8s\n",
      "615:\tlearn: 0.1221308\ttest: 0.1315520\tbest: 0.1313277 (559)\ttotal: 23.8s\tremaining: 14.8s\n",
      "616:\tlearn: 0.1221176\ttest: 0.1315426\tbest: 0.1313277 (559)\ttotal: 23.8s\tremaining: 14.8s\n",
      "617:\tlearn: 0.1220609\ttest: 0.1315563\tbest: 0.1313277 (559)\ttotal: 23.9s\tremaining: 14.8s\n",
      "618:\tlearn: 0.1220142\ttest: 0.1315646\tbest: 0.1313277 (559)\ttotal: 23.9s\tremaining: 14.7s\n",
      "619:\tlearn: 0.1219704\ttest: 0.1315229\tbest: 0.1313277 (559)\ttotal: 24s\tremaining: 14.7s\n",
      "620:\tlearn: 0.1218713\ttest: 0.1316033\tbest: 0.1313277 (559)\ttotal: 24.1s\tremaining: 14.7s\n",
      "621:\tlearn: 0.1218389\ttest: 0.1315742\tbest: 0.1313277 (559)\ttotal: 24.2s\tremaining: 14.7s\n",
      "622:\tlearn: 0.1218130\ttest: 0.1315943\tbest: 0.1313277 (559)\ttotal: 24.2s\tremaining: 14.7s\n",
      "623:\tlearn: 0.1217986\ttest: 0.1316010\tbest: 0.1313277 (559)\ttotal: 24.3s\tremaining: 14.6s\n",
      "624:\tlearn: 0.1217695\ttest: 0.1316030\tbest: 0.1313277 (559)\ttotal: 24.4s\tremaining: 14.6s\n",
      "625:\tlearn: 0.1217097\ttest: 0.1315977\tbest: 0.1313277 (559)\ttotal: 24.5s\tremaining: 14.6s\n",
      "626:\tlearn: 0.1216290\ttest: 0.1316384\tbest: 0.1313277 (559)\ttotal: 24.5s\tremaining: 14.6s\n",
      "627:\tlearn: 0.1215933\ttest: 0.1316338\tbest: 0.1313277 (559)\ttotal: 24.7s\tremaining: 14.6s\n",
      "628:\tlearn: 0.1214863\ttest: 0.1316863\tbest: 0.1313277 (559)\ttotal: 24.8s\tremaining: 14.6s\n",
      "629:\tlearn: 0.1214481\ttest: 0.1317188\tbest: 0.1313277 (559)\ttotal: 24.9s\tremaining: 14.6s\n",
      "630:\tlearn: 0.1214108\ttest: 0.1316783\tbest: 0.1313277 (559)\ttotal: 25s\tremaining: 14.6s\n",
      "631:\tlearn: 0.1213635\ttest: 0.1316606\tbest: 0.1313277 (559)\ttotal: 25.1s\tremaining: 14.6s\n",
      "632:\tlearn: 0.1213249\ttest: 0.1316573\tbest: 0.1313277 (559)\ttotal: 25.2s\tremaining: 14.6s\n",
      "633:\tlearn: 0.1212975\ttest: 0.1316474\tbest: 0.1313277 (559)\ttotal: 25.3s\tremaining: 14.6s\n",
      "634:\tlearn: 0.1211874\ttest: 0.1316605\tbest: 0.1313277 (559)\ttotal: 25.3s\tremaining: 14.6s\n",
      "635:\tlearn: 0.1211086\ttest: 0.1316236\tbest: 0.1313277 (559)\ttotal: 25.4s\tremaining: 14.5s\n",
      "636:\tlearn: 0.1210288\ttest: 0.1316272\tbest: 0.1313277 (559)\ttotal: 25.4s\tremaining: 14.5s\n",
      "637:\tlearn: 0.1209994\ttest: 0.1316064\tbest: 0.1313277 (559)\ttotal: 25.5s\tremaining: 14.5s\n",
      "638:\tlearn: 0.1209569\ttest: 0.1316287\tbest: 0.1313277 (559)\ttotal: 25.5s\tremaining: 14.4s\n",
      "639:\tlearn: 0.1208472\ttest: 0.1316581\tbest: 0.1313277 (559)\ttotal: 25.6s\tremaining: 14.4s\n",
      "640:\tlearn: 0.1207955\ttest: 0.1317022\tbest: 0.1313277 (559)\ttotal: 25.7s\tremaining: 14.4s\n",
      "641:\tlearn: 0.1207534\ttest: 0.1317121\tbest: 0.1313277 (559)\ttotal: 25.7s\tremaining: 14.3s\n",
      "642:\tlearn: 0.1206400\ttest: 0.1317161\tbest: 0.1313277 (559)\ttotal: 25.8s\tremaining: 14.3s\n",
      "643:\tlearn: 0.1205857\ttest: 0.1317199\tbest: 0.1313277 (559)\ttotal: 25.9s\tremaining: 14.3s\n",
      "644:\tlearn: 0.1205490\ttest: 0.1317550\tbest: 0.1313277 (559)\ttotal: 25.9s\tremaining: 14.3s\n",
      "645:\tlearn: 0.1204245\ttest: 0.1317195\tbest: 0.1313277 (559)\ttotal: 26s\tremaining: 14.2s\n",
      "646:\tlearn: 0.1203919\ttest: 0.1317044\tbest: 0.1313277 (559)\ttotal: 26s\tremaining: 14.2s\n",
      "647:\tlearn: 0.1203492\ttest: 0.1316976\tbest: 0.1313277 (559)\ttotal: 26.1s\tremaining: 14.2s\n",
      "648:\tlearn: 0.1202956\ttest: 0.1317009\tbest: 0.1313277 (559)\ttotal: 26.1s\tremaining: 14.1s\n",
      "649:\tlearn: 0.1202555\ttest: 0.1316874\tbest: 0.1313277 (559)\ttotal: 26.1s\tremaining: 14.1s\n",
      "650:\tlearn: 0.1202367\ttest: 0.1317177\tbest: 0.1313277 (559)\ttotal: 26.2s\tremaining: 14s\n",
      "651:\tlearn: 0.1201896\ttest: 0.1317243\tbest: 0.1313277 (559)\ttotal: 26.3s\tremaining: 14s\n",
      "652:\tlearn: 0.1201470\ttest: 0.1317281\tbest: 0.1313277 (559)\ttotal: 26.3s\tremaining: 14s\n",
      "653:\tlearn: 0.1201206\ttest: 0.1317888\tbest: 0.1313277 (559)\ttotal: 26.3s\tremaining: 13.9s\n",
      "654:\tlearn: 0.1200670\ttest: 0.1318187\tbest: 0.1313277 (559)\ttotal: 26.4s\tremaining: 13.9s\n",
      "655:\tlearn: 0.1200261\ttest: 0.1318496\tbest: 0.1313277 (559)\ttotal: 26.4s\tremaining: 13.9s\n",
      "656:\tlearn: 0.1200027\ttest: 0.1318591\tbest: 0.1313277 (559)\ttotal: 26.5s\tremaining: 13.8s\n",
      "657:\tlearn: 0.1199574\ttest: 0.1318556\tbest: 0.1313277 (559)\ttotal: 26.5s\tremaining: 13.8s\n",
      "658:\tlearn: 0.1198932\ttest: 0.1318545\tbest: 0.1313277 (559)\ttotal: 26.6s\tremaining: 13.7s\n",
      "659:\tlearn: 0.1198046\ttest: 0.1317943\tbest: 0.1313277 (559)\ttotal: 26.6s\tremaining: 13.7s\n",
      "660:\tlearn: 0.1197685\ttest: 0.1318144\tbest: 0.1313277 (559)\ttotal: 26.6s\tremaining: 13.7s\n",
      "661:\tlearn: 0.1197383\ttest: 0.1318302\tbest: 0.1313277 (559)\ttotal: 26.7s\tremaining: 13.6s\n",
      "662:\tlearn: 0.1196892\ttest: 0.1318408\tbest: 0.1313277 (559)\ttotal: 26.7s\tremaining: 13.6s\n",
      "663:\tlearn: 0.1196686\ttest: 0.1318399\tbest: 0.1313277 (559)\ttotal: 26.8s\tremaining: 13.5s\n",
      "664:\tlearn: 0.1196090\ttest: 0.1318472\tbest: 0.1313277 (559)\ttotal: 26.8s\tremaining: 13.5s\n",
      "665:\tlearn: 0.1195238\ttest: 0.1319053\tbest: 0.1313277 (559)\ttotal: 26.8s\tremaining: 13.5s\n",
      "666:\tlearn: 0.1194756\ttest: 0.1319338\tbest: 0.1313277 (559)\ttotal: 26.9s\tremaining: 13.4s\n",
      "667:\tlearn: 0.1194033\ttest: 0.1319460\tbest: 0.1313277 (559)\ttotal: 26.9s\tremaining: 13.4s\n"
     ]
    },
    {
     "name": "stdout",
     "output_type": "stream",
     "text": [
      "668:\tlearn: 0.1193332\ttest: 0.1319047\tbest: 0.1313277 (559)\ttotal: 27s\tremaining: 13.4s\n",
      "669:\tlearn: 0.1192909\ttest: 0.1319054\tbest: 0.1313277 (559)\ttotal: 27s\tremaining: 13.3s\n",
      "670:\tlearn: 0.1192104\ttest: 0.1318784\tbest: 0.1313277 (559)\ttotal: 27.1s\tremaining: 13.3s\n",
      "671:\tlearn: 0.1191897\ttest: 0.1318427\tbest: 0.1313277 (559)\ttotal: 27.2s\tremaining: 13.3s\n",
      "672:\tlearn: 0.1190997\ttest: 0.1317845\tbest: 0.1313277 (559)\ttotal: 27.3s\tremaining: 13.2s\n",
      "673:\tlearn: 0.1190689\ttest: 0.1317874\tbest: 0.1313277 (559)\ttotal: 27.3s\tremaining: 13.2s\n",
      "674:\tlearn: 0.1189916\ttest: 0.1317754\tbest: 0.1313277 (559)\ttotal: 27.3s\tremaining: 13.2s\n",
      "675:\tlearn: 0.1189417\ttest: 0.1317682\tbest: 0.1313277 (559)\ttotal: 27.4s\tremaining: 13.1s\n",
      "676:\tlearn: 0.1188673\ttest: 0.1317503\tbest: 0.1313277 (559)\ttotal: 27.4s\tremaining: 13.1s\n",
      "677:\tlearn: 0.1188124\ttest: 0.1317707\tbest: 0.1313277 (559)\ttotal: 27.5s\tremaining: 13.1s\n",
      "678:\tlearn: 0.1187643\ttest: 0.1317789\tbest: 0.1313277 (559)\ttotal: 27.5s\tremaining: 13s\n",
      "679:\tlearn: 0.1187125\ttest: 0.1318310\tbest: 0.1313277 (559)\ttotal: 27.6s\tremaining: 13s\n",
      "680:\tlearn: 0.1186649\ttest: 0.1318563\tbest: 0.1313277 (559)\ttotal: 27.6s\tremaining: 12.9s\n",
      "681:\tlearn: 0.1186041\ttest: 0.1318618\tbest: 0.1313277 (559)\ttotal: 27.7s\tremaining: 12.9s\n",
      "682:\tlearn: 0.1185718\ttest: 0.1318668\tbest: 0.1313277 (559)\ttotal: 27.7s\tremaining: 12.9s\n",
      "683:\tlearn: 0.1185055\ttest: 0.1318426\tbest: 0.1313277 (559)\ttotal: 27.8s\tremaining: 12.9s\n",
      "684:\tlearn: 0.1184236\ttest: 0.1318079\tbest: 0.1313277 (559)\ttotal: 27.9s\tremaining: 12.8s\n",
      "685:\tlearn: 0.1183864\ttest: 0.1318245\tbest: 0.1313277 (559)\ttotal: 28s\tremaining: 12.8s\n",
      "686:\tlearn: 0.1183798\ttest: 0.1318330\tbest: 0.1313277 (559)\ttotal: 28.1s\tremaining: 12.8s\n",
      "687:\tlearn: 0.1183797\ttest: 0.1318332\tbest: 0.1313277 (559)\ttotal: 28.1s\tremaining: 12.7s\n",
      "688:\tlearn: 0.1183394\ttest: 0.1318098\tbest: 0.1313277 (559)\ttotal: 28.2s\tremaining: 12.7s\n",
      "689:\tlearn: 0.1182924\ttest: 0.1318201\tbest: 0.1313277 (559)\ttotal: 28.2s\tremaining: 12.7s\n",
      "690:\tlearn: 0.1182428\ttest: 0.1318476\tbest: 0.1313277 (559)\ttotal: 28.3s\tremaining: 12.7s\n",
      "691:\tlearn: 0.1181681\ttest: 0.1318134\tbest: 0.1313277 (559)\ttotal: 28.3s\tremaining: 12.6s\n",
      "692:\tlearn: 0.1181202\ttest: 0.1318215\tbest: 0.1313277 (559)\ttotal: 28.4s\tremaining: 12.6s\n",
      "693:\tlearn: 0.1180789\ttest: 0.1318183\tbest: 0.1313277 (559)\ttotal: 28.4s\tremaining: 12.5s\n",
      "694:\tlearn: 0.1180533\ttest: 0.1318048\tbest: 0.1313277 (559)\ttotal: 28.5s\tremaining: 12.5s\n",
      "695:\tlearn: 0.1180265\ttest: 0.1318048\tbest: 0.1313277 (559)\ttotal: 28.5s\tremaining: 12.5s\n",
      "696:\tlearn: 0.1180027\ttest: 0.1318354\tbest: 0.1313277 (559)\ttotal: 28.5s\tremaining: 12.4s\n",
      "697:\tlearn: 0.1179896\ttest: 0.1318102\tbest: 0.1313277 (559)\ttotal: 28.6s\tremaining: 12.4s\n",
      "698:\tlearn: 0.1179612\ttest: 0.1318156\tbest: 0.1313277 (559)\ttotal: 28.6s\tremaining: 12.3s\n",
      "699:\tlearn: 0.1179200\ttest: 0.1318600\tbest: 0.1313277 (559)\ttotal: 28.7s\tremaining: 12.3s\n",
      "700:\tlearn: 0.1178714\ttest: 0.1318738\tbest: 0.1313277 (559)\ttotal: 28.7s\tremaining: 12.3s\n",
      "701:\tlearn: 0.1177887\ttest: 0.1318181\tbest: 0.1313277 (559)\ttotal: 28.8s\tremaining: 12.2s\n",
      "702:\tlearn: 0.1177637\ttest: 0.1318196\tbest: 0.1313277 (559)\ttotal: 28.8s\tremaining: 12.2s\n",
      "703:\tlearn: 0.1177244\ttest: 0.1318070\tbest: 0.1313277 (559)\ttotal: 28.9s\tremaining: 12.1s\n",
      "704:\tlearn: 0.1177058\ttest: 0.1318220\tbest: 0.1313277 (559)\ttotal: 28.9s\tremaining: 12.1s\n",
      "705:\tlearn: 0.1176888\ttest: 0.1318211\tbest: 0.1313277 (559)\ttotal: 29s\tremaining: 12.1s\n",
      "706:\tlearn: 0.1176558\ttest: 0.1318406\tbest: 0.1313277 (559)\ttotal: 29s\tremaining: 12s\n",
      "707:\tlearn: 0.1175986\ttest: 0.1318354\tbest: 0.1313277 (559)\ttotal: 29.1s\tremaining: 12s\n",
      "708:\tlearn: 0.1175945\ttest: 0.1318448\tbest: 0.1313277 (559)\ttotal: 29.1s\tremaining: 11.9s\n",
      "709:\tlearn: 0.1175803\ttest: 0.1318349\tbest: 0.1313277 (559)\ttotal: 29.2s\tremaining: 11.9s\n",
      "710:\tlearn: 0.1175802\ttest: 0.1318349\tbest: 0.1313277 (559)\ttotal: 29.2s\tremaining: 11.9s\n",
      "711:\tlearn: 0.1175621\ttest: 0.1318386\tbest: 0.1313277 (559)\ttotal: 29.2s\tremaining: 11.8s\n",
      "712:\tlearn: 0.1175260\ttest: 0.1318744\tbest: 0.1313277 (559)\ttotal: 29.3s\tremaining: 11.8s\n",
      "713:\tlearn: 0.1174933\ttest: 0.1318743\tbest: 0.1313277 (559)\ttotal: 29.3s\tremaining: 11.7s\n",
      "714:\tlearn: 0.1174314\ttest: 0.1319301\tbest: 0.1313277 (559)\ttotal: 29.4s\tremaining: 11.7s\n",
      "715:\tlearn: 0.1173934\ttest: 0.1319140\tbest: 0.1313277 (559)\ttotal: 29.4s\tremaining: 11.7s\n",
      "716:\tlearn: 0.1173934\ttest: 0.1319140\tbest: 0.1313277 (559)\ttotal: 29.4s\tremaining: 11.6s\n",
      "717:\tlearn: 0.1173500\ttest: 0.1319431\tbest: 0.1313277 (559)\ttotal: 29.5s\tremaining: 11.6s\n",
      "718:\tlearn: 0.1173500\ttest: 0.1319432\tbest: 0.1313277 (559)\ttotal: 29.5s\tremaining: 11.5s\n",
      "719:\tlearn: 0.1173257\ttest: 0.1319540\tbest: 0.1313277 (559)\ttotal: 29.5s\tremaining: 11.5s\n",
      "720:\tlearn: 0.1172853\ttest: 0.1319914\tbest: 0.1313277 (559)\ttotal: 29.6s\tremaining: 11.4s\n",
      "721:\tlearn: 0.1172396\ttest: 0.1319845\tbest: 0.1313277 (559)\ttotal: 29.6s\tremaining: 11.4s\n",
      "722:\tlearn: 0.1171708\ttest: 0.1320217\tbest: 0.1313277 (559)\ttotal: 29.6s\tremaining: 11.4s\n",
      "723:\tlearn: 0.1171599\ttest: 0.1320252\tbest: 0.1313277 (559)\ttotal: 29.7s\tremaining: 11.3s\n",
      "724:\tlearn: 0.1171408\ttest: 0.1320210\tbest: 0.1313277 (559)\ttotal: 29.7s\tremaining: 11.3s\n",
      "725:\tlearn: 0.1171408\ttest: 0.1320212\tbest: 0.1313277 (559)\ttotal: 29.7s\tremaining: 11.2s\n",
      "726:\tlearn: 0.1171408\ttest: 0.1320212\tbest: 0.1313277 (559)\ttotal: 29.8s\tremaining: 11.2s\n",
      "727:\tlearn: 0.1171208\ttest: 0.1320423\tbest: 0.1313277 (559)\ttotal: 29.8s\tremaining: 11.1s\n",
      "728:\tlearn: 0.1171208\ttest: 0.1320423\tbest: 0.1313277 (559)\ttotal: 29.8s\tremaining: 11.1s\n",
      "729:\tlearn: 0.1171208\ttest: 0.1320423\tbest: 0.1313277 (559)\ttotal: 29.8s\tremaining: 11s\n",
      "730:\tlearn: 0.1170928\ttest: 0.1320499\tbest: 0.1313277 (559)\ttotal: 29.9s\tremaining: 11s\n",
      "731:\tlearn: 0.1170928\ttest: 0.1320500\tbest: 0.1313277 (559)\ttotal: 29.9s\tremaining: 10.9s\n",
      "732:\tlearn: 0.1170722\ttest: 0.1320600\tbest: 0.1313277 (559)\ttotal: 29.9s\tremaining: 10.9s\n",
      "733:\tlearn: 0.1170181\ttest: 0.1320449\tbest: 0.1313277 (559)\ttotal: 29.9s\tremaining: 10.8s\n",
      "734:\tlearn: 0.1170181\ttest: 0.1320451\tbest: 0.1313277 (559)\ttotal: 30s\tremaining: 10.8s\n",
      "735:\tlearn: 0.1169804\ttest: 0.1320250\tbest: 0.1313277 (559)\ttotal: 30s\tremaining: 10.8s\n",
      "736:\tlearn: 0.1169637\ttest: 0.1320158\tbest: 0.1313277 (559)\ttotal: 30s\tremaining: 10.7s\n",
      "737:\tlearn: 0.1169384\ttest: 0.1320191\tbest: 0.1313277 (559)\ttotal: 30.1s\tremaining: 10.7s\n",
      "738:\tlearn: 0.1169101\ttest: 0.1320424\tbest: 0.1313277 (559)\ttotal: 30.1s\tremaining: 10.6s\n",
      "739:\tlearn: 0.1168914\ttest: 0.1320526\tbest: 0.1313277 (559)\ttotal: 30.2s\tremaining: 10.6s\n",
      "740:\tlearn: 0.1168401\ttest: 0.1320607\tbest: 0.1313277 (559)\ttotal: 30.2s\tremaining: 10.6s\n",
      "741:\tlearn: 0.1168126\ttest: 0.1320576\tbest: 0.1313277 (559)\ttotal: 30.2s\tremaining: 10.5s\n",
      "742:\tlearn: 0.1167828\ttest: 0.1320646\tbest: 0.1313277 (559)\ttotal: 30.3s\tremaining: 10.5s\n",
      "743:\tlearn: 0.1167224\ttest: 0.1320197\tbest: 0.1313277 (559)\ttotal: 30.3s\tremaining: 10.4s\n",
      "744:\tlearn: 0.1167052\ttest: 0.1320271\tbest: 0.1313277 (559)\ttotal: 30.4s\tremaining: 10.4s\n",
      "745:\tlearn: 0.1166660\ttest: 0.1320503\tbest: 0.1313277 (559)\ttotal: 30.4s\tremaining: 10.4s\n",
      "746:\tlearn: 0.1166368\ttest: 0.1322313\tbest: 0.1313277 (559)\ttotal: 30.5s\tremaining: 10.3s\n",
      "747:\tlearn: 0.1165962\ttest: 0.1322479\tbest: 0.1313277 (559)\ttotal: 30.5s\tremaining: 10.3s\n",
      "748:\tlearn: 0.1165682\ttest: 0.1322433\tbest: 0.1313277 (559)\ttotal: 30.6s\tremaining: 10.3s\n",
      "749:\tlearn: 0.1165378\ttest: 0.1322467\tbest: 0.1313277 (559)\ttotal: 30.7s\tremaining: 10.2s\n",
      "750:\tlearn: 0.1164760\ttest: 0.1322698\tbest: 0.1313277 (559)\ttotal: 30.7s\tremaining: 10.2s\n",
      "751:\tlearn: 0.1164267\ttest: 0.1322767\tbest: 0.1313277 (559)\ttotal: 30.7s\tremaining: 10.1s\n",
      "752:\tlearn: 0.1164148\ttest: 0.1322722\tbest: 0.1313277 (559)\ttotal: 30.8s\tremaining: 10.1s\n",
      "753:\tlearn: 0.1163620\ttest: 0.1322380\tbest: 0.1313277 (559)\ttotal: 30.8s\tremaining: 10.1s\n",
      "754:\tlearn: 0.1163118\ttest: 0.1322638\tbest: 0.1313277 (559)\ttotal: 30.9s\tremaining: 10s\n",
      "755:\tlearn: 0.1162589\ttest: 0.1322712\tbest: 0.1313277 (559)\ttotal: 30.9s\tremaining: 9.97s\n",
      "756:\tlearn: 0.1162461\ttest: 0.1322695\tbest: 0.1313277 (559)\ttotal: 30.9s\tremaining: 9.93s\n",
      "757:\tlearn: 0.1161698\ttest: 0.1322564\tbest: 0.1313277 (559)\ttotal: 31s\tremaining: 9.9s\n",
      "758:\tlearn: 0.1161274\ttest: 0.1322150\tbest: 0.1313277 (559)\ttotal: 31s\tremaining: 9.86s\n",
      "759:\tlearn: 0.1160710\ttest: 0.1322336\tbest: 0.1313277 (559)\ttotal: 31.1s\tremaining: 9.81s\n",
      "760:\tlearn: 0.1159865\ttest: 0.1322177\tbest: 0.1313277 (559)\ttotal: 31.1s\tremaining: 9.77s\n",
      "761:\tlearn: 0.1159536\ttest: 0.1322509\tbest: 0.1313277 (559)\ttotal: 31.2s\tremaining: 9.73s\n",
      "762:\tlearn: 0.1159093\ttest: 0.1322944\tbest: 0.1313277 (559)\ttotal: 31.2s\tremaining: 9.69s\n"
     ]
    },
    {
     "name": "stdout",
     "output_type": "stream",
     "text": [
      "763:\tlearn: 0.1159075\ttest: 0.1322916\tbest: 0.1313277 (559)\ttotal: 31.2s\tremaining: 9.65s\n",
      "764:\tlearn: 0.1158897\ttest: 0.1322865\tbest: 0.1313277 (559)\ttotal: 31.3s\tremaining: 9.62s\n",
      "765:\tlearn: 0.1158897\ttest: 0.1322867\tbest: 0.1313277 (559)\ttotal: 31.3s\tremaining: 9.57s\n",
      "766:\tlearn: 0.1158897\ttest: 0.1322870\tbest: 0.1313277 (559)\ttotal: 31.3s\tremaining: 9.52s\n",
      "767:\tlearn: 0.1158569\ttest: 0.1322990\tbest: 0.1313277 (559)\ttotal: 31.4s\tremaining: 9.48s\n",
      "768:\tlearn: 0.1158457\ttest: 0.1322974\tbest: 0.1313277 (559)\ttotal: 31.4s\tremaining: 9.44s\n",
      "769:\tlearn: 0.1157630\ttest: 0.1323173\tbest: 0.1313277 (559)\ttotal: 31.5s\tremaining: 9.4s\n",
      "770:\tlearn: 0.1156559\ttest: 0.1322877\tbest: 0.1313277 (559)\ttotal: 31.5s\tremaining: 9.36s\n",
      "771:\tlearn: 0.1156392\ttest: 0.1322847\tbest: 0.1313277 (559)\ttotal: 31.6s\tremaining: 9.32s\n",
      "772:\tlearn: 0.1155638\ttest: 0.1322768\tbest: 0.1313277 (559)\ttotal: 31.6s\tremaining: 9.28s\n",
      "773:\tlearn: 0.1155636\ttest: 0.1322768\tbest: 0.1313277 (559)\ttotal: 31.6s\tremaining: 9.24s\n",
      "774:\tlearn: 0.1155262\ttest: 0.1322832\tbest: 0.1313277 (559)\ttotal: 31.7s\tremaining: 9.2s\n",
      "775:\tlearn: 0.1154688\ttest: 0.1322758\tbest: 0.1313277 (559)\ttotal: 31.8s\tremaining: 9.17s\n",
      "776:\tlearn: 0.1154434\ttest: 0.1322772\tbest: 0.1313277 (559)\ttotal: 31.8s\tremaining: 9.13s\n",
      "777:\tlearn: 0.1154124\ttest: 0.1322817\tbest: 0.1313277 (559)\ttotal: 31.8s\tremaining: 9.08s\n",
      "778:\tlearn: 0.1153569\ttest: 0.1323144\tbest: 0.1313277 (559)\ttotal: 31.9s\tremaining: 9.04s\n",
      "779:\tlearn: 0.1152687\ttest: 0.1323327\tbest: 0.1313277 (559)\ttotal: 31.9s\tremaining: 9s\n",
      "780:\tlearn: 0.1152191\ttest: 0.1323442\tbest: 0.1313277 (559)\ttotal: 31.9s\tremaining: 8.96s\n",
      "781:\tlearn: 0.1151709\ttest: 0.1323688\tbest: 0.1313277 (559)\ttotal: 32s\tremaining: 8.92s\n",
      "782:\tlearn: 0.1151423\ttest: 0.1323697\tbest: 0.1313277 (559)\ttotal: 32.1s\tremaining: 8.88s\n",
      "783:\tlearn: 0.1151127\ttest: 0.1323418\tbest: 0.1313277 (559)\ttotal: 32.1s\tremaining: 8.85s\n",
      "784:\tlearn: 0.1150882\ttest: 0.1322955\tbest: 0.1313277 (559)\ttotal: 32.2s\tremaining: 8.81s\n",
      "785:\tlearn: 0.1150173\ttest: 0.1323181\tbest: 0.1313277 (559)\ttotal: 32.2s\tremaining: 8.77s\n",
      "786:\tlearn: 0.1149950\ttest: 0.1323189\tbest: 0.1313277 (559)\ttotal: 32.3s\tremaining: 8.73s\n",
      "787:\tlearn: 0.1149775\ttest: 0.1323067\tbest: 0.1313277 (559)\ttotal: 32.3s\tremaining: 8.69s\n",
      "788:\tlearn: 0.1149456\ttest: 0.1322487\tbest: 0.1313277 (559)\ttotal: 32.4s\tremaining: 8.65s\n",
      "789:\tlearn: 0.1149003\ttest: 0.1322392\tbest: 0.1313277 (559)\ttotal: 32.4s\tremaining: 8.62s\n",
      "790:\tlearn: 0.1148718\ttest: 0.1322430\tbest: 0.1313277 (559)\ttotal: 32.5s\tremaining: 8.58s\n",
      "791:\tlearn: 0.1148717\ttest: 0.1322431\tbest: 0.1313277 (559)\ttotal: 32.5s\tremaining: 8.53s\n",
      "792:\tlearn: 0.1148717\ttest: 0.1322431\tbest: 0.1313277 (559)\ttotal: 32.5s\tremaining: 8.48s\n",
      "793:\tlearn: 0.1148414\ttest: 0.1322421\tbest: 0.1313277 (559)\ttotal: 32.6s\tremaining: 8.45s\n",
      "794:\tlearn: 0.1148337\ttest: 0.1322579\tbest: 0.1313277 (559)\ttotal: 32.6s\tremaining: 8.41s\n",
      "795:\tlearn: 0.1148160\ttest: 0.1322638\tbest: 0.1313277 (559)\ttotal: 32.7s\tremaining: 8.37s\n",
      "796:\tlearn: 0.1147762\ttest: 0.1322433\tbest: 0.1313277 (559)\ttotal: 32.7s\tremaining: 8.33s\n",
      "797:\tlearn: 0.1147095\ttest: 0.1322295\tbest: 0.1313277 (559)\ttotal: 32.8s\tremaining: 8.29s\n",
      "798:\tlearn: 0.1146660\ttest: 0.1322194\tbest: 0.1313277 (559)\ttotal: 32.8s\tremaining: 8.25s\n",
      "799:\tlearn: 0.1146077\ttest: 0.1322593\tbest: 0.1313277 (559)\ttotal: 32.8s\tremaining: 8.21s\n",
      "800:\tlearn: 0.1145478\ttest: 0.1322850\tbest: 0.1313277 (559)\ttotal: 32.9s\tremaining: 8.17s\n",
      "801:\tlearn: 0.1145199\ttest: 0.1322943\tbest: 0.1313277 (559)\ttotal: 32.9s\tremaining: 8.13s\n",
      "802:\tlearn: 0.1144837\ttest: 0.1322831\tbest: 0.1313277 (559)\ttotal: 33s\tremaining: 8.09s\n",
      "803:\tlearn: 0.1144001\ttest: 0.1322424\tbest: 0.1313277 (559)\ttotal: 33.1s\tremaining: 8.06s\n",
      "804:\tlearn: 0.1143630\ttest: 0.1322773\tbest: 0.1313277 (559)\ttotal: 33.1s\tremaining: 8.02s\n",
      "805:\tlearn: 0.1142849\ttest: 0.1321673\tbest: 0.1313277 (559)\ttotal: 33.2s\tremaining: 7.99s\n",
      "806:\tlearn: 0.1142614\ttest: 0.1321669\tbest: 0.1313277 (559)\ttotal: 33.2s\tremaining: 7.95s\n",
      "807:\tlearn: 0.1141820\ttest: 0.1321243\tbest: 0.1313277 (559)\ttotal: 33.3s\tremaining: 7.92s\n",
      "808:\tlearn: 0.1141514\ttest: 0.1321256\tbest: 0.1313277 (559)\ttotal: 33.4s\tremaining: 7.88s\n",
      "809:\tlearn: 0.1141165\ttest: 0.1321446\tbest: 0.1313277 (559)\ttotal: 33.4s\tremaining: 7.84s\n",
      "810:\tlearn: 0.1140986\ttest: 0.1321182\tbest: 0.1313277 (559)\ttotal: 33.5s\tremaining: 7.8s\n",
      "811:\tlearn: 0.1140860\ttest: 0.1321158\tbest: 0.1313277 (559)\ttotal: 33.5s\tremaining: 7.76s\n",
      "812:\tlearn: 0.1140564\ttest: 0.1321498\tbest: 0.1313277 (559)\ttotal: 33.6s\tremaining: 7.73s\n",
      "813:\tlearn: 0.1140320\ttest: 0.1321922\tbest: 0.1313277 (559)\ttotal: 33.6s\tremaining: 7.69s\n",
      "814:\tlearn: 0.1139077\ttest: 0.1322699\tbest: 0.1313277 (559)\ttotal: 33.7s\tremaining: 7.65s\n",
      "815:\tlearn: 0.1138580\ttest: 0.1322947\tbest: 0.1313277 (559)\ttotal: 33.7s\tremaining: 7.6s\n",
      "816:\tlearn: 0.1137980\ttest: 0.1323087\tbest: 0.1313277 (559)\ttotal: 33.8s\tremaining: 7.56s\n",
      "817:\tlearn: 0.1137093\ttest: 0.1323068\tbest: 0.1313277 (559)\ttotal: 33.8s\tremaining: 7.52s\n",
      "818:\tlearn: 0.1136879\ttest: 0.1323021\tbest: 0.1313277 (559)\ttotal: 33.8s\tremaining: 7.48s\n",
      "819:\tlearn: 0.1136390\ttest: 0.1323187\tbest: 0.1313277 (559)\ttotal: 33.9s\tremaining: 7.44s\n",
      "820:\tlearn: 0.1136174\ttest: 0.1323250\tbest: 0.1313277 (559)\ttotal: 34s\tremaining: 7.4s\n",
      "821:\tlearn: 0.1135568\ttest: 0.1323278\tbest: 0.1313277 (559)\ttotal: 34s\tremaining: 7.36s\n",
      "822:\tlearn: 0.1135335\ttest: 0.1323521\tbest: 0.1313277 (559)\ttotal: 34s\tremaining: 7.32s\n",
      "823:\tlearn: 0.1134831\ttest: 0.1323469\tbest: 0.1313277 (559)\ttotal: 34.1s\tremaining: 7.28s\n",
      "824:\tlearn: 0.1134334\ttest: 0.1323522\tbest: 0.1313277 (559)\ttotal: 34.1s\tremaining: 7.24s\n",
      "825:\tlearn: 0.1134334\ttest: 0.1323523\tbest: 0.1313277 (559)\ttotal: 34.1s\tremaining: 7.19s\n",
      "826:\tlearn: 0.1134333\ttest: 0.1323523\tbest: 0.1313277 (559)\ttotal: 34.2s\tremaining: 7.14s\n",
      "827:\tlearn: 0.1134241\ttest: 0.1323561\tbest: 0.1313277 (559)\ttotal: 34.2s\tremaining: 7.1s\n",
      "828:\tlearn: 0.1133821\ttest: 0.1323795\tbest: 0.1313277 (559)\ttotal: 34.3s\tremaining: 7.07s\n",
      "829:\tlearn: 0.1133253\ttest: 0.1323809\tbest: 0.1313277 (559)\ttotal: 34.3s\tremaining: 7.03s\n",
      "830:\tlearn: 0.1132998\ttest: 0.1323883\tbest: 0.1313277 (559)\ttotal: 34.3s\tremaining: 6.98s\n",
      "831:\tlearn: 0.1132898\ttest: 0.1323812\tbest: 0.1313277 (559)\ttotal: 34.4s\tremaining: 6.94s\n",
      "832:\tlearn: 0.1132234\ttest: 0.1323601\tbest: 0.1313277 (559)\ttotal: 34.4s\tremaining: 6.9s\n",
      "833:\tlearn: 0.1131841\ttest: 0.1323574\tbest: 0.1313277 (559)\ttotal: 34.5s\tremaining: 6.86s\n",
      "834:\tlearn: 0.1131516\ttest: 0.1323460\tbest: 0.1313277 (559)\ttotal: 34.5s\tremaining: 6.82s\n",
      "835:\tlearn: 0.1131337\ttest: 0.1323544\tbest: 0.1313277 (559)\ttotal: 34.6s\tremaining: 6.78s\n",
      "836:\tlearn: 0.1130997\ttest: 0.1323847\tbest: 0.1313277 (559)\ttotal: 34.6s\tremaining: 6.74s\n",
      "837:\tlearn: 0.1130576\ttest: 0.1323747\tbest: 0.1313277 (559)\ttotal: 34.7s\tremaining: 6.7s\n",
      "838:\tlearn: 0.1130079\ttest: 0.1323559\tbest: 0.1313277 (559)\ttotal: 34.7s\tremaining: 6.66s\n",
      "839:\tlearn: 0.1130017\ttest: 0.1323410\tbest: 0.1313277 (559)\ttotal: 34.7s\tremaining: 6.62s\n",
      "840:\tlearn: 0.1129822\ttest: 0.1323521\tbest: 0.1313277 (559)\ttotal: 34.8s\tremaining: 6.58s\n",
      "841:\tlearn: 0.1128764\ttest: 0.1323471\tbest: 0.1313277 (559)\ttotal: 34.8s\tremaining: 6.54s\n",
      "842:\tlearn: 0.1128458\ttest: 0.1323158\tbest: 0.1313277 (559)\ttotal: 34.9s\tremaining: 6.5s\n",
      "843:\tlearn: 0.1128108\ttest: 0.1323091\tbest: 0.1313277 (559)\ttotal: 35s\tremaining: 6.46s\n",
      "844:\tlearn: 0.1127809\ttest: 0.1323475\tbest: 0.1313277 (559)\ttotal: 35s\tremaining: 6.42s\n",
      "845:\tlearn: 0.1127136\ttest: 0.1323351\tbest: 0.1313277 (559)\ttotal: 35s\tremaining: 6.38s\n",
      "846:\tlearn: 0.1126630\ttest: 0.1323262\tbest: 0.1313277 (559)\ttotal: 35.1s\tremaining: 6.34s\n",
      "847:\tlearn: 0.1126490\ttest: 0.1323245\tbest: 0.1313277 (559)\ttotal: 35.1s\tremaining: 6.29s\n",
      "848:\tlearn: 0.1125969\ttest: 0.1323243\tbest: 0.1313277 (559)\ttotal: 35.2s\tremaining: 6.25s\n",
      "849:\tlearn: 0.1125310\ttest: 0.1322998\tbest: 0.1313277 (559)\ttotal: 35.2s\tremaining: 6.21s\n",
      "850:\tlearn: 0.1124894\ttest: 0.1323212\tbest: 0.1313277 (559)\ttotal: 35.3s\tremaining: 6.17s\n",
      "851:\tlearn: 0.1124767\ttest: 0.1323520\tbest: 0.1313277 (559)\ttotal: 35.3s\tremaining: 6.13s\n",
      "852:\tlearn: 0.1124347\ttest: 0.1323747\tbest: 0.1313277 (559)\ttotal: 35.4s\tremaining: 6.09s\n",
      "853:\tlearn: 0.1124021\ttest: 0.1323531\tbest: 0.1313277 (559)\ttotal: 35.4s\tremaining: 6.05s\n",
      "854:\tlearn: 0.1123487\ttest: 0.1323552\tbest: 0.1313277 (559)\ttotal: 35.5s\tremaining: 6.02s\n",
      "855:\tlearn: 0.1122914\ttest: 0.1323644\tbest: 0.1313277 (559)\ttotal: 35.5s\tremaining: 5.97s\n",
      "856:\tlearn: 0.1122523\ttest: 0.1323220\tbest: 0.1313277 (559)\ttotal: 35.6s\tremaining: 5.93s\n",
      "857:\tlearn: 0.1122103\ttest: 0.1323492\tbest: 0.1313277 (559)\ttotal: 35.6s\tremaining: 5.89s\n"
     ]
    },
    {
     "name": "stdout",
     "output_type": "stream",
     "text": [
      "858:\tlearn: 0.1121411\ttest: 0.1323368\tbest: 0.1313277 (559)\ttotal: 35.6s\tremaining: 5.85s\n",
      "859:\tlearn: 0.1120658\ttest: 0.1323257\tbest: 0.1313277 (559)\ttotal: 35.7s\tremaining: 5.81s\n",
      "860:\tlearn: 0.1120435\ttest: 0.1323193\tbest: 0.1313277 (559)\ttotal: 35.7s\tremaining: 5.76s\n",
      "861:\tlearn: 0.1120228\ttest: 0.1323052\tbest: 0.1313277 (559)\ttotal: 35.8s\tremaining: 5.72s\n",
      "862:\tlearn: 0.1119944\ttest: 0.1323153\tbest: 0.1313277 (559)\ttotal: 35.8s\tremaining: 5.68s\n",
      "863:\tlearn: 0.1119738\ttest: 0.1323296\tbest: 0.1313277 (559)\ttotal: 35.8s\tremaining: 5.64s\n",
      "864:\tlearn: 0.1118994\ttest: 0.1323168\tbest: 0.1313277 (559)\ttotal: 35.9s\tremaining: 5.6s\n",
      "865:\tlearn: 0.1118617\ttest: 0.1323246\tbest: 0.1313277 (559)\ttotal: 35.9s\tremaining: 5.56s\n",
      "866:\tlearn: 0.1118494\ttest: 0.1323084\tbest: 0.1313277 (559)\ttotal: 36s\tremaining: 5.52s\n",
      "867:\tlearn: 0.1117676\ttest: 0.1323169\tbest: 0.1313277 (559)\ttotal: 36s\tremaining: 5.47s\n",
      "868:\tlearn: 0.1117520\ttest: 0.1323258\tbest: 0.1313277 (559)\ttotal: 36.1s\tremaining: 5.44s\n",
      "869:\tlearn: 0.1116766\ttest: 0.1323365\tbest: 0.1313277 (559)\ttotal: 36.2s\tremaining: 5.4s\n",
      "870:\tlearn: 0.1116630\ttest: 0.1323506\tbest: 0.1313277 (559)\ttotal: 36.2s\tremaining: 5.36s\n",
      "871:\tlearn: 0.1116523\ttest: 0.1323556\tbest: 0.1313277 (559)\ttotal: 36.3s\tremaining: 5.32s\n",
      "872:\tlearn: 0.1116125\ttest: 0.1323856\tbest: 0.1313277 (559)\ttotal: 36.3s\tremaining: 5.28s\n",
      "873:\tlearn: 0.1115762\ttest: 0.1324502\tbest: 0.1313277 (559)\ttotal: 36.3s\tremaining: 5.24s\n",
      "874:\tlearn: 0.1115181\ttest: 0.1324605\tbest: 0.1313277 (559)\ttotal: 36.4s\tremaining: 5.2s\n",
      "875:\tlearn: 0.1114767\ttest: 0.1324754\tbest: 0.1313277 (559)\ttotal: 36.4s\tremaining: 5.16s\n",
      "876:\tlearn: 0.1114652\ttest: 0.1324575\tbest: 0.1313277 (559)\ttotal: 36.5s\tremaining: 5.12s\n",
      "877:\tlearn: 0.1114499\ttest: 0.1324402\tbest: 0.1313277 (559)\ttotal: 36.5s\tremaining: 5.07s\n",
      "878:\tlearn: 0.1114045\ttest: 0.1324664\tbest: 0.1313277 (559)\ttotal: 36.6s\tremaining: 5.03s\n",
      "879:\tlearn: 0.1113422\ttest: 0.1324973\tbest: 0.1313277 (559)\ttotal: 36.6s\tremaining: 4.99s\n",
      "880:\tlearn: 0.1112858\ttest: 0.1324670\tbest: 0.1313277 (559)\ttotal: 36.7s\tremaining: 4.95s\n",
      "881:\tlearn: 0.1112656\ttest: 0.1324921\tbest: 0.1313277 (559)\ttotal: 36.7s\tremaining: 4.91s\n",
      "882:\tlearn: 0.1112372\ttest: 0.1324989\tbest: 0.1313277 (559)\ttotal: 36.8s\tremaining: 4.87s\n",
      "883:\tlearn: 0.1111551\ttest: 0.1325415\tbest: 0.1313277 (559)\ttotal: 36.8s\tremaining: 4.83s\n",
      "884:\tlearn: 0.1111108\ttest: 0.1325302\tbest: 0.1313277 (559)\ttotal: 36.8s\tremaining: 4.79s\n",
      "885:\tlearn: 0.1110902\ttest: 0.1325247\tbest: 0.1313277 (559)\ttotal: 36.9s\tremaining: 4.74s\n",
      "886:\tlearn: 0.1110552\ttest: 0.1325168\tbest: 0.1313277 (559)\ttotal: 36.9s\tremaining: 4.7s\n",
      "887:\tlearn: 0.1110022\ttest: 0.1325481\tbest: 0.1313277 (559)\ttotal: 37s\tremaining: 4.66s\n",
      "888:\tlearn: 0.1109751\ttest: 0.1325615\tbest: 0.1313277 (559)\ttotal: 37s\tremaining: 4.62s\n",
      "889:\tlearn: 0.1109421\ttest: 0.1325486\tbest: 0.1313277 (559)\ttotal: 37s\tremaining: 4.58s\n",
      "890:\tlearn: 0.1109291\ttest: 0.1325628\tbest: 0.1313277 (559)\ttotal: 37.1s\tremaining: 4.54s\n",
      "891:\tlearn: 0.1108843\ttest: 0.1325799\tbest: 0.1313277 (559)\ttotal: 37.1s\tremaining: 4.49s\n",
      "892:\tlearn: 0.1108453\ttest: 0.1326376\tbest: 0.1313277 (559)\ttotal: 37.1s\tremaining: 4.45s\n",
      "893:\tlearn: 0.1108199\ttest: 0.1326456\tbest: 0.1313277 (559)\ttotal: 37.2s\tremaining: 4.41s\n",
      "894:\tlearn: 0.1107761\ttest: 0.1326693\tbest: 0.1313277 (559)\ttotal: 37.2s\tremaining: 4.37s\n",
      "895:\tlearn: 0.1107497\ttest: 0.1326749\tbest: 0.1313277 (559)\ttotal: 37.3s\tremaining: 4.33s\n",
      "896:\tlearn: 0.1106952\ttest: 0.1326722\tbest: 0.1313277 (559)\ttotal: 37.3s\tremaining: 4.29s\n",
      "897:\tlearn: 0.1106411\ttest: 0.1326592\tbest: 0.1313277 (559)\ttotal: 37.4s\tremaining: 4.24s\n",
      "898:\tlearn: 0.1106100\ttest: 0.1326643\tbest: 0.1313277 (559)\ttotal: 37.4s\tremaining: 4.2s\n",
      "899:\tlearn: 0.1105916\ttest: 0.1326684\tbest: 0.1313277 (559)\ttotal: 37.5s\tremaining: 4.16s\n",
      "900:\tlearn: 0.1105634\ttest: 0.1326343\tbest: 0.1313277 (559)\ttotal: 37.5s\tremaining: 4.12s\n",
      "901:\tlearn: 0.1105372\ttest: 0.1326403\tbest: 0.1313277 (559)\ttotal: 37.6s\tremaining: 4.08s\n",
      "902:\tlearn: 0.1104947\ttest: 0.1326337\tbest: 0.1313277 (559)\ttotal: 37.6s\tremaining: 4.04s\n",
      "903:\tlearn: 0.1104326\ttest: 0.1326014\tbest: 0.1313277 (559)\ttotal: 37.6s\tremaining: 4s\n",
      "904:\tlearn: 0.1103785\ttest: 0.1326498\tbest: 0.1313277 (559)\ttotal: 37.7s\tremaining: 3.95s\n",
      "905:\tlearn: 0.1103571\ttest: 0.1326530\tbest: 0.1313277 (559)\ttotal: 37.7s\tremaining: 3.91s\n",
      "906:\tlearn: 0.1103570\ttest: 0.1326530\tbest: 0.1313277 (559)\ttotal: 37.8s\tremaining: 3.87s\n",
      "907:\tlearn: 0.1103156\ttest: 0.1326279\tbest: 0.1313277 (559)\ttotal: 37.8s\tremaining: 3.83s\n",
      "908:\tlearn: 0.1103004\ttest: 0.1326326\tbest: 0.1313277 (559)\ttotal: 37.8s\tremaining: 3.79s\n",
      "909:\tlearn: 0.1102881\ttest: 0.1326593\tbest: 0.1313277 (559)\ttotal: 37.9s\tremaining: 3.75s\n",
      "910:\tlearn: 0.1102410\ttest: 0.1326698\tbest: 0.1313277 (559)\ttotal: 37.9s\tremaining: 3.7s\n",
      "911:\tlearn: 0.1102284\ttest: 0.1327015\tbest: 0.1313277 (559)\ttotal: 38s\tremaining: 3.66s\n",
      "912:\tlearn: 0.1101691\ttest: 0.1327030\tbest: 0.1313277 (559)\ttotal: 38s\tremaining: 3.62s\n",
      "913:\tlearn: 0.1101179\ttest: 0.1326784\tbest: 0.1313277 (559)\ttotal: 38.1s\tremaining: 3.58s\n",
      "914:\tlearn: 0.1100905\ttest: 0.1327253\tbest: 0.1313277 (559)\ttotal: 38.1s\tremaining: 3.54s\n",
      "915:\tlearn: 0.1100590\ttest: 0.1327100\tbest: 0.1313277 (559)\ttotal: 38.2s\tremaining: 3.5s\n",
      "916:\tlearn: 0.1100032\ttest: 0.1327000\tbest: 0.1313277 (559)\ttotal: 38.2s\tremaining: 3.46s\n",
      "917:\tlearn: 0.1099087\ttest: 0.1326890\tbest: 0.1313277 (559)\ttotal: 38.2s\tremaining: 3.42s\n",
      "918:\tlearn: 0.1098668\ttest: 0.1327028\tbest: 0.1313277 (559)\ttotal: 38.3s\tremaining: 3.37s\n",
      "919:\tlearn: 0.1098430\ttest: 0.1326929\tbest: 0.1313277 (559)\ttotal: 38.3s\tremaining: 3.33s\n",
      "920:\tlearn: 0.1097270\ttest: 0.1326467\tbest: 0.1313277 (559)\ttotal: 38.4s\tremaining: 3.29s\n",
      "921:\tlearn: 0.1097226\ttest: 0.1326429\tbest: 0.1313277 (559)\ttotal: 38.4s\tremaining: 3.25s\n",
      "922:\tlearn: 0.1096244\ttest: 0.1326549\tbest: 0.1313277 (559)\ttotal: 38.4s\tremaining: 3.21s\n",
      "923:\tlearn: 0.1095793\ttest: 0.1326949\tbest: 0.1313277 (559)\ttotal: 38.5s\tremaining: 3.17s\n",
      "924:\tlearn: 0.1095679\ttest: 0.1327026\tbest: 0.1313277 (559)\ttotal: 38.5s\tremaining: 3.12s\n",
      "925:\tlearn: 0.1095147\ttest: 0.1327142\tbest: 0.1313277 (559)\ttotal: 38.6s\tremaining: 3.08s\n",
      "926:\tlearn: 0.1094588\ttest: 0.1326667\tbest: 0.1313277 (559)\ttotal: 38.6s\tremaining: 3.04s\n",
      "927:\tlearn: 0.1093979\ttest: 0.1326225\tbest: 0.1313277 (559)\ttotal: 38.7s\tremaining: 3s\n",
      "928:\tlearn: 0.1093622\ttest: 0.1326031\tbest: 0.1313277 (559)\ttotal: 38.7s\tremaining: 2.96s\n",
      "929:\tlearn: 0.1093114\ttest: 0.1326591\tbest: 0.1313277 (559)\ttotal: 38.8s\tremaining: 2.92s\n",
      "930:\tlearn: 0.1092883\ttest: 0.1326309\tbest: 0.1313277 (559)\ttotal: 38.8s\tremaining: 2.87s\n",
      "931:\tlearn: 0.1092383\ttest: 0.1326358\tbest: 0.1313277 (559)\ttotal: 38.8s\tremaining: 2.83s\n",
      "932:\tlearn: 0.1091763\ttest: 0.1326470\tbest: 0.1313277 (559)\ttotal: 38.9s\tremaining: 2.79s\n",
      "933:\tlearn: 0.1091008\ttest: 0.1326417\tbest: 0.1313277 (559)\ttotal: 38.9s\tremaining: 2.75s\n",
      "934:\tlearn: 0.1090840\ttest: 0.1326556\tbest: 0.1313277 (559)\ttotal: 39s\tremaining: 2.71s\n",
      "935:\tlearn: 0.1090664\ttest: 0.1326650\tbest: 0.1313277 (559)\ttotal: 39s\tremaining: 2.67s\n",
      "936:\tlearn: 0.1090392\ttest: 0.1326328\tbest: 0.1313277 (559)\ttotal: 39.1s\tremaining: 2.63s\n",
      "937:\tlearn: 0.1090035\ttest: 0.1326675\tbest: 0.1313277 (559)\ttotal: 39.1s\tremaining: 2.59s\n",
      "938:\tlearn: 0.1090035\ttest: 0.1326676\tbest: 0.1313277 (559)\ttotal: 39.2s\tremaining: 2.54s\n",
      "939:\tlearn: 0.1089866\ttest: 0.1326832\tbest: 0.1313277 (559)\ttotal: 39.2s\tremaining: 2.5s\n",
      "940:\tlearn: 0.1089079\ttest: 0.1326927\tbest: 0.1313277 (559)\ttotal: 39.2s\tremaining: 2.46s\n",
      "941:\tlearn: 0.1088794\ttest: 0.1327188\tbest: 0.1313277 (559)\ttotal: 39.3s\tremaining: 2.42s\n",
      "942:\tlearn: 0.1088703\ttest: 0.1327211\tbest: 0.1313277 (559)\ttotal: 39.4s\tremaining: 2.38s\n",
      "943:\tlearn: 0.1088703\ttest: 0.1327210\tbest: 0.1313277 (559)\ttotal: 39.4s\tremaining: 2.34s\n",
      "944:\tlearn: 0.1088537\ttest: 0.1327281\tbest: 0.1313277 (559)\ttotal: 39.4s\tremaining: 2.29s\n",
      "945:\tlearn: 0.1087918\ttest: 0.1327800\tbest: 0.1313277 (559)\ttotal: 39.5s\tremaining: 2.25s\n",
      "946:\tlearn: 0.1087663\ttest: 0.1327666\tbest: 0.1313277 (559)\ttotal: 39.5s\tremaining: 2.21s\n",
      "947:\tlearn: 0.1087622\ttest: 0.1327708\tbest: 0.1313277 (559)\ttotal: 39.6s\tremaining: 2.17s\n",
      "948:\tlearn: 0.1087403\ttest: 0.1327599\tbest: 0.1313277 (559)\ttotal: 39.6s\tremaining: 2.13s\n",
      "949:\tlearn: 0.1087207\ttest: 0.1327619\tbest: 0.1313277 (559)\ttotal: 39.7s\tremaining: 2.09s\n",
      "950:\tlearn: 0.1086964\ttest: 0.1327806\tbest: 0.1313277 (559)\ttotal: 39.7s\tremaining: 2.04s\n"
     ]
    },
    {
     "name": "stdout",
     "output_type": "stream",
     "text": [
      "951:\tlearn: 0.1086660\ttest: 0.1327662\tbest: 0.1313277 (559)\ttotal: 39.8s\tremaining: 2s\n",
      "952:\tlearn: 0.1086419\ttest: 0.1327940\tbest: 0.1313277 (559)\ttotal: 39.8s\tremaining: 1.96s\n",
      "953:\tlearn: 0.1086183\ttest: 0.1328030\tbest: 0.1313277 (559)\ttotal: 39.8s\tremaining: 1.92s\n",
      "954:\tlearn: 0.1085854\ttest: 0.1327560\tbest: 0.1313277 (559)\ttotal: 39.9s\tremaining: 1.88s\n",
      "955:\tlearn: 0.1085688\ttest: 0.1327697\tbest: 0.1313277 (559)\ttotal: 39.9s\tremaining: 1.84s\n",
      "956:\tlearn: 0.1085677\ttest: 0.1327693\tbest: 0.1313277 (559)\ttotal: 39.9s\tremaining: 1.79s\n",
      "957:\tlearn: 0.1084882\ttest: 0.1327822\tbest: 0.1313277 (559)\ttotal: 40s\tremaining: 1.75s\n",
      "958:\tlearn: 0.1084454\ttest: 0.1328084\tbest: 0.1313277 (559)\ttotal: 40s\tremaining: 1.71s\n",
      "959:\tlearn: 0.1084109\ttest: 0.1328044\tbest: 0.1313277 (559)\ttotal: 40.1s\tremaining: 1.67s\n",
      "960:\tlearn: 0.1083585\ttest: 0.1328184\tbest: 0.1313277 (559)\ttotal: 40.1s\tremaining: 1.63s\n",
      "961:\tlearn: 0.1083108\ttest: 0.1327942\tbest: 0.1313277 (559)\ttotal: 40.1s\tremaining: 1.58s\n",
      "962:\tlearn: 0.1082575\ttest: 0.1327952\tbest: 0.1313277 (559)\ttotal: 40.2s\tremaining: 1.54s\n",
      "963:\tlearn: 0.1082279\ttest: 0.1327870\tbest: 0.1313277 (559)\ttotal: 40.2s\tremaining: 1.5s\n",
      "964:\tlearn: 0.1081668\ttest: 0.1327853\tbest: 0.1313277 (559)\ttotal: 40.3s\tremaining: 1.46s\n",
      "965:\tlearn: 0.1081632\ttest: 0.1327862\tbest: 0.1313277 (559)\ttotal: 40.3s\tremaining: 1.42s\n",
      "966:\tlearn: 0.1081109\ttest: 0.1327987\tbest: 0.1313277 (559)\ttotal: 40.4s\tremaining: 1.38s\n",
      "967:\tlearn: 0.1080236\ttest: 0.1327725\tbest: 0.1313277 (559)\ttotal: 40.4s\tremaining: 1.34s\n",
      "968:\tlearn: 0.1079660\ttest: 0.1327254\tbest: 0.1313277 (559)\ttotal: 40.5s\tremaining: 1.29s\n",
      "969:\tlearn: 0.1079655\ttest: 0.1327281\tbest: 0.1313277 (559)\ttotal: 40.5s\tremaining: 1.25s\n",
      "970:\tlearn: 0.1078762\ttest: 0.1327497\tbest: 0.1313277 (559)\ttotal: 40.5s\tremaining: 1.21s\n",
      "971:\tlearn: 0.1078482\ttest: 0.1327766\tbest: 0.1313277 (559)\ttotal: 40.6s\tremaining: 1.17s\n",
      "972:\tlearn: 0.1078341\ttest: 0.1327852\tbest: 0.1313277 (559)\ttotal: 40.6s\tremaining: 1.13s\n",
      "973:\tlearn: 0.1078190\ttest: 0.1328074\tbest: 0.1313277 (559)\ttotal: 40.7s\tremaining: 1.08s\n",
      "974:\tlearn: 0.1077882\ttest: 0.1328147\tbest: 0.1313277 (559)\ttotal: 40.7s\tremaining: 1.04s\n",
      "975:\tlearn: 0.1077468\ttest: 0.1328345\tbest: 0.1313277 (559)\ttotal: 40.8s\tremaining: 1s\n",
      "976:\tlearn: 0.1077239\ttest: 0.1328306\tbest: 0.1313277 (559)\ttotal: 40.8s\tremaining: 960ms\n",
      "977:\tlearn: 0.1077239\ttest: 0.1328305\tbest: 0.1313277 (559)\ttotal: 40.8s\tremaining: 918ms\n",
      "978:\tlearn: 0.1077164\ttest: 0.1328290\tbest: 0.1313277 (559)\ttotal: 40.9s\tremaining: 877ms\n",
      "979:\tlearn: 0.1076885\ttest: 0.1328558\tbest: 0.1313277 (559)\ttotal: 40.9s\tremaining: 835ms\n",
      "980:\tlearn: 0.1076542\ttest: 0.1328660\tbest: 0.1313277 (559)\ttotal: 41s\tremaining: 793ms\n",
      "981:\tlearn: 0.1076237\ttest: 0.1328988\tbest: 0.1313277 (559)\ttotal: 41s\tremaining: 752ms\n",
      "982:\tlearn: 0.1076210\ttest: 0.1328982\tbest: 0.1313277 (559)\ttotal: 41.1s\tremaining: 710ms\n",
      "983:\tlearn: 0.1076201\ttest: 0.1328978\tbest: 0.1313277 (559)\ttotal: 41.1s\tremaining: 669ms\n",
      "984:\tlearn: 0.1075248\ttest: 0.1328936\tbest: 0.1313277 (559)\ttotal: 41.1s\tremaining: 627ms\n",
      "985:\tlearn: 0.1074940\ttest: 0.1329163\tbest: 0.1313277 (559)\ttotal: 41.2s\tremaining: 585ms\n",
      "986:\tlearn: 0.1074686\ttest: 0.1329123\tbest: 0.1313277 (559)\ttotal: 41.2s\tremaining: 543ms\n",
      "987:\tlearn: 0.1074192\ttest: 0.1329547\tbest: 0.1313277 (559)\ttotal: 41.3s\tremaining: 501ms\n",
      "988:\tlearn: 0.1073535\ttest: 0.1329730\tbest: 0.1313277 (559)\ttotal: 41.3s\tremaining: 460ms\n",
      "989:\tlearn: 0.1073287\ttest: 0.1329885\tbest: 0.1313277 (559)\ttotal: 41.4s\tremaining: 418ms\n",
      "990:\tlearn: 0.1072997\ttest: 0.1329904\tbest: 0.1313277 (559)\ttotal: 41.4s\tremaining: 376ms\n",
      "991:\tlearn: 0.1072539\ttest: 0.1329827\tbest: 0.1313277 (559)\ttotal: 41.5s\tremaining: 335ms\n",
      "992:\tlearn: 0.1072197\ttest: 0.1330066\tbest: 0.1313277 (559)\ttotal: 41.5s\tremaining: 293ms\n",
      "993:\tlearn: 0.1072197\ttest: 0.1330069\tbest: 0.1313277 (559)\ttotal: 41.5s\tremaining: 251ms\n",
      "994:\tlearn: 0.1071967\ttest: 0.1330210\tbest: 0.1313277 (559)\ttotal: 41.6s\tremaining: 209ms\n",
      "995:\tlearn: 0.1071464\ttest: 0.1330228\tbest: 0.1313277 (559)\ttotal: 41.6s\tremaining: 167ms\n",
      "996:\tlearn: 0.1071134\ttest: 0.1330338\tbest: 0.1313277 (559)\ttotal: 41.7s\tremaining: 125ms\n",
      "997:\tlearn: 0.1070840\ttest: 0.1330854\tbest: 0.1313277 (559)\ttotal: 41.7s\tremaining: 83.6ms\n",
      "998:\tlearn: 0.1070244\ttest: 0.1331257\tbest: 0.1313277 (559)\ttotal: 41.7s\tremaining: 41.8ms\n",
      "999:\tlearn: 0.1069919\ttest: 0.1331504\tbest: 0.1313277 (559)\ttotal: 41.8s\tremaining: 0us\n",
      "\n",
      "bestTest = 0.1313277493\n",
      "bestIteration = 559\n",
      "\n",
      "Shrink model to first 560 iterations.\n"
     ]
    },
    {
     "data": {
      "text/plain": [
       "<catboost.core.CatBoostClassifier at 0x7f00258d62b0>"
      ]
     },
     "execution_count": 12,
     "metadata": {},
     "output_type": "execute_result"
    }
   ],
   "source": [
    "model = CatBoostClassifier(\n",
    "                            iterations = 1000\n",
    ")\n",
    "\n",
    "model.fit(train_pool, eval_set = val_pool)"
   ]
  },
  {
   "cell_type": "code",
   "execution_count": 13,
   "id": "9350a8fb",
   "metadata": {},
   "outputs": [
    {
     "data": {
      "application/vnd.jupyter.widget-view+json": {
       "model_id": "5c9ccb2721474eaebba18edf80bf7da0",
       "version_major": 2,
       "version_minor": 0
      },
      "text/plain": [
       "MetricVisualizer(layout=Layout(align_self='stretch', height='500px'))"
      ]
     },
     "metadata": {},
     "output_type": "display_data"
    },
    {
     "data": {
      "text/plain": [
       "<catboost.core.CatBoostClassifier at 0x7effd6cb5220>"
      ]
     },
     "execution_count": 13,
     "metadata": {},
     "output_type": "execute_result"
    }
   ],
   "source": [
    "model = CatBoostClassifier(\n",
    "                            iterations=50,\n",
    "                            learning_rate=0.5,\n",
    "                            custom_loss=['AUC', 'Accuracy']\n",
    ")\n",
    "\n",
    "model.fit(\n",
    "            train_pool,\n",
    "            eval_set = val_pool,\n",
    "            verbose = False,\n",
    "            plot = True\n",
    ")"
   ]
  },
  {
   "cell_type": "code",
   "execution_count": 14,
   "id": "696f1a4e",
   "metadata": {},
   "outputs": [
    {
     "name": "stdout",
     "output_type": "stream",
     "text": [
      "0:\tlearn: 0.3264513\ttest: 0.3248170\tbest: 0.3248170 (0)\ttotal: 19.9ms\tremaining: 1.98s\n",
      "20:\tlearn: 0.1688825\ttest: 0.1574182\tbest: 0.1573949 (16)\ttotal: 239ms\tremaining: 898ms\n",
      "40:\tlearn: 0.1632884\ttest: 0.1582531\tbest: 0.1571533 (23)\ttotal: 461ms\tremaining: 663ms\n",
      "60:\tlearn: 0.1584388\ttest: 0.1573279\tbest: 0.1569712 (52)\ttotal: 681ms\tremaining: 436ms\n",
      "80:\tlearn: 0.1544303\ttest: 0.1583341\tbest: 0.1569712 (52)\ttotal: 886ms\tremaining: 208ms\n",
      "99:\tlearn: 0.1510431\ttest: 0.1583618\tbest: 0.1569712 (52)\ttotal: 1.07s\tremaining: 0us\n",
      "\n",
      "bestTest = 0.1569712214\n",
      "bestIteration = 52\n",
      "\n",
      "Shrink model to first 53 iterations.\n",
      "0:\tlearn: 0.6853769\ttest: 0.6853610\tbest: 0.6853610 (0)\ttotal: 18.4ms\tremaining: 1.82s\n",
      "20:\tlearn: 0.5575578\ttest: 0.5568257\tbest: 0.5568257 (20)\ttotal: 162ms\tremaining: 609ms\n",
      "40:\tlearn: 0.4678112\ttest: 0.4663769\tbest: 0.4663769 (40)\ttotal: 342ms\tremaining: 493ms\n",
      "60:\tlearn: 0.4029225\ttest: 0.4011544\tbest: 0.4011544 (60)\ttotal: 480ms\tremaining: 307ms\n",
      "80:\tlearn: 0.3551621\ttest: 0.3530433\tbest: 0.3530433 (80)\ttotal: 628ms\tremaining: 147ms\n",
      "99:\tlearn: 0.3211782\ttest: 0.3188600\tbest: 0.3188600 (99)\ttotal: 757ms\tremaining: 0us\n",
      "\n",
      "bestTest = 0.3188600187\n",
      "bestIteration = 99\n",
      "\n"
     ]
    },
    {
     "data": {
      "text/plain": [
       "<catboost.core.CatBoostClassifier at 0x7effd6cb5be0>"
      ]
     },
     "execution_count": 14,
     "metadata": {},
     "output_type": "execute_result"
    }
   ],
   "source": [
    "model1 = CatBoostClassifier(\n",
    "                            iterations=100,\n",
    "                            learning_rate=0.7,\n",
    "                            train_dir='learning_rate_0.7'\n",
    ")\n",
    "\n",
    "model2 = CatBoostClassifier(\n",
    "                            iterations=100,\n",
    "                            learning_rate=0.01,\n",
    "                            train_dir='learning_rate_0.01'\n",
    ")\n",
    "\n",
    "model1.fit(train_pool, eval_set=val_pool, verbose=20)\n",
    "model2.fit(train_pool, eval_set=val_pool, verbose=20)"
   ]
  },
  {
   "cell_type": "code",
   "execution_count": 15,
   "id": "01404236",
   "metadata": {},
   "outputs": [
    {
     "data": {
      "application/vnd.jupyter.widget-view+json": {
       "model_id": "9047e905a815444f9fa3045d919476b1",
       "version_major": 2,
       "version_minor": 0
      },
      "text/plain": [
       "MetricVisualizer(layout=Layout(align_self='stretch', height='500px'))"
      ]
     },
     "metadata": {},
     "output_type": "display_data"
    }
   ],
   "source": [
    "from catboost import MetricVisualizer\n",
    "\n",
    "MetricVisualizer(['learning_rate_0.7', 'learning_rate_0.01']).start()"
   ]
  },
  {
   "cell_type": "markdown",
   "id": "4fc1cb2c",
   "metadata": {},
   "source": [
    "Green line is the overfitting one. It's error will increase after 50\\\n",
    "Blue line is underfit now, but if we increase the number of iterartion then it will properly fit"
   ]
  },
  {
   "cell_type": "markdown",
   "id": "ad475972",
   "metadata": {},
   "source": [
    "If there is overfitting then we can take the iterations till the point it gives the best or i can say min. error"
   ]
  },
  {
   "cell_type": "code",
   "execution_count": 16,
   "id": "e5813cc7",
   "metadata": {},
   "outputs": [
    {
     "data": {
      "application/vnd.jupyter.widget-view+json": {
       "model_id": "20ba71e93b7d490298b32a15b57e75e2",
       "version_major": 2,
       "version_minor": 0
      },
      "text/plain": [
       "MetricVisualizer(layout=Layout(align_self='stretch', height='500px'))"
      ]
     },
     "metadata": {},
     "output_type": "display_data"
    },
    {
     "data": {
      "text/plain": [
       "<catboost.core.CatBoostClassifier at 0x7effd6cb5d90>"
      ]
     },
     "execution_count": 16,
     "metadata": {},
     "output_type": "execute_result"
    }
   ],
   "source": [
    "model = CatBoostClassifier(\n",
    "                            iterations=500\n",
    ")\n",
    "\n",
    "model.fit(\n",
    "            train_pool,\n",
    "            eval_set=val_pool,\n",
    "            verbose=False,\n",
    "            plot = True\n",
    ")"
   ]
  },
  {
   "cell_type": "code",
   "execution_count": 17,
   "id": "14bea0ca",
   "metadata": {},
   "outputs": [
    {
     "name": "stdout",
     "output_type": "stream",
     "text": [
      "Tree count = 293\n"
     ]
    }
   ],
   "source": [
    "print('Tree count = {}'.format(model.tree_count_))"
   ]
  },
  {
   "cell_type": "markdown",
   "id": "4ab45a4c",
   "metadata": {},
   "source": [
    "# cross validation"
   ]
  },
  {
   "cell_type": "markdown",
   "id": "8bba4a45",
   "metadata": {},
   "source": [
    "here by default cross-validation is stratified i.e when it splittes or flods the data it make sure that each type is present in same amount in all the fold.\\\n",
    "In our case the datset is unbalance so we have to stratified it"
   ]
  },
  {
   "cell_type": "code",
   "execution_count": 18,
   "id": "385380a2",
   "metadata": {},
   "outputs": [
    {
     "data": {
      "application/vnd.jupyter.widget-view+json": {
       "model_id": "2d162fc7600a4560b1a515d6236a0d00",
       "version_major": 2,
       "version_minor": 0
      },
      "text/plain": [
       "MetricVisualizer(layout=Layout(align_self='stretch', height='500px'))"
      ]
     },
     "metadata": {},
     "output_type": "display_data"
    },
    {
     "name": "stdout",
     "output_type": "stream",
     "text": [
      "Training on fold [0/5]\n",
      "\n",
      "bestTest = 0.1422216734\n",
      "bestIteration = 176\n",
      "\n",
      "Training on fold [1/5]\n",
      "\n",
      "bestTest = 0.142385316\n",
      "bestIteration = 194\n",
      "\n",
      "Training on fold [2/5]\n",
      "\n",
      "bestTest = 0.1532357117\n",
      "bestIteration = 140\n",
      "\n",
      "Training on fold [3/5]\n",
      "\n",
      "bestTest = 0.1407780239\n",
      "bestIteration = 184\n",
      "\n",
      "Training on fold [4/5]\n",
      "\n",
      "bestTest = 0.1464974816\n",
      "bestIteration = 169\n",
      "\n"
     ]
    }
   ],
   "source": [
    "from catboost import cv\n",
    "\n",
    "params = {\n",
    "    'loss_function': 'Logloss',\n",
    "    'iterations': 200,\n",
    "    'custom_loss': 'AUC',\n",
    "    'learning_rate': 0.1,\n",
    "    \n",
    "}\n",
    "\n",
    "cv_data = cv(\n",
    "    params=params,\n",
    "    pool = train_pool,\n",
    "    fold_count=5,\n",
    "    shuffle=True,\n",
    "    partition_random_seed=0,\n",
    "    plot = True,\n",
    "    verbose=False\n",
    ")"
   ]
  },
  {
   "cell_type": "code",
   "execution_count": 19,
   "id": "d655e700",
   "metadata": {},
   "outputs": [
    {
     "data": {
      "text/html": [
       "<div>\n",
       "<style scoped>\n",
       "    .dataframe tbody tr th:only-of-type {\n",
       "        vertical-align: middle;\n",
       "    }\n",
       "\n",
       "    .dataframe tbody tr th {\n",
       "        vertical-align: top;\n",
       "    }\n",
       "\n",
       "    .dataframe thead th {\n",
       "        text-align: right;\n",
       "    }\n",
       "</style>\n",
       "<table border=\"1\" class=\"dataframe\">\n",
       "  <thead>\n",
       "    <tr style=\"text-align: right;\">\n",
       "      <th></th>\n",
       "      <th>iterations</th>\n",
       "      <th>test-Logloss-mean</th>\n",
       "      <th>test-Logloss-std</th>\n",
       "      <th>train-Logloss-mean</th>\n",
       "      <th>train-Logloss-std</th>\n",
       "      <th>test-AUC-mean</th>\n",
       "      <th>test-AUC-std</th>\n",
       "    </tr>\n",
       "  </thead>\n",
       "  <tbody>\n",
       "    <tr>\n",
       "      <th>0</th>\n",
       "      <td>0</td>\n",
       "      <td>0.581247</td>\n",
       "      <td>0.000047</td>\n",
       "      <td>0.581239</td>\n",
       "      <td>0.000035</td>\n",
       "      <td>0.519327</td>\n",
       "      <td>0.016610</td>\n",
       "    </tr>\n",
       "    <tr>\n",
       "      <th>1</th>\n",
       "      <td>1</td>\n",
       "      <td>0.493035</td>\n",
       "      <td>0.000296</td>\n",
       "      <td>0.493677</td>\n",
       "      <td>0.000183</td>\n",
       "      <td>0.574491</td>\n",
       "      <td>0.009537</td>\n",
       "    </tr>\n",
       "    <tr>\n",
       "      <th>2</th>\n",
       "      <td>2</td>\n",
       "      <td>0.426118</td>\n",
       "      <td>0.000150</td>\n",
       "      <td>0.427191</td>\n",
       "      <td>0.000250</td>\n",
       "      <td>0.607724</td>\n",
       "      <td>0.014645</td>\n",
       "    </tr>\n",
       "    <tr>\n",
       "      <th>3</th>\n",
       "      <td>3</td>\n",
       "      <td>0.377815</td>\n",
       "      <td>0.000101</td>\n",
       "      <td>0.378696</td>\n",
       "      <td>0.000211</td>\n",
       "      <td>0.607724</td>\n",
       "      <td>0.014645</td>\n",
       "    </tr>\n",
       "    <tr>\n",
       "      <th>4</th>\n",
       "      <td>4</td>\n",
       "      <td>0.339371</td>\n",
       "      <td>0.001135</td>\n",
       "      <td>0.340109</td>\n",
       "      <td>0.001140</td>\n",
       "      <td>0.630290</td>\n",
       "      <td>0.032263</td>\n",
       "    </tr>\n",
       "    <tr>\n",
       "      <th>5</th>\n",
       "      <td>5</td>\n",
       "      <td>0.308738</td>\n",
       "      <td>0.001337</td>\n",
       "      <td>0.309452</td>\n",
       "      <td>0.001114</td>\n",
       "      <td>0.674826</td>\n",
       "      <td>0.018185</td>\n",
       "    </tr>\n",
       "    <tr>\n",
       "      <th>6</th>\n",
       "      <td>6</td>\n",
       "      <td>0.287014</td>\n",
       "      <td>0.001882</td>\n",
       "      <td>0.287711</td>\n",
       "      <td>0.001746</td>\n",
       "      <td>0.685904</td>\n",
       "      <td>0.021819</td>\n",
       "    </tr>\n",
       "    <tr>\n",
       "      <th>7</th>\n",
       "      <td>7</td>\n",
       "      <td>0.267314</td>\n",
       "      <td>0.001140</td>\n",
       "      <td>0.268241</td>\n",
       "      <td>0.001155</td>\n",
       "      <td>0.726602</td>\n",
       "      <td>0.025837</td>\n",
       "    </tr>\n",
       "    <tr>\n",
       "      <th>8</th>\n",
       "      <td>8</td>\n",
       "      <td>0.252123</td>\n",
       "      <td>0.002173</td>\n",
       "      <td>0.253272</td>\n",
       "      <td>0.001826</td>\n",
       "      <td>0.739586</td>\n",
       "      <td>0.020460</td>\n",
       "    </tr>\n",
       "    <tr>\n",
       "      <th>9</th>\n",
       "      <td>9</td>\n",
       "      <td>0.237233</td>\n",
       "      <td>0.003636</td>\n",
       "      <td>0.239515</td>\n",
       "      <td>0.002467</td>\n",
       "      <td>0.772115</td>\n",
       "      <td>0.024274</td>\n",
       "    </tr>\n",
       "  </tbody>\n",
       "</table>\n",
       "</div>"
      ],
      "text/plain": [
       "   iterations  test-Logloss-mean  test-Logloss-std  train-Logloss-mean  \\\n",
       "0           0           0.581247          0.000047            0.581239   \n",
       "1           1           0.493035          0.000296            0.493677   \n",
       "2           2           0.426118          0.000150            0.427191   \n",
       "3           3           0.377815          0.000101            0.378696   \n",
       "4           4           0.339371          0.001135            0.340109   \n",
       "5           5           0.308738          0.001337            0.309452   \n",
       "6           6           0.287014          0.001882            0.287711   \n",
       "7           7           0.267314          0.001140            0.268241   \n",
       "8           8           0.252123          0.002173            0.253272   \n",
       "9           9           0.237233          0.003636            0.239515   \n",
       "\n",
       "   train-Logloss-std  test-AUC-mean  test-AUC-std  \n",
       "0           0.000035       0.519327      0.016610  \n",
       "1           0.000183       0.574491      0.009537  \n",
       "2           0.000250       0.607724      0.014645  \n",
       "3           0.000211       0.607724      0.014645  \n",
       "4           0.001140       0.630290      0.032263  \n",
       "5           0.001114       0.674826      0.018185  \n",
       "6           0.001746       0.685904      0.021819  \n",
       "7           0.001155       0.726602      0.025837  \n",
       "8           0.001826       0.739586      0.020460  \n",
       "9           0.002467       0.772115      0.024274  "
      ]
     },
     "execution_count": 19,
     "metadata": {},
     "output_type": "execute_result"
    }
   ],
   "source": [
    "cv_data.head(10)"
   ]
  },
  {
   "cell_type": "code",
   "execution_count": 20,
   "id": "2386c6bb",
   "metadata": {},
   "outputs": [
    {
     "name": "stdout",
     "output_type": "stream",
     "text": [
      "Best validation Logloss score, not stratified: 0.1452±0.0051\n"
     ]
    }
   ],
   "source": [
    "best_value = np.min(cv_data['test-Logloss-mean'])\n",
    "best_iter = np.argmin(cv_data['test-Logloss-mean'])\n",
    "\n",
    "print('Best validation Logloss score, not stratified: {:.4f}±{:.4f}'.format(\n",
    "    best_value,\n",
    "    cv_data['test-Logloss-std'][best_iter],\n",
    "    best_iter)\n",
    ")"
   ]
  },
  {
   "cell_type": "code",
   "execution_count": 21,
   "id": "b1b68037",
   "metadata": {},
   "outputs": [
    {
     "data": {
      "application/vnd.jupyter.widget-view+json": {
       "model_id": "fb0add2bfe184730bf0766dc65811561",
       "version_major": 2,
       "version_minor": 0
      },
      "text/plain": [
       "MetricVisualizer(layout=Layout(align_self='stretch', height='500px'))"
      ]
     },
     "metadata": {},
     "output_type": "display_data"
    },
    {
     "name": "stdout",
     "output_type": "stream",
     "text": [
      "Training on fold [0/5]\n",
      "\n",
      "bestTest = 0.1352226085\n",
      "bestIteration = 193\n",
      "\n",
      "Training on fold [1/5]\n",
      "\n",
      "bestTest = 0.1516431879\n",
      "bestIteration = 190\n",
      "\n",
      "Training on fold [2/5]\n",
      "\n",
      "bestTest = 0.1535427964\n",
      "bestIteration = 129\n",
      "\n",
      "Training on fold [3/5]\n",
      "\n",
      "bestTest = 0.1333757494\n",
      "bestIteration = 198\n",
      "\n",
      "Training on fold [4/5]\n",
      "\n",
      "bestTest = 0.1505907343\n",
      "bestIteration = 197\n",
      "\n"
     ]
    }
   ],
   "source": [
    "params = {\n",
    "    'loss_function': 'Logloss',\n",
    "    'iterations': 200,\n",
    "    'custom_loss': 'AUC',\n",
    "    'learning_rate': 0.1,\n",
    "    \n",
    "}\n",
    "\n",
    "cv_data = cv(\n",
    "    params=params,\n",
    "    pool = train_pool,\n",
    "    fold_count=5,\n",
    "    shuffle=True,\n",
    "    partition_random_seed=0,\n",
    "    plot = True,\n",
    "    verbose=False,\n",
    "    stratified = False\n",
    ")"
   ]
  },
  {
   "cell_type": "markdown",
   "id": "f14321c2",
   "metadata": {},
   "source": [
    "# GridSearchCV"
   ]
  },
  {
   "cell_type": "code",
   "execution_count": 22,
   "id": "ad58807c",
   "metadata": {
    "scrolled": true
   },
   "outputs": [
    {
     "name": "stdout",
     "output_type": "stream",
     "text": [
      "0:\tlearn: 0.6853697\ttotal: 16.6ms\tremaining: 315ms\n",
      "19:\tlearn: 0.5629448\ttotal: 171ms\tremaining: 0us\n",
      "0:\tlearn: 0.6853705\ttotal: 3.42ms\tremaining: 65ms\n",
      "19:\tlearn: 0.5629242\ttotal: 128ms\tremaining: 0us\n",
      "0:\tlearn: 0.6853756\ttotal: 8.42ms\tremaining: 160ms\n",
      "19:\tlearn: 0.5630543\ttotal: 160ms\tremaining: 0us\n",
      "0:\tlearn: 0.6853683\ttotal: 6.22ms\tremaining: 118ms\n",
      "19:\tlearn: 0.5629443\ttotal: 73.8ms\tremaining: 0us\n",
      "0:\tlearn: 0.6853686\ttotal: 3.77ms\tremaining: 71.6ms\n",
      "19:\tlearn: 0.5629147\ttotal: 116ms\tremaining: 0us\n",
      "0:\tlearn: 0.6188811\ttotal: 7.38ms\tremaining: 140ms\n",
      "19:\tlearn: 0.2303799\ttotal: 153ms\tremaining: 0us\n",
      "0:\tlearn: 0.6188892\ttotal: 13.6ms\tremaining: 259ms\n",
      "19:\tlearn: 0.2311997\ttotal: 174ms\tremaining: 0us\n",
      "0:\tlearn: 0.6189377\ttotal: 6.31ms\tremaining: 120ms\n",
      "19:\tlearn: 0.2303678\ttotal: 114ms\tremaining: 0us\n",
      "0:\tlearn: 0.6188678\ttotal: 8.12ms\tremaining: 154ms\n",
      "19:\tlearn: 0.2311620\ttotal: 135ms\tremaining: 0us\n",
      "0:\tlearn: 0.6188709\ttotal: 13.2ms\tremaining: 251ms\n",
      "19:\tlearn: 0.2322971\ttotal: 210ms\tremaining: 0us\n",
      "0:\tlearn: 0.3968901\ttotal: 18.2ms\tremaining: 346ms\n",
      "19:\tlearn: 0.1731377\ttotal: 221ms\tremaining: 0us\n",
      "0:\tlearn: 0.3969227\ttotal: 5.96ms\tremaining: 113ms\n",
      "19:\tlearn: 0.1745931\ttotal: 127ms\tremaining: 0us\n",
      "0:\tlearn: 0.3971229\ttotal: 4.55ms\tremaining: 86.5ms\n",
      "19:\tlearn: 0.1757397\ttotal: 142ms\tremaining: 0us\n",
      "0:\tlearn: 0.3968352\ttotal: 4.41ms\tremaining: 83.7ms\n",
      "19:\tlearn: 0.1747199\ttotal: 124ms\tremaining: 0us\n",
      "0:\tlearn: 0.3968473\ttotal: 4.58ms\tremaining: 86.9ms\n",
      "19:\tlearn: 0.1737470\ttotal: 163ms\tremaining: 0us\n",
      "0:\tlearn: 0.3971379\ttotal: 8.62ms\tremaining: 164ms\n",
      "19:\tlearn: 0.1717590\ttotal: 256ms\tremaining: 0us\n"
     ]
    },
    {
     "data": {
      "text/plain": [
       "{'iterations': 20,\n",
       " 'learning_rate': 0.5,\n",
       " 'verbose': 20,\n",
       " 'cat_features': [0, 1, 2, 3, 4, 5, 6, 7, 8]}"
      ]
     },
     "execution_count": 22,
     "metadata": {},
     "output_type": "execute_result"
    }
   ],
   "source": [
    "from sklearn.model_selection import GridSearchCV\n",
    "\n",
    "param_grid = {\n",
    "    \"learning_rate\": [0.01, 0.1, 0.5]\n",
    "}\n",
    "\n",
    "clf = CatBoostClassifier(\n",
    "    iterations=20,\n",
    "    cat_features=cat_features,\n",
    "    verbose=20\n",
    ")\n",
    "\n",
    "grid_search = GridSearchCV(clf, param_grid=param_grid, cv = 5)\n",
    "results = grid_search.fit(x_train, y_train)\n",
    "results.best_estimator_.get_params()"
   ]
  },
  {
   "cell_type": "markdown",
   "id": "87d97078",
   "metadata": {},
   "source": [
    "# Overfitting detector"
   ]
  },
  {
   "cell_type": "code",
   "execution_count": 24,
   "id": "936b92a9",
   "metadata": {},
   "outputs": [
    {
     "data": {
      "application/vnd.jupyter.widget-view+json": {
       "model_id": "c8629e0258354481bab662fe646f1671",
       "version_major": 2,
       "version_minor": 0
      },
      "text/plain": [
       "MetricVisualizer(layout=Layout(align_self='stretch', height='500px'))"
      ]
     },
     "metadata": {},
     "output_type": "display_data"
    },
    {
     "data": {
      "text/plain": [
       "<catboost.core.CatBoostClassifier at 0x7effd4cd0040>"
      ]
     },
     "execution_count": 24,
     "metadata": {},
     "output_type": "execute_result"
    }
   ],
   "source": [
    "model_with_early_stop = CatBoostClassifier(\n",
    "    iterations=200,\n",
    "    learning_rate=0.5,\n",
    "    early_stopping_rounds=20           # if for 20 values the values of min. error does not decrease then stop\n",
    ")\n",
    "\n",
    "model_with_early_stop.fit(\n",
    "    train_pool, \n",
    "    eval_set=val_pool,\n",
    "    verbose=False,\n",
    "    plot = True\n",
    ")"
   ]
  },
  {
   "cell_type": "markdown",
   "id": "d90deaa5",
   "metadata": {},
   "source": [
    "# Overfitting detector with eval metric"
   ]
  },
  {
   "cell_type": "code",
   "execution_count": 25,
   "id": "abdc2f10",
   "metadata": {},
   "outputs": [
    {
     "data": {
      "application/vnd.jupyter.widget-view+json": {
       "model_id": "0d2e49f0d44849f59f5cfc7a3cdc9000",
       "version_major": 2,
       "version_minor": 0
      },
      "text/plain": [
       "MetricVisualizer(layout=Layout(align_self='stretch', height='500px'))"
      ]
     },
     "metadata": {},
     "output_type": "display_data"
    },
    {
     "data": {
      "text/plain": [
       "<catboost.core.CatBoostClassifier at 0x7effd4c75c70>"
      ]
     },
     "execution_count": 25,
     "metadata": {},
     "output_type": "execute_result"
    }
   ],
   "source": [
    "model_with_early_stop = CatBoostClassifier(\n",
    "    iterations=200,\n",
    "    eval_metric='AUC',\n",
    "    learning_rate = 0.5,\n",
    "    early_stopping_rounds=20\n",
    ")\n",
    "\n",
    "model_with_early_stop.fit(\n",
    "    train_pool,\n",
    "    eval_set=val_pool,\n",
    "    verbose=False,\n",
    "    plot = True\n",
    ")"
   ]
  },
  {
   "cell_type": "code",
   "execution_count": 26,
   "id": "71e8c8b1",
   "metadata": {},
   "outputs": [
    {
     "name": "stdout",
     "output_type": "stream",
     "text": [
      "47\n"
     ]
    }
   ],
   "source": [
    "print(model_with_early_stop.tree_count_)"
   ]
  },
  {
   "cell_type": "markdown",
   "id": "1ef52603",
   "metadata": {},
   "source": [
    "# Predictions"
   ]
  },
  {
   "cell_type": "code",
   "execution_count": 27,
   "id": "42487f0f",
   "metadata": {},
   "outputs": [
    {
     "name": "stdout",
     "output_type": "stream",
     "text": [
      "0:\tlearn: 0.6569432\ttotal: 23.2ms\tremaining: 4.62s\n",
      "50:\tlearn: 0.1951547\ttotal: 670ms\tremaining: 1.96s\n",
      "100:\tlearn: 0.1664996\ttotal: 1.58s\tremaining: 1.54s\n",
      "150:\tlearn: 0.1595258\ttotal: 2.95s\tremaining: 957ms\n",
      "199:\tlearn: 0.1558475\ttotal: 7.53s\tremaining: 0us\n"
     ]
    },
    {
     "data": {
      "text/plain": [
       "<catboost.core.CatBoostClassifier at 0x7effd4c8b3d0>"
      ]
     },
     "execution_count": 27,
     "metadata": {},
     "output_type": "execute_result"
    }
   ],
   "source": [
    "model = CatBoostClassifier(iterations=200, learning_rate=0.03)\n",
    "model.fit(train_pool, verbose=50)"
   ]
  },
  {
   "cell_type": "code",
   "execution_count": 29,
   "id": "45ee7c34",
   "metadata": {},
   "outputs": [
    {
     "name": "stdout",
     "output_type": "stream",
     "text": [
      "[1 1 1 ... 1 1 1]\n"
     ]
    }
   ],
   "source": [
    "print(model.predict(x_val))    \n",
    "# this gives prediction in 0 & 1. marrgin set here will be 0.5\n",
    "# not recommended to use this in classification since 0.5 will not be the best always"
   ]
  },
  {
   "cell_type": "code",
   "execution_count": 30,
   "id": "72248b92",
   "metadata": {},
   "outputs": [
    {
     "name": "stdout",
     "output_type": "stream",
     "text": [
      "[[0.0313 0.9687]\n",
      " [0.0221 0.9779]\n",
      " [0.0109 0.9891]\n",
      " ...\n",
      " [0.0426 0.9574]\n",
      " [0.0275 0.9725]\n",
      " [0.0192 0.9808]]\n"
     ]
    }
   ],
   "source": [
    "# insted print probalities\n",
    "print(model.predict_proba(x_val))"
   ]
  },
  {
   "cell_type": "code",
   "execution_count": 32,
   "id": "ac27d24e",
   "metadata": {},
   "outputs": [
    {
     "name": "stdout",
     "output_type": "stream",
     "text": [
      "[3.4309 3.788  4.5062 ... 3.1133 3.5647 3.9341]\n"
     ]
    }
   ],
   "source": [
    "raw_pred = model.predict(\n",
    "    x_val,\n",
    "    prediction_type='RawFormulaVal'  # type of prediction, here we calculating the sum of teh o/p from all trees\n",
    ")\n",
    "\n",
    "print(raw_pred)"
   ]
  },
  {
   "cell_type": "code",
   "execution_count": 33,
   "id": "4d7e6e6c",
   "metadata": {},
   "outputs": [
    {
     "name": "stdout",
     "output_type": "stream",
     "text": [
      "[0.9687 0.9779 0.9891 ... 0.9574 0.9725 0.9808]\n"
     ]
    }
   ],
   "source": [
    "from numpy import exp\n",
    "\n",
    "sigmoid = lambda x: 1 / (1 + exp(-x))\n",
    "\n",
    "probalities = sigmoid(raw_pred)\n",
    "print(probalities)"
   ]
  },
  {
   "cell_type": "markdown",
   "id": "6a1a2588",
   "metadata": {},
   "source": [
    "You can see it is matching with the previous one"
   ]
  },
  {
   "cell_type": "markdown",
   "id": "38c2491f",
   "metadata": {},
   "source": [
    "#### in some cases 0.5 margine is not good"
   ]
  },
  {
   "cell_type": "code",
   "execution_count": null,
   "id": "0fba115c",
   "metadata": {},
   "outputs": [],
   "source": []
  },
  {
   "cell_type": "code",
   "execution_count": null,
   "id": "34f081eb",
   "metadata": {},
   "outputs": [],
   "source": []
  },
  {
   "cell_type": "code",
   "execution_count": null,
   "id": "730a612d",
   "metadata": {},
   "outputs": [],
   "source": []
  },
  {
   "cell_type": "code",
   "execution_count": null,
   "id": "6871c34e",
   "metadata": {},
   "outputs": [],
   "source": []
  },
  {
   "cell_type": "code",
   "execution_count": null,
   "id": "b354235d",
   "metadata": {},
   "outputs": [],
   "source": []
  },
  {
   "cell_type": "code",
   "execution_count": null,
   "id": "8856a403",
   "metadata": {},
   "outputs": [],
   "source": []
  },
  {
   "cell_type": "code",
   "execution_count": null,
   "id": "36e442a3",
   "metadata": {},
   "outputs": [],
   "source": []
  },
  {
   "cell_type": "code",
   "execution_count": null,
   "id": "f83bb426",
   "metadata": {},
   "outputs": [],
   "source": []
  }
 ],
 "metadata": {
  "kernelspec": {
   "display_name": "Python 3",
   "language": "python",
   "name": "python3"
  },
  "language_info": {
   "codemirror_mode": {
    "name": "ipython",
    "version": 3
   },
   "file_extension": ".py",
   "mimetype": "text/x-python",
   "name": "python",
   "nbconvert_exporter": "python",
   "pygments_lexer": "ipython3",
   "version": "3.8.8"
  }
 },
 "nbformat": 4,
 "nbformat_minor": 5
}
